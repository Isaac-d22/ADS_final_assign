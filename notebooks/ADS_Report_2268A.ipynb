{
  "cells": [
    {
      "cell_type": "markdown",
      "id": "0b1e4a6f",
      "metadata": {
        "id": "0b1e4a6f"
      },
      "source": [
        "# Assessment for Advanced Data Science\n",
        "\n",
        "## Christian Cabrera, Radzim Sendyka, Carl Henrik Ek and Neil D. Lawrence\n",
        "\n",
        "### 6th November 2023\n",
        "\n"
      ]
    },
    {
      "cell_type": "markdown",
      "id": "d7856d1b",
      "metadata": {
        "id": "d7856d1b"
      },
      "source": [
        "Welcome to the course assessment for the Advanced Data Science unit. In this assessment you will build a prediction system for UK house prices.\n",
        "\n",
        "Your prediction system will be based on data from the UK Price Paid data available [here](https://www.gov.uk/government/statistical-data-sets/price-paid-data-downloads). By combining this data with the UK Office for National Statistics data on the latitude/longitude of postcodes (available [here](https://www.getthedata.com/open-postcode-geo)) you will have a record of house prices and their approximate latitude/longitude. Due to the size of these data you will use a relational database to handle them.  \n",
        "\n",
        "To make predictions of the house price you will augment your data with information obtained from Open Street Map: an open license source of mapping information. You will use the techniques you have learnt in the course to indentify and incorporate useful features for house price prediction.\n",
        "\n",
        "\n",
        "\n",
        "Alongside your implementation you will provide a short repository overview describing how you have implemented the different parts of the project and where you have placed those parts in your code repository. You will submit your code alongside a version of this notebook that will allow your examiner to understand and reconstruct the thinking behind your analysis. This notebook is structured to help you in creating that description and allow you to understand how we will allocate the marks. You should make use of the Fynesse framework (<https://github.com/lawrennd/fynesse_template>) for structuring your code.\n",
        "\n",
        "Remember the notebook you create should *tell a story*, any code that is not critical to that story can safely be placed into the associated analysis library and imported for use (structured as given in the Fynesse template)\n",
        "\n",
        "The maximum total mark for this assessment is 20. That mark is split into Three Questions below, each worth 5 marks each. Then a final 5 marks will be given for the quality, structure and reusability of the code and analysis you produce giving 20 marks in total. At the end, we would like to know your experience using LLMs in this assignment.\n",
        "\n",
        "### Important Note:\n",
        "\n",
        "*Some tasks in this assignment require you to develop skills for searching for multiple solutions and trying different things. This environment recreates industrial data science and software engineering problems. There is no one right answer.*\n"
      ]
    },
    {
      "cell_type": "markdown",
      "id": "bb7e7c53",
      "metadata": {
        "id": "bb7e7c53"
      },
      "source": [
        "### Useful Links\n",
        "\n",
        "You may find some of the following links useful when building your system.\n",
        "\n",
        "University instuctions on Security and Privacy with AWS.\n",
        "\n",
        "https://help.uis.cam.ac.uk/service/network-services/hosting-services/AWS/aws-security-privacy\n",
        "\n",
        "Security Rules in AWS\n",
        "\n",
        "https://docs.aws.amazon.com/AmazonRDS/latest/UserGuide/USER_VPC.Scenarios.html#USER_VPC.Scenario4"
      ]
    },
    {
      "cell_type": "markdown",
      "id": "9d3ee6ce",
      "metadata": {
        "id": "9d3ee6ce"
      },
      "source": [
        "### Installing Your Library\n",
        "\n",
        "One artefact to be included in your submission is a python library structured according to the \"Access, Assess, Address\" standard for data science solutions. You will submit this library alongside your code. Use the cell below to perform the necessary installation instructions for your library.\n",
        "\n",
        "You should base your module on the template repository given by the Fynesse template repository. That should make it `pip` installable as below.\n",
        "\n"
      ]
    },
    {
      "cell_type": "code",
      "execution_count": 1,
      "id": "13f71cb7",
      "metadata": {
        "id": "13f71cb7"
      },
      "outputs": [
        {
          "name": "stdout",
          "output_type": "stream",
          "text": [
            "\u001b[33mWARNING: Skipping /opt/homebrew/lib/python3.11/site-packages/six-1.16.0-py3.11.egg-info due to invalid metadata entry 'name'\u001b[0m\u001b[33m\n",
            "\u001b[0m\u001b[33mWARNING: Skipping /opt/homebrew/lib/python3.11/site-packages/six-1.16.0-py3.11.egg-info due to invalid metadata entry 'name'\u001b[0m\u001b[33m\n",
            "\u001b[0mCollecting git+https://github.com/Isaac-d22/ADS_final_assign.git\n",
            "  Cloning https://github.com/Isaac-d22/ADS_final_assign.git to /private/var/folders/k3/ghfh_db95gd3y5y75qb_s8v40000gn/T/pip-req-build-1qphv_do\n",
            "  Running command git clone --filter=blob:none --quiet https://github.com/Isaac-d22/ADS_final_assign.git /private/var/folders/k3/ghfh_db95gd3y5y75qb_s8v40000gn/T/pip-req-build-1qphv_do\n",
            "  Resolved https://github.com/Isaac-d22/ADS_final_assign.git to commit 693c4a7eac1900ac51ca0840974bcdc01482b85c\n",
            "  Preparing metadata (setup.py) ... \u001b[?25ldone\n",
            "\u001b[?25hRequirement already satisfied: pandas in /opt/homebrew/lib/python3.11/site-packages (from fynesse==0.1.0) (2.1.1)\n",
            "Requirement already satisfied: numpy in /opt/homebrew/lib/python3.11/site-packages (from fynesse==0.1.0) (1.26.1)\n",
            "Requirement already satisfied: jupyter in /opt/homebrew/lib/python3.11/site-packages (from fynesse==0.1.0) (1.0.0)\n",
            "Requirement already satisfied: matplotlib in /opt/homebrew/lib/python3.11/site-packages (from fynesse==0.1.0) (3.8.0)\n",
            "Requirement already satisfied: notebook in /opt/homebrew/lib/python3.11/site-packages (from jupyter->fynesse==0.1.0) (7.0.6)\n",
            "Requirement already satisfied: qtconsole in /opt/homebrew/lib/python3.11/site-packages (from jupyter->fynesse==0.1.0) (5.4.4)\n",
            "Requirement already satisfied: jupyter-console in /opt/homebrew/lib/python3.11/site-packages (from jupyter->fynesse==0.1.0) (6.6.3)\n",
            "Requirement already satisfied: nbconvert in /opt/homebrew/lib/python3.11/site-packages (from jupyter->fynesse==0.1.0) (7.10.0)\n",
            "Requirement already satisfied: ipykernel in /Users/isaacdiarrassouba/Library/Python/3.11/lib/python/site-packages (from jupyter->fynesse==0.1.0) (6.21.1)\n",
            "Requirement already satisfied: ipywidgets in /opt/homebrew/lib/python3.11/site-packages (from jupyter->fynesse==0.1.0) (8.1.1)\n",
            "Requirement already satisfied: contourpy>=1.0.1 in /opt/homebrew/lib/python3.11/site-packages (from matplotlib->fynesse==0.1.0) (1.1.1)\n",
            "Requirement already satisfied: cycler>=0.10 in /opt/homebrew/lib/python3.11/site-packages (from matplotlib->fynesse==0.1.0) (0.12.1)\n",
            "Requirement already satisfied: fonttools>=4.22.0 in /opt/homebrew/lib/python3.11/site-packages (from matplotlib->fynesse==0.1.0) (4.43.1)\n",
            "Requirement already satisfied: kiwisolver>=1.0.1 in /opt/homebrew/lib/python3.11/site-packages (from matplotlib->fynesse==0.1.0) (1.4.5)\n",
            "Requirement already satisfied: packaging>=20.0 in /Users/isaacdiarrassouba/Library/Python/3.11/lib/python/site-packages (from matplotlib->fynesse==0.1.0) (23.0)\n",
            "Requirement already satisfied: pillow>=6.2.0 in /opt/homebrew/lib/python3.11/site-packages (from matplotlib->fynesse==0.1.0) (10.1.0)\n",
            "Requirement already satisfied: pyparsing>=2.3.1 in /opt/homebrew/lib/python3.11/site-packages (from matplotlib->fynesse==0.1.0) (3.1.1)\n",
            "Requirement already satisfied: python-dateutil>=2.7 in /Users/isaacdiarrassouba/Library/Python/3.11/lib/python/site-packages (from matplotlib->fynesse==0.1.0) (2.8.2)\n",
            "Requirement already satisfied: pytz>=2020.1 in /opt/homebrew/lib/python3.11/site-packages (from pandas->fynesse==0.1.0) (2023.3.post1)\n",
            "Requirement already satisfied: tzdata>=2022.1 in /opt/homebrew/lib/python3.11/site-packages (from pandas->fynesse==0.1.0) (2023.3)\n",
            "Requirement already satisfied: six>=1.5 in /opt/homebrew/lib/python3.11/site-packages (from python-dateutil>=2.7->matplotlib->fynesse==0.1.0) (1.16.0)\n",
            "Requirement already satisfied: appnope in /Users/isaacdiarrassouba/Library/Python/3.11/lib/python/site-packages (from ipykernel->jupyter->fynesse==0.1.0) (0.1.3)\n",
            "Requirement already satisfied: comm>=0.1.1 in /opt/homebrew/lib/python3.11/site-packages (from ipykernel->jupyter->fynesse==0.1.0) (0.1.4)\n",
            "Requirement already satisfied: debugpy>=1.6.5 in /Users/isaacdiarrassouba/Library/Python/3.11/lib/python/site-packages (from ipykernel->jupyter->fynesse==0.1.0) (1.6.6)\n",
            "Requirement already satisfied: ipython>=7.23.1 in /Users/isaacdiarrassouba/Library/Python/3.11/lib/python/site-packages (from ipykernel->jupyter->fynesse==0.1.0) (8.9.0)\n",
            "Requirement already satisfied: jupyter-client>=6.1.12 in /Users/isaacdiarrassouba/Library/Python/3.11/lib/python/site-packages (from ipykernel->jupyter->fynesse==0.1.0) (8.0.2)\n",
            "Requirement already satisfied: jupyter-core!=5.0.*,>=4.12 in /Users/isaacdiarrassouba/Library/Python/3.11/lib/python/site-packages (from ipykernel->jupyter->fynesse==0.1.0) (5.2.0)\n",
            "Requirement already satisfied: matplotlib-inline>=0.1 in /Users/isaacdiarrassouba/Library/Python/3.11/lib/python/site-packages (from ipykernel->jupyter->fynesse==0.1.0) (0.1.6)\n",
            "Requirement already satisfied: nest-asyncio in /Users/isaacdiarrassouba/Library/Python/3.11/lib/python/site-packages (from ipykernel->jupyter->fynesse==0.1.0) (1.5.6)\n",
            "Requirement already satisfied: psutil in /opt/homebrew/lib/python3.11/site-packages (from ipykernel->jupyter->fynesse==0.1.0) (5.9.6)\n",
            "Requirement already satisfied: pyzmq>=17 in /Users/isaacdiarrassouba/Library/Python/3.11/lib/python/site-packages (from ipykernel->jupyter->fynesse==0.1.0) (25.0.0)\n",
            "Requirement already satisfied: tornado>=6.1 in /Users/isaacdiarrassouba/Library/Python/3.11/lib/python/site-packages (from ipykernel->jupyter->fynesse==0.1.0) (6.2)\n",
            "Requirement already satisfied: traitlets>=5.4.0 in /Users/isaacdiarrassouba/Library/Python/3.11/lib/python/site-packages (from ipykernel->jupyter->fynesse==0.1.0) (5.9.0)\n",
            "Requirement already satisfied: widgetsnbextension~=4.0.9 in /opt/homebrew/lib/python3.11/site-packages (from ipywidgets->jupyter->fynesse==0.1.0) (4.0.9)\n",
            "Requirement already satisfied: jupyterlab-widgets~=3.0.9 in /opt/homebrew/lib/python3.11/site-packages (from ipywidgets->jupyter->fynesse==0.1.0) (3.0.9)\n",
            "Requirement already satisfied: prompt-toolkit>=3.0.30 in /Users/isaacdiarrassouba/Library/Python/3.11/lib/python/site-packages (from jupyter-console->jupyter->fynesse==0.1.0) (3.0.36)\n",
            "Requirement already satisfied: pygments in /opt/homebrew/lib/python3.11/site-packages (from jupyter-console->jupyter->fynesse==0.1.0) (2.16.1)\n",
            "Requirement already satisfied: beautifulsoup4 in /opt/homebrew/lib/python3.11/site-packages (from nbconvert->jupyter->fynesse==0.1.0) (4.12.2)\n",
            "Requirement already satisfied: bleach!=5.0.0 in /opt/homebrew/lib/python3.11/site-packages (from nbconvert->jupyter->fynesse==0.1.0) (6.1.0)\n",
            "Requirement already satisfied: defusedxml in /opt/homebrew/lib/python3.11/site-packages (from nbconvert->jupyter->fynesse==0.1.0) (0.7.1)\n",
            "Requirement already satisfied: jinja2>=3.0 in /opt/homebrew/lib/python3.11/site-packages (from nbconvert->jupyter->fynesse==0.1.0) (3.1.2)\n",
            "Requirement already satisfied: jupyterlab-pygments in /opt/homebrew/lib/python3.11/site-packages (from nbconvert->jupyter->fynesse==0.1.0) (0.2.2)\n",
            "Requirement already satisfied: markupsafe>=2.0 in /opt/homebrew/lib/python3.11/site-packages (from nbconvert->jupyter->fynesse==0.1.0) (2.1.3)\n",
            "Requirement already satisfied: mistune<4,>=2.0.3 in /opt/homebrew/lib/python3.11/site-packages (from nbconvert->jupyter->fynesse==0.1.0) (3.0.2)\n",
            "Requirement already satisfied: nbclient>=0.5.0 in /opt/homebrew/lib/python3.11/site-packages (from nbconvert->jupyter->fynesse==0.1.0) (0.8.0)\n",
            "Requirement already satisfied: nbformat>=5.7 in /opt/homebrew/lib/python3.11/site-packages (from nbconvert->jupyter->fynesse==0.1.0) (5.9.2)\n",
            "Requirement already satisfied: pandocfilters>=1.4.1 in /opt/homebrew/lib/python3.11/site-packages (from nbconvert->jupyter->fynesse==0.1.0) (1.5.0)\n",
            "Requirement already satisfied: tinycss2 in /opt/homebrew/lib/python3.11/site-packages (from nbconvert->jupyter->fynesse==0.1.0) (1.2.1)\n",
            "Requirement already satisfied: jupyter-server<3,>=2.4.0 in /opt/homebrew/lib/python3.11/site-packages (from notebook->jupyter->fynesse==0.1.0) (2.9.1)\n",
            "Requirement already satisfied: jupyterlab-server<3,>=2.22.1 in /opt/homebrew/lib/python3.11/site-packages (from notebook->jupyter->fynesse==0.1.0) (2.25.0)\n",
            "Requirement already satisfied: jupyterlab<5,>=4.0.2 in /opt/homebrew/lib/python3.11/site-packages (from notebook->jupyter->fynesse==0.1.0) (4.0.8)\n",
            "Requirement already satisfied: notebook-shim<0.3,>=0.2 in /opt/homebrew/lib/python3.11/site-packages (from notebook->jupyter->fynesse==0.1.0) (0.2.3)\n",
            "Requirement already satisfied: ipython-genutils in /opt/homebrew/lib/python3.11/site-packages (from qtconsole->jupyter->fynesse==0.1.0) (0.2.0)\n",
            "Requirement already satisfied: qtpy>=2.4.0 in /opt/homebrew/lib/python3.11/site-packages (from qtconsole->jupyter->fynesse==0.1.0) (2.4.1)\n",
            "Requirement already satisfied: webencodings in /opt/homebrew/lib/python3.11/site-packages (from bleach!=5.0.0->nbconvert->jupyter->fynesse==0.1.0) (0.5.1)\n",
            "Requirement already satisfied: backcall in /Users/isaacdiarrassouba/Library/Python/3.11/lib/python/site-packages (from ipython>=7.23.1->ipykernel->jupyter->fynesse==0.1.0) (0.2.0)\n",
            "Requirement already satisfied: decorator in /Users/isaacdiarrassouba/Library/Python/3.11/lib/python/site-packages (from ipython>=7.23.1->ipykernel->jupyter->fynesse==0.1.0) (5.1.1)\n",
            "Requirement already satisfied: jedi>=0.16 in /Users/isaacdiarrassouba/Library/Python/3.11/lib/python/site-packages (from ipython>=7.23.1->ipykernel->jupyter->fynesse==0.1.0) (0.18.2)\n",
            "Requirement already satisfied: pickleshare in /Users/isaacdiarrassouba/Library/Python/3.11/lib/python/site-packages (from ipython>=7.23.1->ipykernel->jupyter->fynesse==0.1.0) (0.7.5)\n",
            "Requirement already satisfied: stack-data in /Users/isaacdiarrassouba/Library/Python/3.11/lib/python/site-packages (from ipython>=7.23.1->ipykernel->jupyter->fynesse==0.1.0) (0.6.2)\n",
            "Requirement already satisfied: pexpect>4.3 in /Users/isaacdiarrassouba/Library/Python/3.11/lib/python/site-packages (from ipython>=7.23.1->ipykernel->jupyter->fynesse==0.1.0) (4.8.0)\n",
            "Requirement already satisfied: platformdirs>=2.5 in /Users/isaacdiarrassouba/Library/Python/3.11/lib/python/site-packages (from jupyter-core!=5.0.*,>=4.12->ipykernel->jupyter->fynesse==0.1.0) (2.6.2)\n",
            "Requirement already satisfied: anyio>=3.1.0 in /opt/homebrew/lib/python3.11/site-packages (from jupyter-server<3,>=2.4.0->notebook->jupyter->fynesse==0.1.0) (4.0.0)\n",
            "Requirement already satisfied: argon2-cffi in /opt/homebrew/lib/python3.11/site-packages (from jupyter-server<3,>=2.4.0->notebook->jupyter->fynesse==0.1.0) (23.1.0)\n",
            "Requirement already satisfied: jupyter-events>=0.6.0 in /opt/homebrew/lib/python3.11/site-packages (from jupyter-server<3,>=2.4.0->notebook->jupyter->fynesse==0.1.0) (0.8.0)\n",
            "Requirement already satisfied: jupyter-server-terminals in /opt/homebrew/lib/python3.11/site-packages (from jupyter-server<3,>=2.4.0->notebook->jupyter->fynesse==0.1.0) (0.4.4)\n",
            "Requirement already satisfied: overrides in /opt/homebrew/lib/python3.11/site-packages (from jupyter-server<3,>=2.4.0->notebook->jupyter->fynesse==0.1.0) (7.4.0)\n",
            "Requirement already satisfied: prometheus-client in /opt/homebrew/lib/python3.11/site-packages (from jupyter-server<3,>=2.4.0->notebook->jupyter->fynesse==0.1.0) (0.18.0)\n",
            "Requirement already satisfied: send2trash>=1.8.2 in /opt/homebrew/lib/python3.11/site-packages (from jupyter-server<3,>=2.4.0->notebook->jupyter->fynesse==0.1.0) (1.8.2)\n",
            "Requirement already satisfied: terminado>=0.8.3 in /opt/homebrew/lib/python3.11/site-packages (from jupyter-server<3,>=2.4.0->notebook->jupyter->fynesse==0.1.0) (0.17.1)\n",
            "Requirement already satisfied: websocket-client in /opt/homebrew/lib/python3.11/site-packages (from jupyter-server<3,>=2.4.0->notebook->jupyter->fynesse==0.1.0) (1.6.4)\n",
            "Requirement already satisfied: async-lru>=1.0.0 in /opt/homebrew/lib/python3.11/site-packages (from jupyterlab<5,>=4.0.2->notebook->jupyter->fynesse==0.1.0) (2.0.4)\n",
            "Requirement already satisfied: jupyter-lsp>=2.0.0 in /opt/homebrew/lib/python3.11/site-packages (from jupyterlab<5,>=4.0.2->notebook->jupyter->fynesse==0.1.0) (2.2.0)\n",
            "Requirement already satisfied: babel>=2.10 in /opt/homebrew/lib/python3.11/site-packages (from jupyterlab-server<3,>=2.22.1->notebook->jupyter->fynesse==0.1.0) (2.13.1)\n",
            "Requirement already satisfied: json5>=0.9.0 in /opt/homebrew/lib/python3.11/site-packages (from jupyterlab-server<3,>=2.22.1->notebook->jupyter->fynesse==0.1.0) (0.9.14)\n",
            "Requirement already satisfied: jsonschema>=4.18.0 in /opt/homebrew/lib/python3.11/site-packages (from jupyterlab-server<3,>=2.22.1->notebook->jupyter->fynesse==0.1.0) (4.19.2)\n",
            "Requirement already satisfied: requests>=2.31 in /opt/homebrew/lib/python3.11/site-packages (from jupyterlab-server<3,>=2.22.1->notebook->jupyter->fynesse==0.1.0) (2.31.0)\n",
            "Requirement already satisfied: fastjsonschema in /opt/homebrew/lib/python3.11/site-packages (from nbformat>=5.7->nbconvert->jupyter->fynesse==0.1.0) (2.18.1)\n",
            "Requirement already satisfied: wcwidth in /Users/isaacdiarrassouba/Library/Python/3.11/lib/python/site-packages (from prompt-toolkit>=3.0.30->jupyter-console->jupyter->fynesse==0.1.0) (0.2.6)\n",
            "Requirement already satisfied: soupsieve>1.2 in /opt/homebrew/lib/python3.11/site-packages (from beautifulsoup4->nbconvert->jupyter->fynesse==0.1.0) (2.5)\n",
            "Requirement already satisfied: idna>=2.8 in /opt/homebrew/lib/python3.11/site-packages (from anyio>=3.1.0->jupyter-server<3,>=2.4.0->notebook->jupyter->fynesse==0.1.0) (3.4)\n",
            "Requirement already satisfied: sniffio>=1.1 in /opt/homebrew/lib/python3.11/site-packages (from anyio>=3.1.0->jupyter-server<3,>=2.4.0->notebook->jupyter->fynesse==0.1.0) (1.3.0)\n",
            "Requirement already satisfied: parso<0.9.0,>=0.8.0 in /Users/isaacdiarrassouba/Library/Python/3.11/lib/python/site-packages (from jedi>=0.16->ipython>=7.23.1->ipykernel->jupyter->fynesse==0.1.0) (0.8.3)\n",
            "Requirement already satisfied: attrs>=22.2.0 in /opt/homebrew/lib/python3.11/site-packages (from jsonschema>=4.18.0->jupyterlab-server<3,>=2.22.1->notebook->jupyter->fynesse==0.1.0) (23.1.0)\n",
            "Requirement already satisfied: jsonschema-specifications>=2023.03.6 in /opt/homebrew/lib/python3.11/site-packages (from jsonschema>=4.18.0->jupyterlab-server<3,>=2.22.1->notebook->jupyter->fynesse==0.1.0) (2023.7.1)\n",
            "Requirement already satisfied: referencing>=0.28.4 in /opt/homebrew/lib/python3.11/site-packages (from jsonschema>=4.18.0->jupyterlab-server<3,>=2.22.1->notebook->jupyter->fynesse==0.1.0) (0.30.2)\n",
            "Requirement already satisfied: rpds-py>=0.7.1 in /opt/homebrew/lib/python3.11/site-packages (from jsonschema>=4.18.0->jupyterlab-server<3,>=2.22.1->notebook->jupyter->fynesse==0.1.0) (0.10.6)\n",
            "Requirement already satisfied: python-json-logger>=2.0.4 in /opt/homebrew/lib/python3.11/site-packages (from jupyter-events>=0.6.0->jupyter-server<3,>=2.4.0->notebook->jupyter->fynesse==0.1.0) (2.0.7)\n",
            "Requirement already satisfied: pyyaml>=5.3 in /opt/homebrew/lib/python3.11/site-packages (from jupyter-events>=0.6.0->jupyter-server<3,>=2.4.0->notebook->jupyter->fynesse==0.1.0) (6.0.1)\n",
            "Requirement already satisfied: rfc3339-validator in /opt/homebrew/lib/python3.11/site-packages (from jupyter-events>=0.6.0->jupyter-server<3,>=2.4.0->notebook->jupyter->fynesse==0.1.0) (0.1.4)\n",
            "Requirement already satisfied: rfc3986-validator>=0.1.1 in /opt/homebrew/lib/python3.11/site-packages (from jupyter-events>=0.6.0->jupyter-server<3,>=2.4.0->notebook->jupyter->fynesse==0.1.0) (0.1.1)\n",
            "Requirement already satisfied: ptyprocess>=0.5 in /Users/isaacdiarrassouba/Library/Python/3.11/lib/python/site-packages (from pexpect>4.3->ipython>=7.23.1->ipykernel->jupyter->fynesse==0.1.0) (0.7.0)\n",
            "Requirement already satisfied: charset-normalizer<4,>=2 in /opt/homebrew/lib/python3.11/site-packages (from requests>=2.31->jupyterlab-server<3,>=2.22.1->notebook->jupyter->fynesse==0.1.0) (3.3.2)\n",
            "Requirement already satisfied: urllib3<3,>=1.21.1 in /opt/homebrew/lib/python3.11/site-packages (from requests>=2.31->jupyterlab-server<3,>=2.22.1->notebook->jupyter->fynesse==0.1.0) (2.0.7)\n",
            "Requirement already satisfied: certifi>=2017.4.17 in /opt/homebrew/lib/python3.11/site-packages (from requests>=2.31->jupyterlab-server<3,>=2.22.1->notebook->jupyter->fynesse==0.1.0) (2023.7.22)\n",
            "Requirement already satisfied: argon2-cffi-bindings in /opt/homebrew/lib/python3.11/site-packages (from argon2-cffi->jupyter-server<3,>=2.4.0->notebook->jupyter->fynesse==0.1.0) (21.2.0)\n",
            "Requirement already satisfied: executing>=1.2.0 in /Users/isaacdiarrassouba/Library/Python/3.11/lib/python/site-packages (from stack-data->ipython>=7.23.1->ipykernel->jupyter->fynesse==0.1.0) (1.2.0)\n",
            "Requirement already satisfied: asttokens>=2.1.0 in /Users/isaacdiarrassouba/Library/Python/3.11/lib/python/site-packages (from stack-data->ipython>=7.23.1->ipykernel->jupyter->fynesse==0.1.0) (2.2.1)\n",
            "Requirement already satisfied: pure-eval in /Users/isaacdiarrassouba/Library/Python/3.11/lib/python/site-packages (from stack-data->ipython>=7.23.1->ipykernel->jupyter->fynesse==0.1.0) (0.2.2)\n",
            "Requirement already satisfied: fqdn in /opt/homebrew/lib/python3.11/site-packages (from jsonschema>=4.18.0->jupyterlab-server<3,>=2.22.1->notebook->jupyter->fynesse==0.1.0) (1.5.1)\n",
            "Requirement already satisfied: isoduration in /opt/homebrew/lib/python3.11/site-packages (from jsonschema>=4.18.0->jupyterlab-server<3,>=2.22.1->notebook->jupyter->fynesse==0.1.0) (20.11.0)\n",
            "Requirement already satisfied: jsonpointer>1.13 in /opt/homebrew/lib/python3.11/site-packages (from jsonschema>=4.18.0->jupyterlab-server<3,>=2.22.1->notebook->jupyter->fynesse==0.1.0) (2.4)\n",
            "Requirement already satisfied: uri-template in /opt/homebrew/lib/python3.11/site-packages (from jsonschema>=4.18.0->jupyterlab-server<3,>=2.22.1->notebook->jupyter->fynesse==0.1.0) (1.3.0)\n",
            "Requirement already satisfied: webcolors>=1.11 in /opt/homebrew/lib/python3.11/site-packages (from jsonschema>=4.18.0->jupyterlab-server<3,>=2.22.1->notebook->jupyter->fynesse==0.1.0) (1.13)\n",
            "Requirement already satisfied: cffi>=1.0.1 in /opt/homebrew/lib/python3.11/site-packages (from argon2-cffi-bindings->argon2-cffi->jupyter-server<3,>=2.4.0->notebook->jupyter->fynesse==0.1.0) (1.16.0)\n",
            "Requirement already satisfied: pycparser in /opt/homebrew/lib/python3.11/site-packages (from cffi>=1.0.1->argon2-cffi-bindings->argon2-cffi->jupyter-server<3,>=2.4.0->notebook->jupyter->fynesse==0.1.0) (2.21)\n",
            "Requirement already satisfied: arrow>=0.15.0 in /opt/homebrew/lib/python3.11/site-packages (from isoduration->jsonschema>=4.18.0->jupyterlab-server<3,>=2.22.1->notebook->jupyter->fynesse==0.1.0) (1.3.0)\n",
            "Requirement already satisfied: types-python-dateutil>=2.8.10 in /opt/homebrew/lib/python3.11/site-packages (from arrow>=0.15.0->isoduration->jsonschema>=4.18.0->jupyterlab-server<3,>=2.22.1->notebook->jupyter->fynesse==0.1.0) (2.8.19.14)\n",
            "Building wheels for collected packages: fynesse\n",
            "  Building wheel for fynesse (setup.py) ... \u001b[?25ldone\n",
            "\u001b[?25h  Created wheel for fynesse: filename=fynesse-0.1.0-py3-none-any.whl size=10999 sha256=e46af99f8ac1be438cc610793e8852b3909deb6c975ed80067359a33b03ef733\n",
            "  Stored in directory: /private/var/folders/k3/ghfh_db95gd3y5y75qb_s8v40000gn/T/pip-ephem-wheel-cache-5lkslhso/wheels/44/d2/2b/aa60f5b3b9d3f03677269c649c3ddede72eb859989075dbb39\n",
            "Successfully built fynesse\n",
            "\u001b[33mWARNING: Skipping /opt/homebrew/lib/python3.11/site-packages/six-1.16.0-py3.11.egg-info due to invalid metadata entry 'name'\u001b[0m\u001b[33m\n",
            "\u001b[0mInstalling collected packages: fynesse\n",
            "\u001b[33mWARNING: Skipping /opt/homebrew/lib/python3.11/site-packages/six-1.16.0-py3.11.egg-info due to invalid metadata entry 'name'\u001b[0m\u001b[33m\n",
            "\u001b[0mSuccessfully installed fynesse-0.1.0\n",
            "\u001b[33mWARNING: Skipping /opt/homebrew/lib/python3.11/site-packages/six-1.16.0-py3.11.egg-info due to invalid metadata entry 'name'\u001b[0m\u001b[33m\n",
            "\u001b[0m\u001b[33mWARNING: Skipping /opt/homebrew/lib/python3.11/site-packages/six-1.16.0-py3.11.egg-info due to invalid metadata entry 'name'\u001b[0m\u001b[33m\n",
            "\u001b[0m\u001b[33mWARNING: Skipping /opt/homebrew/lib/python3.11/site-packages/six-1.16.0-py3.11.egg-info due to invalid metadata entry 'name'\u001b[0m\u001b[33m\n",
            "\u001b[0m\n",
            "\u001b[1m[\u001b[0m\u001b[34;49mnotice\u001b[0m\u001b[1;39;49m]\u001b[0m\u001b[39;49m A new release of pip is available: \u001b[0m\u001b[31;49m23.2.1\u001b[0m\u001b[39;49m -> \u001b[0m\u001b[32;49m23.3.1\u001b[0m\n",
            "\u001b[1m[\u001b[0m\u001b[34;49mnotice\u001b[0m\u001b[1;39;49m]\u001b[0m\u001b[39;49m To update, run: \u001b[0m\u001b[32;49mpython3.11 -m pip install --upgrade pip\u001b[0m\n",
            "Note: you may need to restart the kernel to use updated packages.\n"
          ]
        }
      ],
      "source": [
        "# Install your library here, for example the fynesse template\n",
        "# is set up to be pip installable\n",
        "%pip install git+https://github.com/Isaac-d22/ADS_final_assign.git"
      ]
    },
    {
      "cell_type": "markdown",
      "id": "c2fafca0",
      "metadata": {
        "id": "c2fafca0"
      },
      "source": [
        "Your own library should be installed in the line above, then you can import it as usual (where you can either replace `fynesse` with the name you've given your analysis module or you can leave the name as `fynesse` as you prefer)."
      ]
    },
    {
      "cell_type": "code",
      "execution_count": 1,
      "id": "db162b53",
      "metadata": {
        "id": "db162b53"
      },
      "outputs": [],
      "source": [
        "import fynesse.access as access\n",
        "import fynesse.assess as assess\n",
        "import yaml\n",
        "import os\n",
        "import pandas as pd\n",
        "import time\n",
        "import numpy as np\n",
        "from tqdm import tqdm\n",
        "from ipywidgets import interact_manual, Text, Password"
      ]
    },
    {
      "cell_type": "markdown",
      "id": "26533cf6",
      "metadata": {
        "id": "26533cf6"
      },
      "source": [
        "## Question 1. Accessing a Database of House Prices, Latitudes and Longitudes\n",
        "\n",
        "The UK price paid data for housing dates back to 1995 and contains millions of transactions. The size of the data makes it unwieldy to manipulate directly in python frameworks such as `pandas`. As a result we will host the data in a *relational database*.\n",
        "\n",
        "Using the following ideas.\n",
        "\n",
        "1. A cloud hosted database (such as MariaDB hosted on the AWS RDS service).\n",
        "2. The SQL language wrapped in appropriately structured python code.\n",
        "3. Joining of two databases.\n",
        "\n",
        "You will construct a database containing tables that contain all house prices, latitudes and longitudes from the UK house price data base since 1995.\n",
        "\n",
        "You will likely find the following resources helpful.\n",
        "\n",
        "1. Lecture 1, 2 and 3.\n",
        "2. Lab class 1 and 2.\n",
        "3. The UK Price Paid data for houses: <https://www.gov.uk/government/statistical-data-sets/price-paid-data-downloads>\n",
        "4. The UK ONS Data base of postcode latitude and longitudes:  <https://www.getthedata.com/open-postcode-geo>\n",
        "\n",
        "Below we provide codeboxes and hints to help you develop your answer.\n",
        "\n",
        "### Important Notes:\n",
        "\n",
        "*The main knowledge you need to do a first pass through this question will have been taught by the end of Lab Session 2 (31st October 2023). You will likely want to review your answer as part of **refactoring** your code  and analysis pipeline shortly before hand in.*\n",
        "\n",
        "*We recommend doing Question 1 as early as possible to avoid being blocked from important work given that uploading the data can take long.*\n",
        "\n",
        "*If you encounter problems with the online notebook (e.g., interrupted connections with the AWS server), you can use a local IDE to work in your machine.*\n",
        "\n",
        "*5 Marks*"
      ]
    },
    {
      "cell_type": "markdown",
      "id": "fd689312",
      "metadata": {
        "id": "fd689312"
      },
      "source": [
        "### Task A\n",
        "\n",
        "Set up the database. You'll need to set up a database on AWS. You were guided in how to do this in the lab sessions. You should be able to use the same database instance you created in the lab, or you can delete that and start with a fresh instance. You'll remember from the lab that the database requires credentials (username, password) to access. It's good practice to store those credentials *outside* the notebook so you don't accidentally share them by e.g. checking code into a repository.\n",
        "  \n",
        "Call the database you use for this assessment `property_prices`.\n",
        "  "
      ]
    },
    {
      "cell_type": "code",
      "execution_count": null,
      "id": "feaf09b9",
      "metadata": {
        "id": "feaf09b9"
      },
      "outputs": [],
      "source": [
        "# Write code for requesting and storing credentials (username, password) here.\n",
        "# No need to run this cell if credentials.yaml file has already been populated (will be the case as I have included it in my submission)\n",
        "@interact_manual(username=Text(description=\"Username:\"),\n",
        "                 password=Password(description=\"Password:\"))\n",
        "def write_credentials(username, password):\n",
        "    with open(\"credentials.yaml\", \"w\") as file:\n",
        "        credentials_dict = {'username': username,\n",
        "                            'password': password}\n",
        "        yaml.dump(credentials_dict, file)"
      ]
    },
    {
      "cell_type": "code",
      "execution_count": 2,
      "id": "036c419d",
      "metadata": {
        "id": "036c419d"
      },
      "outputs": [],
      "source": [
        "# Write any other setup code you need for setting up database access here.\n",
        "database_details = {\"url\": \"database-ads-id373.cgrre17yxw11.eu-west-2.rds.amazonaws.com\",\n",
        "                    \"port\": 3306,\n",
        "                    \"name\": 'property_prices'}\n",
        "with open(\"credentials.yaml\") as file:\n",
        "  credentials = yaml.safe_load(file)\n",
        "username = credentials[\"username\"]\n",
        "password = credentials[\"password\"]\n",
        "url = database_details[\"url\"]\n",
        "port = database_details[\"port\"]\n",
        "db_name = database_details[\"name\"]"
      ]
    },
    {
      "cell_type": "code",
      "execution_count": 5,
      "id": "183dc338",
      "metadata": {},
      "outputs": [
        {
          "ename": "KeyboardInterrupt",
          "evalue": "",
          "output_type": "error",
          "traceback": [
            "\u001b[0;31m---------------------------------------------------------------------------\u001b[0m",
            "\u001b[0;31mKeyboardInterrupt\u001b[0m                         Traceback (most recent call last)",
            "\u001b[1;32m/Users/isaacdiarrassouba/Desktop/Part II/Advanced Data Science/Final assignment/fynesse_template/notebooks/ADS_Report_2268A.ipynb Cell 12\u001b[0m line \u001b[0;36m4\n\u001b[1;32m      <a href='vscode-notebook-cell:/Users/isaacdiarrassouba/Desktop/Part%20II/Advanced%20Data%20Science/Final%20assignment/fynesse_template/notebooks/ADS_Report_2268A.ipynb#X15sZmlsZQ%3D%3D?line=1'>2</a>\u001b[0m conn \u001b[39m=\u001b[39m access\u001b[39m.\u001b[39mcreate_connection(user\u001b[39m=\u001b[39musername, password\u001b[39m=\u001b[39mpassword, host\u001b[39m=\u001b[39murl, port\u001b[39m=\u001b[39mport)\n\u001b[1;32m      <a href='vscode-notebook-cell:/Users/isaacdiarrassouba/Desktop/Part%20II/Advanced%20Data%20Science/Final%20assignment/fynesse_template/notebooks/ADS_Report_2268A.ipynb#X15sZmlsZQ%3D%3D?line=2'>3</a>\u001b[0m cursor \u001b[39m=\u001b[39m conn\u001b[39m.\u001b[39mcursor()\n\u001b[0;32m----> <a href='vscode-notebook-cell:/Users/isaacdiarrassouba/Desktop/Part%20II/Advanced%20Data%20Science/Final%20assignment/fynesse_template/notebooks/ADS_Report_2268A.ipynb#X15sZmlsZQ%3D%3D?line=3'>4</a>\u001b[0m cursor\u001b[39m.\u001b[39;49mexecute(\u001b[39mf\u001b[39;49m\u001b[39m\"\u001b[39;49m\u001b[39mCREATE DATABASE IF NOT EXISTS \u001b[39;49m\u001b[39m{\u001b[39;49;00mdb_name\u001b[39m}\u001b[39;49;00m\u001b[39m DEFAULT CHARACTER SET utf8 COLLATE utf8_bin;\u001b[39;49m\u001b[39m\"\u001b[39;49m)\n\u001b[1;32m      <a href='vscode-notebook-cell:/Users/isaacdiarrassouba/Desktop/Part%20II/Advanced%20Data%20Science/Final%20assignment/fynesse_template/notebooks/ADS_Report_2268A.ipynb#X15sZmlsZQ%3D%3D?line=4'>5</a>\u001b[0m conn\u001b[39m.\u001b[39mcommit()\n",
            "File \u001b[0;32m/opt/homebrew/lib/python3.11/site-packages/pymysql/cursors.py:153\u001b[0m, in \u001b[0;36mCursor.execute\u001b[0;34m(self, query, args)\u001b[0m\n\u001b[1;32m    149\u001b[0m     \u001b[39mpass\u001b[39;00m\n\u001b[1;32m    151\u001b[0m query \u001b[39m=\u001b[39m \u001b[39mself\u001b[39m\u001b[39m.\u001b[39mmogrify(query, args)\n\u001b[0;32m--> 153\u001b[0m result \u001b[39m=\u001b[39m \u001b[39mself\u001b[39;49m\u001b[39m.\u001b[39;49m_query(query)\n\u001b[1;32m    154\u001b[0m \u001b[39mself\u001b[39m\u001b[39m.\u001b[39m_executed \u001b[39m=\u001b[39m query\n\u001b[1;32m    155\u001b[0m \u001b[39mreturn\u001b[39;00m result\n",
            "File \u001b[0;32m/opt/homebrew/lib/python3.11/site-packages/pymysql/cursors.py:322\u001b[0m, in \u001b[0;36mCursor._query\u001b[0;34m(self, q)\u001b[0m\n\u001b[1;32m    320\u001b[0m conn \u001b[39m=\u001b[39m \u001b[39mself\u001b[39m\u001b[39m.\u001b[39m_get_db()\n\u001b[1;32m    321\u001b[0m \u001b[39mself\u001b[39m\u001b[39m.\u001b[39m_clear_result()\n\u001b[0;32m--> 322\u001b[0m conn\u001b[39m.\u001b[39;49mquery(q)\n\u001b[1;32m    323\u001b[0m \u001b[39mself\u001b[39m\u001b[39m.\u001b[39m_do_get_result()\n\u001b[1;32m    324\u001b[0m \u001b[39mreturn\u001b[39;00m \u001b[39mself\u001b[39m\u001b[39m.\u001b[39mrowcount\n",
            "File \u001b[0;32m/opt/homebrew/lib/python3.11/site-packages/pymysql/connections.py:558\u001b[0m, in \u001b[0;36mConnection.query\u001b[0;34m(self, sql, unbuffered)\u001b[0m\n\u001b[1;32m    556\u001b[0m     sql \u001b[39m=\u001b[39m sql\u001b[39m.\u001b[39mencode(\u001b[39mself\u001b[39m\u001b[39m.\u001b[39mencoding, \u001b[39m\"\u001b[39m\u001b[39msurrogateescape\u001b[39m\u001b[39m\"\u001b[39m)\n\u001b[1;32m    557\u001b[0m \u001b[39mself\u001b[39m\u001b[39m.\u001b[39m_execute_command(COMMAND\u001b[39m.\u001b[39mCOM_QUERY, sql)\n\u001b[0;32m--> 558\u001b[0m \u001b[39mself\u001b[39m\u001b[39m.\u001b[39m_affected_rows \u001b[39m=\u001b[39m \u001b[39mself\u001b[39;49m\u001b[39m.\u001b[39;49m_read_query_result(unbuffered\u001b[39m=\u001b[39;49munbuffered)\n\u001b[1;32m    559\u001b[0m \u001b[39mreturn\u001b[39;00m \u001b[39mself\u001b[39m\u001b[39m.\u001b[39m_affected_rows\n",
            "File \u001b[0;32m/opt/homebrew/lib/python3.11/site-packages/pymysql/connections.py:822\u001b[0m, in \u001b[0;36mConnection._read_query_result\u001b[0;34m(self, unbuffered)\u001b[0m\n\u001b[1;32m    820\u001b[0m \u001b[39melse\u001b[39;00m:\n\u001b[1;32m    821\u001b[0m     result \u001b[39m=\u001b[39m MySQLResult(\u001b[39mself\u001b[39m)\n\u001b[0;32m--> 822\u001b[0m     result\u001b[39m.\u001b[39;49mread()\n\u001b[1;32m    823\u001b[0m \u001b[39mself\u001b[39m\u001b[39m.\u001b[39m_result \u001b[39m=\u001b[39m result\n\u001b[1;32m    824\u001b[0m \u001b[39mif\u001b[39;00m result\u001b[39m.\u001b[39mserver_status \u001b[39mis\u001b[39;00m \u001b[39mnot\u001b[39;00m \u001b[39mNone\u001b[39;00m:\n",
            "File \u001b[0;32m/opt/homebrew/lib/python3.11/site-packages/pymysql/connections.py:1200\u001b[0m, in \u001b[0;36mMySQLResult.read\u001b[0;34m(self)\u001b[0m\n\u001b[1;32m   1198\u001b[0m \u001b[39mdef\u001b[39;00m \u001b[39mread\u001b[39m(\u001b[39mself\u001b[39m):\n\u001b[1;32m   1199\u001b[0m     \u001b[39mtry\u001b[39;00m:\n\u001b[0;32m-> 1200\u001b[0m         first_packet \u001b[39m=\u001b[39m \u001b[39mself\u001b[39;49m\u001b[39m.\u001b[39;49mconnection\u001b[39m.\u001b[39;49m_read_packet()\n\u001b[1;32m   1202\u001b[0m         \u001b[39mif\u001b[39;00m first_packet\u001b[39m.\u001b[39mis_ok_packet():\n\u001b[1;32m   1203\u001b[0m             \u001b[39mself\u001b[39m\u001b[39m.\u001b[39m_read_ok_packet(first_packet)\n",
            "File \u001b[0;32m/opt/homebrew/lib/python3.11/site-packages/pymysql/connections.py:739\u001b[0m, in \u001b[0;36mConnection._read_packet\u001b[0;34m(self, packet_type)\u001b[0m\n\u001b[1;32m    737\u001b[0m buff \u001b[39m=\u001b[39m \u001b[39mbytearray\u001b[39m()\n\u001b[1;32m    738\u001b[0m \u001b[39mwhile\u001b[39;00m \u001b[39mTrue\u001b[39;00m:\n\u001b[0;32m--> 739\u001b[0m     packet_header \u001b[39m=\u001b[39m \u001b[39mself\u001b[39;49m\u001b[39m.\u001b[39;49m_read_bytes(\u001b[39m4\u001b[39;49m)\n\u001b[1;32m    740\u001b[0m     \u001b[39m# if DEBUG: dump_packet(packet_header)\u001b[39;00m\n\u001b[1;32m    742\u001b[0m     btrl, btrh, packet_number \u001b[39m=\u001b[39m struct\u001b[39m.\u001b[39munpack(\u001b[39m\"\u001b[39m\u001b[39m<HBB\u001b[39m\u001b[39m\"\u001b[39m, packet_header)\n",
            "File \u001b[0;32m/opt/homebrew/lib/python3.11/site-packages/pymysql/connections.py:779\u001b[0m, in \u001b[0;36mConnection._read_bytes\u001b[0;34m(self, num_bytes)\u001b[0m\n\u001b[1;32m    777\u001b[0m \u001b[39mwhile\u001b[39;00m \u001b[39mTrue\u001b[39;00m:\n\u001b[1;32m    778\u001b[0m     \u001b[39mtry\u001b[39;00m:\n\u001b[0;32m--> 779\u001b[0m         data \u001b[39m=\u001b[39m \u001b[39mself\u001b[39m\u001b[39m.\u001b[39m_rfile\u001b[39m.\u001b[39mread(num_bytes)\n\u001b[1;32m    780\u001b[0m         \u001b[39mbreak\u001b[39;00m\n\u001b[1;32m    781\u001b[0m     \u001b[39mexcept\u001b[39;00m \u001b[39mOSError\u001b[39;00m \u001b[39mas\u001b[39;00m e:\n",
            "File \u001b[0;32m/opt/homebrew/Cellar/python@3.11/3.11.6/Frameworks/Python.framework/Versions/3.11/lib/python3.11/socket.py:706\u001b[0m, in \u001b[0;36mSocketIO.readinto\u001b[0;34m(self, b)\u001b[0m\n\u001b[1;32m    704\u001b[0m \u001b[39mwhile\u001b[39;00m \u001b[39mTrue\u001b[39;00m:\n\u001b[1;32m    705\u001b[0m     \u001b[39mtry\u001b[39;00m:\n\u001b[0;32m--> 706\u001b[0m         \u001b[39mreturn\u001b[39;00m \u001b[39mself\u001b[39;49m\u001b[39m.\u001b[39;49m_sock\u001b[39m.\u001b[39;49mrecv_into(b)\n\u001b[1;32m    707\u001b[0m     \u001b[39mexcept\u001b[39;00m timeout:\n\u001b[1;32m    708\u001b[0m         \u001b[39mself\u001b[39m\u001b[39m.\u001b[39m_timeout_occurred \u001b[39m=\u001b[39m \u001b[39mTrue\u001b[39;00m\n",
            "\u001b[0;31mKeyboardInterrupt\u001b[0m: "
          ]
        }
      ],
      "source": [
        "# Establishing a connection and creating the property_prices database\n",
        "conn = access.create_connection(user=username, password=password, host=url, port=port)\n",
        "cursor = conn.cursor()\n",
        "cursor.execute(f\"CREATE DATABASE IF NOT EXISTS {db_name} DEFAULT CHARACTER SET utf8 COLLATE utf8_bin;\")\n",
        "conn.commit()"
      ]
    },
    {
      "cell_type": "code",
      "execution_count": 7,
      "id": "1bae0b31",
      "metadata": {},
      "outputs": [
        {
          "ename": "ProgrammingError",
          "evalue": "Cursor closed",
          "output_type": "error",
          "traceback": [
            "\u001b[0;31m---------------------------------------------------------------------------\u001b[0m",
            "\u001b[0;31mProgrammingError\u001b[0m                          Traceback (most recent call last)",
            "\u001b[1;32m/Users/isaacdiarrassouba/Desktop/Part II/Advanced Data Science/Final assignment/fynesse_template/notebooks/ADS_Report_2268A.ipynb Cell 13\u001b[0m line \u001b[0;36m2\n\u001b[1;32m      <a href='vscode-notebook-cell:/Users/isaacdiarrassouba/Desktop/Part%20II/Advanced%20Data%20Science/Final%20assignment/fynesse_template/notebooks/ADS_Report_2268A.ipynb#X16sZmlsZQ%3D%3D?line=0'>1</a>\u001b[0m \u001b[39m# Check to see that the database property_prices was successfully created (1 for successful 0 for unsuccessful)\u001b[39;00m\n\u001b[0;32m----> <a href='vscode-notebook-cell:/Users/isaacdiarrassouba/Desktop/Part%20II/Advanced%20Data%20Science/Final%20assignment/fynesse_template/notebooks/ADS_Report_2268A.ipynb#X16sZmlsZQ%3D%3D?line=1'>2</a>\u001b[0m cursor\u001b[39m.\u001b[39;49mexecute(\u001b[39mf\u001b[39;49m\u001b[39m\"\u001b[39;49m\u001b[39mSHOW DATABASES LIKE \u001b[39;49m\u001b[39m'\u001b[39;49m\u001b[39m{\u001b[39;49;00mdb_name\u001b[39m}\u001b[39;49;00m\u001b[39m'\u001b[39;49m\u001b[39m;\u001b[39;49m\u001b[39m\"\u001b[39;49m)\n",
            "File \u001b[0;32m/opt/homebrew/lib/python3.11/site-packages/pymysql/cursors.py:148\u001b[0m, in \u001b[0;36mCursor.execute\u001b[0;34m(self, query, args)\u001b[0m\n\u001b[1;32m    133\u001b[0m \u001b[39mdef\u001b[39;00m \u001b[39mexecute\u001b[39m(\u001b[39mself\u001b[39m, query, args\u001b[39m=\u001b[39m\u001b[39mNone\u001b[39;00m):\n\u001b[1;32m    134\u001b[0m \u001b[39m    \u001b[39m\u001b[39m\"\"\"Execute a query.\u001b[39;00m\n\u001b[1;32m    135\u001b[0m \n\u001b[1;32m    136\u001b[0m \u001b[39m    :param query: Query to execute.\u001b[39;00m\n\u001b[0;32m   (...)\u001b[0m\n\u001b[1;32m    146\u001b[0m \u001b[39m    If args is a dict, %(name)s can be used as a placeholder in the query.\u001b[39;00m\n\u001b[1;32m    147\u001b[0m \u001b[39m    \"\"\"\u001b[39;00m\n\u001b[0;32m--> 148\u001b[0m     \u001b[39mwhile\u001b[39;00m \u001b[39mself\u001b[39;49m\u001b[39m.\u001b[39;49mnextset():\n\u001b[1;32m    149\u001b[0m         \u001b[39mpass\u001b[39;00m\n\u001b[1;32m    151\u001b[0m     query \u001b[39m=\u001b[39m \u001b[39mself\u001b[39m\u001b[39m.\u001b[39mmogrify(query, args)\n",
            "File \u001b[0;32m/opt/homebrew/lib/python3.11/site-packages/pymysql/cursors.py:98\u001b[0m, in \u001b[0;36mCursor.nextset\u001b[0;34m(self)\u001b[0m\n\u001b[1;32m     97\u001b[0m \u001b[39mdef\u001b[39;00m \u001b[39mnextset\u001b[39m(\u001b[39mself\u001b[39m):\n\u001b[0;32m---> 98\u001b[0m     \u001b[39mreturn\u001b[39;00m \u001b[39mself\u001b[39;49m\u001b[39m.\u001b[39;49m_nextset(\u001b[39mFalse\u001b[39;49;00m)\n",
            "File \u001b[0;32m/opt/homebrew/lib/python3.11/site-packages/pymysql/cursors.py:85\u001b[0m, in \u001b[0;36mCursor._nextset\u001b[0;34m(self, unbuffered)\u001b[0m\n\u001b[1;32m     83\u001b[0m \u001b[39mdef\u001b[39;00m \u001b[39m_nextset\u001b[39m(\u001b[39mself\u001b[39m, unbuffered\u001b[39m=\u001b[39m\u001b[39mFalse\u001b[39;00m):\n\u001b[1;32m     84\u001b[0m \u001b[39m    \u001b[39m\u001b[39m\"\"\"Get the next query set.\"\"\"\u001b[39;00m\n\u001b[0;32m---> 85\u001b[0m     conn \u001b[39m=\u001b[39m \u001b[39mself\u001b[39;49m\u001b[39m.\u001b[39;49m_get_db()\n\u001b[1;32m     86\u001b[0m     current_result \u001b[39m=\u001b[39m \u001b[39mself\u001b[39m\u001b[39m.\u001b[39m_result\n\u001b[1;32m     87\u001b[0m     \u001b[39mif\u001b[39;00m current_result \u001b[39mis\u001b[39;00m \u001b[39mNone\u001b[39;00m \u001b[39mor\u001b[39;00m current_result \u001b[39mis\u001b[39;00m \u001b[39mnot\u001b[39;00m conn\u001b[39m.\u001b[39m_result:\n",
            "File \u001b[0;32m/opt/homebrew/lib/python3.11/site-packages/pymysql/cursors.py:67\u001b[0m, in \u001b[0;36mCursor._get_db\u001b[0;34m(self)\u001b[0m\n\u001b[1;32m     65\u001b[0m \u001b[39mdef\u001b[39;00m \u001b[39m_get_db\u001b[39m(\u001b[39mself\u001b[39m):\n\u001b[1;32m     66\u001b[0m     \u001b[39mif\u001b[39;00m \u001b[39mnot\u001b[39;00m \u001b[39mself\u001b[39m\u001b[39m.\u001b[39mconnection:\n\u001b[0;32m---> 67\u001b[0m         \u001b[39mraise\u001b[39;00m err\u001b[39m.\u001b[39mProgrammingError(\u001b[39m\"\u001b[39m\u001b[39mCursor closed\u001b[39m\u001b[39m\"\u001b[39m)\n\u001b[1;32m     68\u001b[0m     \u001b[39mreturn\u001b[39;00m \u001b[39mself\u001b[39m\u001b[39m.\u001b[39mconnection\n",
            "\u001b[0;31mProgrammingError\u001b[0m: Cursor closed"
          ]
        }
      ],
      "source": [
        "# Check to see that the database property_prices was successfully created (1 for successful 0 for unsuccessful)\n",
        "cursor.execute(f\"SHOW DATABASES LIKE '{db_name}';\")"
      ]
    },
    {
      "cell_type": "code",
      "execution_count": 6,
      "id": "ea036aae",
      "metadata": {},
      "outputs": [],
      "source": [
        "# It it best practice to always terminate cionnections once you finish using them\n",
        "cursor.close()\n",
        "conn.close()"
      ]
    },
    {
      "cell_type": "markdown",
      "id": "33c7237f",
      "metadata": {
        "id": "33c7237f"
      },
      "source": [
        "### Task B\n",
        "\n",
        "Create a database table called `pp_data` containing all the UK Price Paid data from the [gov.uk site](https://www.gov.uk/government/statistical-data-sets/price-paid-data-downloads). You'll need to prepare a new table to receive the data and upload the UK Price Paid data to your database instance. The total data is over 3 gigabytes in size. We suggest that rather than downloading the full data in CSV format, you use the fact that they have split the data into years and into different parts per year. For example, the first part of the data for 2018 is stored at <http://prod.publicdata.landregistry.gov.uk.s3-website-eu-west-1.amazonaws.com/pp-2018-part1.csv>. Each of these files is less than 100MB and can be downloaded very quickly to local disk, then uploaded using\n",
        "\n",
        "\n",
        "```\n",
        "LOAD DATA LOCAL INFILE 'filename' INTO TABLE `table_name`\n",
        "FIELDS TERMINATED BY ',' OPTIONALLY ENCLOSED by '\"'\n",
        "LINES STARTING BY '' TERMINATED BY '\\n';\n",
        "```\n",
        "*Note* this command should be wrapped and placed in an appropriately structured python module.\n",
        "\n",
        "Each 'data part' should be downloadable from the `gov.uk` site. It should take around 5 minutes to download the whole dataset. By looping across the years and different parts, you should be able to robustly upload this large data set to your database instance in around 15 minutes. You should get a table with 28'258,161 rows. ***Note: A select count of the table can take more than half an hour.***\n",
        "\n",
        "You may find the following schema useful in the creation of your table:\n",
        "\n",
        "```\n",
        "--\n",
        "-- Table structure for table `pp_data`\n",
        "--\n",
        "DROP TABLE IF EXISTS `pp_data`;\n",
        "CREATE TABLE IF NOT EXISTS `pp_data` (\n",
        "  `transaction_unique_identifier` tinytext COLLATE utf8_bin NOT NULL,\n",
        "  `price` int(10) unsigned NOT NULL,\n",
        "  `date_of_transfer` date NOT NULL,\n",
        "  `postcode` varchar(8) COLLATE utf8_bin NOT NULL,\n",
        "  `property_type` varchar(1) COLLATE utf8_bin NOT NULL,\n",
        "  `new_build_flag` varchar(1) COLLATE utf8_bin NOT NULL,\n",
        "  `tenure_type` varchar(1) COLLATE utf8_bin NOT NULL,\n",
        "  `primary_addressable_object_name` tinytext COLLATE utf8_bin NOT NULL,\n",
        "  `secondary_addressable_object_name` tinytext COLLATE utf8_bin NOT NULL,\n",
        "  `street` tinytext COLLATE utf8_bin NOT NULL,\n",
        "  `locality` tinytext COLLATE utf8_bin NOT NULL,\n",
        "  `town_city` tinytext COLLATE utf8_bin NOT NULL,\n",
        "  `district` tinytext COLLATE utf8_bin NOT NULL,\n",
        "  `county` tinytext COLLATE utf8_bin NOT NULL,\n",
        "  `ppd_category_type` varchar(2) COLLATE utf8_bin NOT NULL,\n",
        "  `record_status` varchar(2) COLLATE utf8_bin NOT NULL,\n",
        "  `db_id` bigint(20) unsigned NOT NULL\n",
        ") DEFAULT CHARSET=utf8 COLLATE=utf8_bin AUTO_INCREMENT=1 ;\n",
        "```\n",
        "This schema is written by Dale Potter and can be found on Github here: <https://github.com/dalepotter/uk_property_price_data/blob/master/create_db.sql>\n",
        "\n",
        "You may also find it helpful to set up the following primary key to the `pp_data` table. This should be done before uploading your data.\n",
        "\n",
        "```\n",
        "--\n",
        "-- Primary key for table `pp_data`\n",
        "--\n",
        "ALTER TABLE `pp_data`\n",
        "ADD PRIMARY KEY (`db_id`);\n",
        "\n",
        "ALTER TABLE `pp_data`\n",
        "MODIFY db_id bigint(20) unsigned NOT NULL AUTO_INCREMENT, AUTO_INCREMENT=1;\n",
        "```"
      ]
    },
    {
      "cell_type": "markdown",
      "id": "e789b174",
      "metadata": {
        "id": "e789b174"
      },
      "source": [
        "In the box below, briefly describe what the schema is doing."
      ]
    },
    {
      "cell_type": "markdown",
      "id": "d7d9d674",
      "metadata": {
        "id": "d7d9d674"
      },
      "source": [
        "First a check is performed to determine whether a pp_data table already exists and if it does, it drops (i.e. deletes) that table from the database. The schema itself defines the fields of the table which are simply a one-to-one mapping with the columns in the csv. Each of these columns is given a type (i.e. int(10) which corresponds to an unsigned integer with a maximum value of 10 decimal digits, 4294967295 to be precise). The NOT NULL constraint that you see means that records cannot be inserted if they have a NULL value in this field and so for this schema all fields must be populated. COLLATE defines the set of rules used for string ordering and comparison in this schema utf8_bin is used. The DEFAULT here simply specifies what character set and collation function should be used if one hasn't been specified for a text field."
      ]
    },
    {
      "cell_type": "code",
      "execution_count": null,
      "id": "92da8c96",
      "metadata": {
        "id": "92da8c96"
      },
      "outputs": [],
      "source": [
        "# Code to download the files in parts and store them in a directory\n",
        "if not os.path.exists(\"house_price_data\"):\n",
        "    os.makedirs(\"house_price_data\")\n",
        "    \n",
        "URL_PREFIX = \"http://prod.publicdata.landregistry.gov.uk.s3-website-eu-west-1.amazonaws.com/\"\n",
        "for i in tqdm(range(1995, 2024)):\n",
        "    part1 = f\"pp-{i}-part1.csv\"\n",
        "    part2 = f\"pp-{i}-part2.csv\"\n",
        "    access.download_csv(url=(URL_PREFIX + part1), filename=part1, target_dir=\"house_price_data\")\n",
        "    access.download_csv(url=(URL_PREFIX + part2), filename=part2, target_dir=\"house_price_data\")"
      ]
    },
    {
      "cell_type": "code",
      "execution_count": 14,
      "id": "df979351",
      "metadata": {},
      "outputs": [],
      "source": [
        "# Code to create table and set primary key\n",
        "conn = access.create_connection(user=username, password=password, host=url, port=port, database=db_name)\n",
        "access.create_pp_data(conn)\n",
        "conn.close()"
      ]
    },
    {
      "cell_type": "code",
      "execution_count": 18,
      "id": "bfdee21d",
      "metadata": {},
      "outputs": [
        {
          "name": "stderr",
          "output_type": "stream",
          "text": [
            "  0%|          | 0/29 [00:00<?, ?it/s]"
          ]
        },
        {
          "name": "stderr",
          "output_type": "stream",
          "text": [
            "100%|██████████| 29/29 [14:20<00:00, 29.66s/it]\n"
          ]
        }
      ],
      "source": [
        "# Code to populate pp_data table with downloaded csv data\n",
        "conn = access.create_connection(user=username, password=password, host=url, port=port, database=db_name)\n",
        "for i in tqdm(range(1995, 2024)):\n",
        "    part1 = f\"house_price_data/pp-{i}-part1.csv\"\n",
        "    part2 = f\"house_price_data/pp-{i}-part2.csv\"\n",
        "    access.populate_table(conn=conn, filename=part1, table=\"pp_data\")\n",
        "    access.populate_table(conn=conn, filename=part2, table=\"pp_data\")\n",
        "conn.close()"
      ]
    },
    {
      "cell_type": "code",
      "execution_count": 19,
      "id": "aa3b3585",
      "metadata": {},
      "outputs": [
        {
          "data": {
            "text/plain": [
              "(('{FAC30767-09BA-5E20-E053-4704A8C004EE}',\n",
              "  229000,\n",
              "  datetime.date(2023, 3, 7),\n",
              "  'E17 4GD',\n",
              "  'F',\n",
              "  'N',\n",
              "  'L',\n",
              "  'CANNOCK COURT, 3',\n",
              "  'FLAT 69',\n",
              "  'HAWKER PLACE',\n",
              "  '',\n",
              "  'LONDON',\n",
              "  'WALTHAM FOREST',\n",
              "  'GREATER LONDON',\n",
              "  'A',\n",
              "  'A',\n",
              "  30500000),)"
            ]
          },
          "execution_count": 19,
          "metadata": {},
          "output_type": "execute_result"
        }
      ],
      "source": [
        "# Since our primary key just increments we can check that the database has been populated successfully by taking a number in the region of 28 million. \n",
        "# I have a bit over 30.5 million entires in my table which is reasonable and I believe the reason for the difference is the fact that I am using as much data as is available to me.\n",
        "# Given the recent regime shift in terms of interest rates my prior is that making use of the 2023 data will aid the model signifcantly in making predictions of prices over the past 6 months\n",
        "conn = access.create_connection(user=username, password=password, host=url, port=port, database=db_name)\n",
        "access.query_table(conn=conn, table='pp_data', conditions=[access.equal_condition('db_id', 30500000)])"
      ]
    },
    {
      "cell_type": "code",
      "execution_count": 20,
      "id": "b9dffe24",
      "metadata": {},
      "outputs": [],
      "source": [
        "conn.close()"
      ]
    },
    {
      "cell_type": "markdown",
      "id": "bb9ece66",
      "metadata": {
        "id": "bb9ece66"
      },
      "source": [
        "### Task C\n",
        "\n",
        "Create a database table called `postcode_data` containing the ONS Postcode information. <GetTheData.com> has organised data derived from the UK Office for National Statistics into a convenient CSV file. You can find details [here](https://www.getthedata.com/open-postcode-geo).\n",
        "\n",
        "\n",
        "The data you need can be found at this url: <https://www.getthedata.com/downloads/open_postcode_geo.csv.zip>. It will need to be unzipped before use. Downloading and unzipping the data should not take more than 10 seconds.\n",
        "\n",
        "You may find the following schema useful for the postcode data (developed by Christian and Neil)\n",
        "\n",
        "```\n",
        "USE `property_prices`;\n",
        "--\n",
        "-- Table structure for table `postcode_data`\n",
        "--\n",
        "DROP TABLE IF EXISTS `postcode_data`;\n",
        "CREATE TABLE IF NOT EXISTS `postcode_data` (\n",
        "  `postcode` varchar(8) COLLATE utf8_bin NOT NULL,\n",
        "  `status` enum('live','terminated') NOT NULL,\n",
        "  `usertype` enum('small', 'large') NOT NULL,\n",
        "  `easting` int unsigned,\n",
        "  `northing` int unsigned,\n",
        "  `positional_quality_indicator` int NOT NULL,\n",
        "  `country` enum('England', 'Wales', 'Scotland', 'Northern Ireland', 'Channel Islands', 'Isle of Man') NOT NULL,\n",
        "  `latitude` decimal(11,8) NOT NULL,\n",
        "  `longitude` decimal(10,8) NOT NULL,\n",
        "  `postcode_no_space` tinytext COLLATE utf8_bin NOT NULL,\n",
        "  `postcode_fixed_width_seven` varchar(7) COLLATE utf8_bin NOT NULL,\n",
        "  `postcode_fixed_width_eight` varchar(8) COLLATE utf8_bin NOT NULL,\n",
        "  `postcode_area` varchar(2) COLLATE utf8_bin NOT NULL,\n",
        "  `postcode_district` varchar(4) COLLATE utf8_bin NOT NULL,\n",
        "  `postcode_sector` varchar(6) COLLATE utf8_bin NOT NULL,\n",
        "  `outcode` varchar(4) COLLATE utf8_bin NOT NULL,\n",
        "  `incode` varchar(3)  COLLATE utf8_bin NOT NULL,\n",
        "  `db_id` bigint(20) unsigned NOT NULL\n",
        ") DEFAULT CHARSET=utf8 COLLATE=utf8_bin;\n",
        "```\n",
        "\n",
        "And again you'll want to set up a primary key for the new table.\n",
        "\n",
        "```\n",
        "ALTER TABLE `postcode_data`\n",
        "ADD PRIMARY KEY (`db_id`);\n",
        "\n",
        "ALTER TABLE `postcode_data`\n",
        "MODIFY `db_id` bigint(20) unsigned NOT NULL AUTO_INCREMENT,AUTO_INCREMENT=1;\n",
        "```\n",
        "\n",
        "And you can load the CSV file into the table using this command.\n",
        "\n",
        "```\n",
        "LOAD DATA LOCAL INFILE 'open_postcode_geo.csv' INTO TABLE `postcode_data`\n",
        "FIELDS TERMINATED BY ',' OPTIONALLY ENCLOSED by '\"'\n",
        "LINES STARTING BY '' TERMINATED BY '\\n';\n",
        "```"
      ]
    },
    {
      "cell_type": "code",
      "execution_count": null,
      "id": "e713426d",
      "metadata": {},
      "outputs": [],
      "source": [
        "# code to download and extract zip file\n",
        "if not os.path.exists(\"postcode_data\"):\n",
        "    os.makedirs(\"postcode_data\")\n",
        "access.download_csv(url=\"https://www.getthedata.com/downloads/open_postcode_geo.csv.zip\", filename=\"open_postcode_geo.csv.zip\", target_dir=\"postcode_data\", extract=True)"
      ]
    },
    {
      "cell_type": "code",
      "execution_count": null,
      "id": "82488638",
      "metadata": {},
      "outputs": [],
      "source": [
        "conn = access.create_connection(user=username, password=password, host=url, port=port, database=db_name)\n",
        "access.create_postcode_data(conn)\n",
        "conn.close()"
      ]
    },
    {
      "cell_type": "code",
      "execution_count": null,
      "id": "2167bb1d",
      "metadata": {},
      "outputs": [],
      "source": [
        "conn = access.create_connection(user=username, password=password, host=url, port=port, database=db_name)\n",
        "access.populate_table(conn=conn, filename=\"postcode_data/open_postcode_geo.csv\", table=\"postcode_data\")\n",
        "conn.close()"
      ]
    },
    {
      "cell_type": "code",
      "execution_count": null,
      "id": "68ec53d2",
      "metadata": {},
      "outputs": [],
      "source": [
        "# Check to ensure that postcode data has been populated in teh relevant table\n",
        "conn = access.create_connection(user=username, password=password, host=url, port=port, database=db_name)\n",
        "access.query_table(conn=conn, table='postcode_data', conditions=[access.equal_condition('db_id', 2500000)])\n",
        "conn = access.create_connection(user=username, password=password, host=url, port=port, database=db_name)"
      ]
    },
    {
      "cell_type": "markdown",
      "id": "d67ca4ef",
      "metadata": {
        "id": "d67ca4ef"
      },
      "source": [
        "### Task D\n",
        "\n",
        "This table should contain the house price paid and the latitude and longitude of the house. We could create a new data frame that contains all this information. However, the computation of that data frame would take some time because of the size of the two existing tables in the join. Whether this is a good idea or not in a live system will depend on how often these predictions are required. If it's very often, it would be better to store the join as a new table in the database, because the one-off cost for that join is amortised across all the future predictions. If only a few predictions are required (like in our lab class) then doing that join on the fly might be better.\n",
        "\n",
        "- Option A: Think about which columns from each table will be useful to you in making predictions, then write code to efficiently select this information and create a data frame from the two tables for a set of properties. \"Join on the fly\". This option looks easier but the disadvantage is the extra latency it adds as joins are performed every time we need to answer data questions. These latencies are usually not accepted in production environments.\n",
        "\n",
        "- Option B: Alternatively, you can create a database table called `property_prices` to store the join of the tables you created in the previous tasks. The advantage of this approach is that you will get faster responses because the join is performed once. The disadvantage is that populating the new table can take a long time because you would join two big tables. You need to be more creative with this option. Remember that you can divide your dataset by different criteria (e.g., by year) and that loading data from files is much faster than `INSERT INTO` instructions. Populating the table took from 4 to 6 minutes per year in our tests on a Dell Laptop Intel Core i5 with 16GB of RAM and using the Eduroam network at the Computer Lab. Populating the table by year also gives you control over the upload process. You could write your code in a way you can stop and restart the upload process. The new table could have a schema like the one below:\n",
        "\n",
        "  ```\n",
        "  USE `property_prices`;\n",
        "  --\n",
        "  -- Table structure for table `prices_coordinates_data`\n",
        "  --\n",
        "  DROP TABLE IF EXISTS `prices_coordinates_data`;\n",
        "  CREATE TABLE IF NOT EXISTS `prices_coordinates_data` (\n",
        "    `price` int(10) unsigned NOT NULL,\n",
        "    `date_of_transfer` date NOT NULL,\n",
        "    `postcode` varchar(8) COLLATE utf8_bin NOT NULL,\n",
        "    `property_type` varchar(1) COLLATE utf8_bin NOT NULL,\n",
        "    `new_build_flag` varchar(1) COLLATE utf8_bin NOT NULL,\n",
        "    `tenure_type` varchar(1) COLLATE utf8_bin NOT NULL,\n",
        "    `locality` tinytext COLLATE utf8_bin NOT NULL,\n",
        "    `town_city` tinytext COLLATE utf8_bin NOT NULL,\n",
        "    `district` tinytext COLLATE utf8_bin NOT NULL,\n",
        "    `county` tinytext COLLATE utf8_bin NOT NULL,\n",
        "    `country` enum('England', 'Wales', 'Scotland', 'Northern Ireland', 'Channel Islands', 'Isle of Man') NOT NULL,\n",
        "    `latitude` decimal(11,8) NOT NULL,\n",
        "    `longitude` decimal(10,8) NOT NULL,\n",
        "    `db_id` bigint(20) unsigned NOT NULL\n",
        "  ) DEFAULT CHARSET=utf8 COLLATE=utf8_bin AUTO_INCREMENT=1 ;\n",
        "\n",
        "  ```\n",
        "\n",
        "In both cases you will need to perform a join between `pp_data` and `postcode_data` tables. Joining large tables without the right indexes in place will take a long time. You should think and set the right index for an efficient join. Indexing the `pp_data` table should take less than 5 minutes, while it takes less than one minute to index the `postcode_data` table.\n",
        "\n",
        "Note that there is no preference for either approach in the mark scheme.\n",
        "\n",
        "You should use the joined data in your prediction model in Question 3. Exploit the nature of the task to use prices for a particular region in a given period. This means we can select the relevant rows from the database according to that region and period.\n",
        "\n",
        "***After you have populated your database tables and created the functions to access the data you need for Question 3, you will not need to redo any of the previous steps. If at some point you find the AWS database is not responding or taking longer than expected to perform operations, you can have a look at the process list and kill the one are causing problems. If killing the processes does not work, you should reboot the database in the AWS console. Be careful with other database instances if you need to reboot your database. Also, be careful not to delete the database instead of rebooting it. If you delete the database, it is likely you will need to redo all Question 1.***"
      ]
    },
    {
      "cell_type": "code",
      "execution_count": 3,
      "id": "Y-lttyzUtSv7",
      "metadata": {
        "id": "Y-lttyzUtSv7"
      },
      "outputs": [],
      "source": [
        "# Write the code you used to join the tables, or the code you used to join on the fly.\n",
        "# Given the fact that a real production system is likely to be latency sensitive (or at least have a preference for lower latency), I have decided to go with option B (storing the joined table ahead of time)\n",
        "# Table creation code\n",
        "conn = access.create_connection(user=username, password=password, host=url, port=port, database=db_name)\n",
        "access.create_prices_coordinates_data(conn)\n",
        "conn.close()"
      ]
    },
    {
      "cell_type": "code",
      "execution_count": 21,
      "id": "6aa72fd3",
      "metadata": {},
      "outputs": [],
      "source": [
        "# Indexing pp_data table on postcode\n",
        "conn = access.create_connection(user=username, password=password, host=url, port=port, database=db_name)\n",
        "access.create_index(conn, 'index_postcode', 'pp_data', 'postcode')\n",
        "conn.close()"
      ]
    },
    {
      "cell_type": "code",
      "execution_count": 22,
      "id": "162b20e2",
      "metadata": {},
      "outputs": [],
      "source": [
        "# Indexing pp_data table on date_of_transfer\n",
        "conn = access.create_connection(user=username, password=password, host=url, port=port, database=db_name)\n",
        "access.create_index(conn, 'index_date_of_transfer', 'pp_data', 'date_of_transfer')\n",
        "conn.close()"
      ]
    },
    {
      "cell_type": "code",
      "execution_count": null,
      "id": "2e73a304",
      "metadata": {},
      "outputs": [],
      "source": [
        "# Indexing postcode_data table on postcode\n",
        "conn = access.create_connection(user=username, password=password, host=url, port=port, database=db_name)\n",
        "access.create_index(conn, 'index_postcode', 'postcode_data', 'postcode')\n",
        "conn.close()"
      ]
    },
    {
      "cell_type": "code",
      "execution_count": 23,
      "id": "1e6a5aab",
      "metadata": {},
      "outputs": [
        {
          "name": "stderr",
          "output_type": "stream",
          "text": [
            " 41%|████▏     | 12/29 [21:52<30:58, 109.34s/it]"
          ]
        },
        {
          "name": "stdout",
          "output_type": "stream",
          "text": [
            "2006 took: 1312.0737240314484 seconds\n"
          ]
        },
        {
          "name": "stderr",
          "output_type": "stream",
          "text": [
            " 45%|████▍     | 13/29 [42:40<1:01:27, 230.48s/it]"
          ]
        },
        {
          "name": "stdout",
          "output_type": "stream",
          "text": [
            "2007 took: 1248.0671701431274 seconds\n"
          ]
        },
        {
          "name": "stderr",
          "output_type": "stream",
          "text": [
            " 48%|████▊     | 14/29 [48:42<1:01:57, 247.84s/it]"
          ]
        },
        {
          "name": "stdout",
          "output_type": "stream",
          "text": [
            "2008 took: 362.0547139644623 seconds\n"
          ]
        },
        {
          "name": "stderr",
          "output_type": "stream",
          "text": [
            " 52%|█████▏    | 15/29 [53:58<1:00:22, 258.76s/it]"
          ]
        },
        {
          "name": "stdout",
          "output_type": "stream",
          "text": [
            "2009 took: 316.67065691947937 seconds\n"
          ]
        },
        {
          "name": "stderr",
          "output_type": "stream",
          "text": [
            " 55%|█████▌    | 16/29 [1:00:10<1:00:34, 279.56s/it]"
          ]
        },
        {
          "name": "stdout",
          "output_type": "stream",
          "text": [
            "2010 took: 371.3548822402954 seconds\n"
          ]
        },
        {
          "name": "stderr",
          "output_type": "stream",
          "text": [
            " 59%|█████▊    | 17/29 [1:06:16<59:31, 297.61s/it]  "
          ]
        },
        {
          "name": "stdout",
          "output_type": "stream",
          "text": [
            "2011 took: 366.0408709049225 seconds\n"
          ]
        },
        {
          "name": "stderr",
          "output_type": "stream",
          "text": [
            " 62%|██████▏   | 18/29 [1:12:26<57:36, 314.23s/it]"
          ]
        },
        {
          "name": "stdout",
          "output_type": "stream",
          "text": [
            "2012 took: 369.9284951686859 seconds\n"
          ]
        },
        {
          "name": "stderr",
          "output_type": "stream",
          "text": [
            " 66%|██████▌   | 19/29 [1:21:46<1:02:30, 375.10s/it]"
          ]
        },
        {
          "name": "stdout",
          "output_type": "stream",
          "text": [
            "2013 took: 560.53963804245 seconds\n"
          ]
        },
        {
          "name": "stderr",
          "output_type": "stream",
          "text": [
            " 69%|██████▉   | 20/29 [1:35:45<1:14:23, 495.92s/it]"
          ]
        },
        {
          "name": "stdout",
          "output_type": "stream",
          "text": [
            "2014 took: 838.1714642047882 seconds\n"
          ]
        },
        {
          "name": "stderr",
          "output_type": "stream",
          "text": [
            " 72%|███████▏  | 21/29 [1:46:10<1:10:47, 531.00s/it]"
          ]
        },
        {
          "name": "stdout",
          "output_type": "stream",
          "text": [
            "2015 took: 625.1107277870178 seconds\n"
          ]
        },
        {
          "name": "stderr",
          "output_type": "stream",
          "text": [
            " 76%|███████▌  | 22/29 [1:53:57<59:52, 513.25s/it]  "
          ]
        },
        {
          "name": "stdout",
          "output_type": "stream",
          "text": [
            "2016 took: 467.4768750667572 seconds\n"
          ]
        },
        {
          "name": "stderr",
          "output_type": "stream",
          "text": [
            " 79%|███████▉  | 23/29 [2:02:08<50:40, 506.83s/it]"
          ]
        },
        {
          "name": "stdout",
          "output_type": "stream",
          "text": [
            "2017 took: 490.75059366226196 seconds\n"
          ]
        },
        {
          "name": "stderr",
          "output_type": "stream",
          "text": [
            " 83%|████████▎ | 24/29 [2:09:52<41:12, 494.46s/it]"
          ]
        },
        {
          "name": "stdout",
          "output_type": "stream",
          "text": [
            "2018 took: 464.1165518760681 seconds\n"
          ]
        },
        {
          "name": "stderr",
          "output_type": "stream",
          "text": [
            " 86%|████████▌ | 25/29 [2:16:53<31:31, 472.87s/it]"
          ]
        },
        {
          "name": "stdout",
          "output_type": "stream",
          "text": [
            "2019 took: 420.67240715026855 seconds\n"
          ]
        },
        {
          "name": "stderr",
          "output_type": "stream",
          "text": [
            " 90%|████████▉ | 26/29 [2:23:21<22:23, 447.80s/it]"
          ]
        },
        {
          "name": "stdout",
          "output_type": "stream",
          "text": [
            "2020 took: 387.81659412384033 seconds\n"
          ]
        },
        {
          "name": "stderr",
          "output_type": "stream",
          "text": [
            " 93%|█████████▎| 27/29 [2:38:05<19:14, 577.32s/it]"
          ]
        },
        {
          "name": "stdout",
          "output_type": "stream",
          "text": [
            "2021 took: 884.8639860153198 seconds\n"
          ]
        },
        {
          "name": "stderr",
          "output_type": "stream",
          "text": [
            " 97%|█████████▋| 28/29 [3:20:23<19:20, 1160.28s/it]"
          ]
        },
        {
          "name": "stdout",
          "output_type": "stream",
          "text": [
            "2022 took: 2537.28449010849 seconds\n"
          ]
        },
        {
          "name": "stderr",
          "output_type": "stream",
          "text": [
            "100%|██████████| 29/29 [3:26:52<00:00, 428.01s/it] "
          ]
        },
        {
          "name": "stdout",
          "output_type": "stream",
          "text": [
            "2023 took: 389.1440660953522 seconds\n"
          ]
        },
        {
          "name": "stderr",
          "output_type": "stream",
          "text": [
            "\n"
          ]
        }
      ],
      "source": [
        "# Extract join data from database and store in csv locally\n",
        "# Added a check so that it does not re-extract data that has already been extracted\n",
        "if not os.path.exists(\"joined_data\"):\n",
        "    os.makedirs(\"joined_data\")\n",
        "\n",
        "conn = access.create_connection(user=username, password=password, host=url, port=port, database=db_name)\n",
        "for year in tqdm(range(1995, 2024)):\n",
        "      if f\"{year}.csv\" in os.listdir('joined_data'):\n",
        "            continue\n",
        "      access.store_joined_data(conn, year)\n",
        "conn.close()"
      ]
    },
    {
      "cell_type": "code",
      "execution_count": 7,
      "id": "158a1af7",
      "metadata": {},
      "outputs": [
        {
          "name": "stderr",
          "output_type": "stream",
          "text": [
            "  3%|▎         | 1/29 [00:13<06:28, 13.89s/it]"
          ]
        },
        {
          "name": "stdout",
          "output_type": "stream",
          "text": [
            "1995 took: 13.886062860488892 seconds\n"
          ]
        },
        {
          "name": "stderr",
          "output_type": "stream",
          "text": [
            "  7%|▋         | 2/29 [00:30<06:57, 15.46s/it]"
          ]
        },
        {
          "name": "stdout",
          "output_type": "stream",
          "text": [
            "1996 took: 16.557843923568726 seconds\n"
          ]
        },
        {
          "name": "stderr",
          "output_type": "stream",
          "text": [
            " 10%|█         | 3/29 [00:52<07:55, 18.30s/it]"
          ]
        },
        {
          "name": "stdout",
          "output_type": "stream",
          "text": [
            "1997 took: 21.668492078781128 seconds\n"
          ]
        },
        {
          "name": "stderr",
          "output_type": "stream",
          "text": [
            " 14%|█▍        | 4/29 [01:31<11:03, 26.54s/it]"
          ]
        },
        {
          "name": "stdout",
          "output_type": "stream",
          "text": [
            "1998 took: 39.14479207992554 seconds\n"
          ]
        },
        {
          "name": "stderr",
          "output_type": "stream",
          "text": [
            " 17%|█▋        | 5/29 [02:02<11:15, 28.15s/it]"
          ]
        },
        {
          "name": "stdout",
          "output_type": "stream",
          "text": [
            "1999 took: 30.985936880111694 seconds\n"
          ]
        },
        {
          "name": "stderr",
          "output_type": "stream",
          "text": [
            " 21%|██        | 6/29 [02:18<09:16, 24.21s/it]"
          ]
        },
        {
          "name": "stdout",
          "output_type": "stream",
          "text": [
            "2000 took: 16.577188730239868 seconds\n"
          ]
        },
        {
          "name": "stderr",
          "output_type": "stream",
          "text": [
            " 24%|██▍       | 7/29 [02:50<09:46, 26.64s/it]"
          ]
        },
        {
          "name": "stdout",
          "output_type": "stream",
          "text": [
            "2001 took: 31.60731792449951 seconds\n"
          ]
        },
        {
          "name": "stderr",
          "output_type": "stream",
          "text": [
            " 28%|██▊       | 8/29 [03:16<09:17, 26.57s/it]"
          ]
        },
        {
          "name": "stdout",
          "output_type": "stream",
          "text": [
            "2002 took: 26.412975072860718 seconds\n"
          ]
        },
        {
          "name": "stderr",
          "output_type": "stream",
          "text": [
            " 31%|███       | 9/29 [03:37<08:14, 24.72s/it]"
          ]
        },
        {
          "name": "stdout",
          "output_type": "stream",
          "text": [
            "2003 took: 20.6515109539032 seconds\n"
          ]
        },
        {
          "name": "stderr",
          "output_type": "stream",
          "text": [
            " 34%|███▍      | 10/29 [04:21<09:43, 30.69s/it]"
          ]
        },
        {
          "name": "stdout",
          "output_type": "stream",
          "text": [
            "2004 took: 44.042025089263916 seconds\n"
          ]
        },
        {
          "name": "stderr",
          "output_type": "stream",
          "text": [
            " 38%|███▊      | 11/29 [04:36<07:46, 25.92s/it]"
          ]
        },
        {
          "name": "stdout",
          "output_type": "stream",
          "text": [
            "2005 took: 15.0917649269104 seconds\n"
          ]
        },
        {
          "name": "stderr",
          "output_type": "stream",
          "text": [
            " 41%|████▏     | 12/29 [05:21<08:56, 31.59s/it]"
          ]
        },
        {
          "name": "stdout",
          "output_type": "stream",
          "text": [
            "2006 took: 44.5473530292511 seconds\n"
          ]
        },
        {
          "name": "stderr",
          "output_type": "stream",
          "text": [
            " 45%|████▍     | 13/29 [06:17<10:25, 39.09s/it]"
          ]
        },
        {
          "name": "stdout",
          "output_type": "stream",
          "text": [
            "2007 took: 56.33937621116638 seconds\n"
          ]
        },
        {
          "name": "stderr",
          "output_type": "stream",
          "text": [
            " 48%|████▊     | 14/29 [06:38<08:25, 33.69s/it]"
          ]
        },
        {
          "name": "stdout",
          "output_type": "stream",
          "text": [
            "2008 took: 21.209630012512207 seconds\n"
          ]
        },
        {
          "name": "stderr",
          "output_type": "stream",
          "text": [
            " 52%|█████▏    | 15/29 [06:52<06:28, 27.73s/it]"
          ]
        },
        {
          "name": "stdout",
          "output_type": "stream",
          "text": [
            "2009 took: 13.873190879821777 seconds\n"
          ]
        },
        {
          "name": "stderr",
          "output_type": "stream",
          "text": [
            " 55%|█████▌    | 16/29 [07:05<05:02, 23.30s/it]"
          ]
        },
        {
          "name": "stdout",
          "output_type": "stream",
          "text": [
            "2010 took: 13.007625102996826 seconds\n"
          ]
        },
        {
          "name": "stderr",
          "output_type": "stream",
          "text": [
            " 59%|█████▊    | 17/29 [07:17<03:59, 19.96s/it]"
          ]
        },
        {
          "name": "stdout",
          "output_type": "stream",
          "text": [
            "2011 took: 12.193318128585815 seconds\n"
          ]
        },
        {
          "name": "stderr",
          "output_type": "stream",
          "text": [
            " 62%|██████▏   | 18/29 [07:53<04:29, 24.49s/it]"
          ]
        },
        {
          "name": "stdout",
          "output_type": "stream",
          "text": [
            "2012 took: 35.02468395233154 seconds\n"
          ]
        },
        {
          "name": "stderr",
          "output_type": "stream",
          "text": [
            " 66%|██████▌   | 19/29 [08:11<03:46, 22.67s/it]"
          ]
        },
        {
          "name": "stdout",
          "output_type": "stream",
          "text": [
            "2013 took: 18.42741084098816 seconds\n"
          ]
        },
        {
          "name": "stderr",
          "output_type": "stream",
          "text": [
            " 69%|██████▉   | 20/29 [08:32<03:18, 22.09s/it]"
          ]
        },
        {
          "name": "stdout",
          "output_type": "stream",
          "text": [
            "2014 took: 20.746530771255493 seconds\n"
          ]
        },
        {
          "name": "stderr",
          "output_type": "stream",
          "text": [
            " 72%|███████▏  | 21/29 [08:52<02:52, 21.55s/it]"
          ]
        },
        {
          "name": "stdout",
          "output_type": "stream",
          "text": [
            "2015 took: 20.2942111492157 seconds\n"
          ]
        },
        {
          "name": "stderr",
          "output_type": "stream",
          "text": [
            " 76%|███████▌  | 22/29 [09:32<03:09, 27.14s/it]"
          ]
        },
        {
          "name": "stdout",
          "output_type": "stream",
          "text": [
            "2016 took: 40.158628702163696 seconds\n"
          ]
        },
        {
          "name": "stderr",
          "output_type": "stream",
          "text": [
            " 79%|███████▉  | 23/29 [10:00<02:43, 27.24s/it]"
          ]
        },
        {
          "name": "stdout",
          "output_type": "stream",
          "text": [
            "2017 took: 27.469801902770996 seconds\n"
          ]
        },
        {
          "name": "stderr",
          "output_type": "stream",
          "text": [
            " 83%|████████▎ | 24/29 [10:18<02:02, 24.56s/it]"
          ]
        },
        {
          "name": "stdout",
          "output_type": "stream",
          "text": [
            "2018 took: 18.292673110961914 seconds\n"
          ]
        },
        {
          "name": "stderr",
          "output_type": "stream",
          "text": [
            " 86%|████████▌ | 25/29 [10:32<01:25, 21.34s/it]"
          ]
        },
        {
          "name": "stdout",
          "output_type": "stream",
          "text": [
            "2019 took: 13.836617946624756 seconds\n"
          ]
        },
        {
          "name": "stderr",
          "output_type": "stream",
          "text": [
            " 90%|████████▉ | 26/29 [11:16<01:24, 28.13s/it]"
          ]
        },
        {
          "name": "stdout",
          "output_type": "stream",
          "text": [
            "2020 took: 43.9685800075531 seconds\n"
          ]
        },
        {
          "name": "stderr",
          "output_type": "stream",
          "text": [
            " 93%|█████████▎| 27/29 [11:41<00:54, 27.27s/it]"
          ]
        },
        {
          "name": "stdout",
          "output_type": "stream",
          "text": [
            "2021 took: 25.250776767730713 seconds\n"
          ]
        },
        {
          "name": "stderr",
          "output_type": "stream",
          "text": [
            " 97%|█████████▋| 28/29 [12:00<00:24, 24.92s/it]"
          ]
        },
        {
          "name": "stdout",
          "output_type": "stream",
          "text": [
            "2022 took: 19.435594081878662 seconds\n"
          ]
        },
        {
          "name": "stderr",
          "output_type": "stream",
          "text": [
            "100%|██████████| 29/29 [12:09<00:00, 25.15s/it]"
          ]
        },
        {
          "name": "stdout",
          "output_type": "stream",
          "text": [
            "2023 took: 8.375259160995483 seconds\n"
          ]
        },
        {
          "name": "stderr",
          "output_type": "stream",
          "text": [
            "\n"
          ]
        }
      ],
      "source": [
        "conn = access.create_connection(user=username, password=password, host=url, port=port, database=db_name)\n",
        "for year in tqdm(range(1995,2024)): \n",
        "        start = time.time()\n",
        "        file_path = f\"joined_data/{year}.csv\"\n",
        "        access.populate_table(conn=conn, filename=file_path, table=\"prices_coordinates_data\")\n",
        "        end = time.time()\n",
        "        print(f\"{year} took: {end-start} seconds\")\n",
        "conn.close()"
      ]
    },
    {
      "cell_type": "code",
      "execution_count": 8,
      "id": "05e1e249",
      "metadata": {},
      "outputs": [
        {
          "data": {
            "text/html": [
              "<div>\n",
              "<style scoped>\n",
              "    .dataframe tbody tr th:only-of-type {\n",
              "        vertical-align: middle;\n",
              "    }\n",
              "\n",
              "    .dataframe tbody tr th {\n",
              "        vertical-align: top;\n",
              "    }\n",
              "\n",
              "    .dataframe thead th {\n",
              "        text-align: right;\n",
              "    }\n",
              "</style>\n",
              "<table border=\"1\" class=\"dataframe\">\n",
              "  <thead>\n",
              "    <tr style=\"text-align: right;\">\n",
              "      <th></th>\n",
              "      <th>price</th>\n",
              "      <th>date_of_transfer</th>\n",
              "      <th>postcode</th>\n",
              "      <th>property_type</th>\n",
              "      <th>new_build_flag</th>\n",
              "      <th>tenure_type</th>\n",
              "      <th>locality</th>\n",
              "      <th>town_city</th>\n",
              "      <th>district</th>\n",
              "      <th>county</th>\n",
              "      <th>country</th>\n",
              "      <th>latitude</th>\n",
              "      <th>longitude</th>\n",
              "      <th>db_id</th>\n",
              "    </tr>\n",
              "  </thead>\n",
              "  <tbody>\n",
              "    <tr>\n",
              "      <th>0</th>\n",
              "      <td>17000</td>\n",
              "      <td>1995-01-01</td>\n",
              "      <td>HU5 5NY</td>\n",
              "      <td>T</td>\n",
              "      <td>N</td>\n",
              "      <td>F</td>\n",
              "      <td>HULL</td>\n",
              "      <td>HULL</td>\n",
              "      <td>KINGSTON UPON HULL</td>\n",
              "      <td>HUMBERSIDE</td>\n",
              "      <td>England</td>\n",
              "      <td>53.75367500</td>\n",
              "      <td>-0.41398500</td>\n",
              "      <td>1</td>\n",
              "    </tr>\n",
              "    <tr>\n",
              "      <th>1</th>\n",
              "      <td>105000</td>\n",
              "      <td>1995-01-01</td>\n",
              "      <td>GU35 8NR</td>\n",
              "      <td>S</td>\n",
              "      <td>N</td>\n",
              "      <td>F</td>\n",
              "      <td>HEADLEY DOWN</td>\n",
              "      <td>BORDON</td>\n",
              "      <td>EAST HAMPSHIRE</td>\n",
              "      <td>HAMPSHIRE</td>\n",
              "      <td>England</td>\n",
              "      <td>51.11642600</td>\n",
              "      <td>-0.81124800</td>\n",
              "      <td>2</td>\n",
              "    </tr>\n",
              "    <tr>\n",
              "      <th>2</th>\n",
              "      <td>50000</td>\n",
              "      <td>1995-01-01</td>\n",
              "      <td>CT19 6HL</td>\n",
              "      <td>S</td>\n",
              "      <td>N</td>\n",
              "      <td>F</td>\n",
              "      <td>FOLKESTONE</td>\n",
              "      <td>FOLKESTONE</td>\n",
              "      <td>SHEPWAY</td>\n",
              "      <td>KENT</td>\n",
              "      <td>England</td>\n",
              "      <td>51.09171500</td>\n",
              "      <td>1.18352700</td>\n",
              "      <td>3</td>\n",
              "    </tr>\n",
              "    <tr>\n",
              "      <th>3</th>\n",
              "      <td>165500</td>\n",
              "      <td>1995-01-01</td>\n",
              "      <td>B45 8LY</td>\n",
              "      <td>D</td>\n",
              "      <td>N</td>\n",
              "      <td>F</td>\n",
              "      <td>BARNT GREEN</td>\n",
              "      <td>BIRMINGHAM</td>\n",
              "      <td>BROMSGROVE</td>\n",
              "      <td>WORCESTERSHIRE</td>\n",
              "      <td>England</td>\n",
              "      <td>52.36307800</td>\n",
              "      <td>-1.98116500</td>\n",
              "      <td>4</td>\n",
              "    </tr>\n",
              "    <tr>\n",
              "      <th>4</th>\n",
              "      <td>50000</td>\n",
              "      <td>1995-01-01</td>\n",
              "      <td>BS1 6XF</td>\n",
              "      <td>F</td>\n",
              "      <td>N</td>\n",
              "      <td>L</td>\n",
              "      <td>BRISTOL</td>\n",
              "      <td>BRISTOL</td>\n",
              "      <td>BRISTOL</td>\n",
              "      <td>AVON</td>\n",
              "      <td>England</td>\n",
              "      <td>51.44725900</td>\n",
              "      <td>-2.61388400</td>\n",
              "      <td>5</td>\n",
              "    </tr>\n",
              "    <tr>\n",
              "      <th>5</th>\n",
              "      <td>72000</td>\n",
              "      <td>1995-01-01</td>\n",
              "      <td>SK10 5HS</td>\n",
              "      <td>S</td>\n",
              "      <td>N</td>\n",
              "      <td>F</td>\n",
              "      <td>BOLLINGTON</td>\n",
              "      <td>MACCLESFIELD</td>\n",
              "      <td>MACCLESFIELD</td>\n",
              "      <td>CHESHIRE</td>\n",
              "      <td>England</td>\n",
              "      <td>53.29541900</td>\n",
              "      <td>-2.11429700</td>\n",
              "      <td>6</td>\n",
              "    </tr>\n",
              "    <tr>\n",
              "      <th>6</th>\n",
              "      <td>300000</td>\n",
              "      <td>1995-01-01</td>\n",
              "      <td>SW19 5JU</td>\n",
              "      <td>F</td>\n",
              "      <td>Y</td>\n",
              "      <td>L</td>\n",
              "      <td>LONDON</td>\n",
              "      <td>LONDON</td>\n",
              "      <td>MERTON</td>\n",
              "      <td>GREATER LONDON</td>\n",
              "      <td>England</td>\n",
              "      <td>51.43432600</td>\n",
              "      <td>-0.22373100</td>\n",
              "      <td>7</td>\n",
              "    </tr>\n",
              "    <tr>\n",
              "      <th>7</th>\n",
              "      <td>53250</td>\n",
              "      <td>1995-01-01</td>\n",
              "      <td>M24 4EN</td>\n",
              "      <td>S</td>\n",
              "      <td>N</td>\n",
              "      <td>L</td>\n",
              "      <td>MIDDLETON</td>\n",
              "      <td>MANCHESTER</td>\n",
              "      <td>ROCHDALE</td>\n",
              "      <td>GREATER MANCHESTER</td>\n",
              "      <td>England</td>\n",
              "      <td>53.55471400</td>\n",
              "      <td>-2.21635700</td>\n",
              "      <td>8</td>\n",
              "    </tr>\n",
              "    <tr>\n",
              "      <th>8</th>\n",
              "      <td>43000</td>\n",
              "      <td>1995-01-01</td>\n",
              "      <td>IP13 9BY</td>\n",
              "      <td>T</td>\n",
              "      <td>N</td>\n",
              "      <td>F</td>\n",
              "      <td>FRAMLINGHAM</td>\n",
              "      <td>WOODBRIDGE</td>\n",
              "      <td>SUFFOLK COASTAL</td>\n",
              "      <td>SUFFOLK</td>\n",
              "      <td>England</td>\n",
              "      <td>52.22133600</td>\n",
              "      <td>1.35248100</td>\n",
              "      <td>9</td>\n",
              "    </tr>\n",
              "    <tr>\n",
              "      <th>9</th>\n",
              "      <td>80000</td>\n",
              "      <td>1995-01-01</td>\n",
              "      <td>CR3 5SU</td>\n",
              "      <td>D</td>\n",
              "      <td>N</td>\n",
              "      <td>F</td>\n",
              "      <td>CATERHAM</td>\n",
              "      <td>CATERHAM</td>\n",
              "      <td>TANDRIDGE</td>\n",
              "      <td>SURREY</td>\n",
              "      <td>England</td>\n",
              "      <td>51.29164500</td>\n",
              "      <td>-0.09533700</td>\n",
              "      <td>10</td>\n",
              "    </tr>\n",
              "  </tbody>\n",
              "</table>\n",
              "</div>"
            ],
            "text/plain": [
              "    price date_of_transfer  postcode property_type new_build_flag tenure_type  \\\n",
              "0   17000       1995-01-01   HU5 5NY             T              N           F   \n",
              "1  105000       1995-01-01  GU35 8NR             S              N           F   \n",
              "2   50000       1995-01-01  CT19 6HL             S              N           F   \n",
              "3  165500       1995-01-01   B45 8LY             D              N           F   \n",
              "4   50000       1995-01-01   BS1 6XF             F              N           L   \n",
              "5   72000       1995-01-01  SK10 5HS             S              N           F   \n",
              "6  300000       1995-01-01  SW19 5JU             F              Y           L   \n",
              "7   53250       1995-01-01   M24 4EN             S              N           L   \n",
              "8   43000       1995-01-01  IP13 9BY             T              N           F   \n",
              "9   80000       1995-01-01   CR3 5SU             D              N           F   \n",
              "\n",
              "       locality     town_city            district              county  \\\n",
              "0          HULL          HULL  KINGSTON UPON HULL          HUMBERSIDE   \n",
              "1  HEADLEY DOWN        BORDON      EAST HAMPSHIRE           HAMPSHIRE   \n",
              "2    FOLKESTONE    FOLKESTONE             SHEPWAY                KENT   \n",
              "3   BARNT GREEN    BIRMINGHAM          BROMSGROVE      WORCESTERSHIRE   \n",
              "4       BRISTOL       BRISTOL             BRISTOL                AVON   \n",
              "5    BOLLINGTON  MACCLESFIELD        MACCLESFIELD            CHESHIRE   \n",
              "6        LONDON        LONDON              MERTON      GREATER LONDON   \n",
              "7     MIDDLETON    MANCHESTER            ROCHDALE  GREATER MANCHESTER   \n",
              "8   FRAMLINGHAM    WOODBRIDGE     SUFFOLK COASTAL             SUFFOLK   \n",
              "9      CATERHAM      CATERHAM           TANDRIDGE              SURREY   \n",
              "\n",
              "   country     latitude    longitude  db_id  \n",
              "0  England  53.75367500  -0.41398500      1  \n",
              "1  England  51.11642600  -0.81124800      2  \n",
              "2  England  51.09171500   1.18352700      3  \n",
              "3  England  52.36307800  -1.98116500      4  \n",
              "4  England  51.44725900  -2.61388400      5  \n",
              "5  England  53.29541900  -2.11429700      6  \n",
              "6  England  51.43432600  -0.22373100      7  \n",
              "7  England  53.55471400  -2.21635700      8  \n",
              "8  England  52.22133600   1.35248100      9  \n",
              "9  England  51.29164500  -0.09533700     10  "
            ]
          },
          "execution_count": 8,
          "metadata": {},
          "output_type": "execute_result"
        }
      ],
      "source": [
        "# Checking that table entries are reasonable after conversion to a dataframe\n",
        "conn = access.create_connection(user=username, password=password, host=url, port=port, database=db_name)\n",
        "x = access.query_table(conn, 'prices_coordinates_data')\n",
        "conn.close()\n",
        "access.price_coordinates_data_to_df(x)"
      ]
    },
    {
      "cell_type": "code",
      "execution_count": 198,
      "id": "084e862e",
      "metadata": {},
      "outputs": [],
      "source": [
        "# Indexing joint table on date to aid with training data collection in the prediction stage\n",
        "conn = access.create_connection(user=username, password=password, host=url, port=port, database=db_name)\n",
        "access.create_index(conn, 'index_date_of_transfer', 'prices_coordinates_data', 'date_of_transfer')\n",
        "conn.close()"
      ]
    },
    {
      "cell_type": "code",
      "execution_count": 199,
      "id": "4f1ced46",
      "metadata": {},
      "outputs": [],
      "source": [
        "# Indexing joint table on latitude to aid with training data collection in the prediction stage\n",
        "conn = access.create_connection(user=username, password=password, host=url, port=port, database=db_name)\n",
        "access.create_index(conn, 'index_latitude', 'prices_coordinates_data', 'latitude')\n",
        "conn.close()"
      ]
    },
    {
      "cell_type": "code",
      "execution_count": 200,
      "id": "5a2a3fef",
      "metadata": {},
      "outputs": [],
      "source": [
        "# Indexing joint table on longitude to aid with training data collection in the prediction stage\n",
        "conn = access.create_connection(user=username, password=password, host=url, port=port, database=db_name)\n",
        "access.create_index(conn, 'index_longitude', 'prices_coordinates_data', 'longitude')\n",
        "conn.close()"
      ]
    },
    {
      "cell_type": "markdown",
      "id": "df36e5d1",
      "metadata": {
        "id": "df36e5d1"
      },
      "source": [
        "## Question 2. Accessing OpenStreetMap and Assessing the Available Features\n",
        "\n",
        "In question 3 you will be given the task of constructing a prediction system for property price levels at a given location. We expect that knowledge of the local region around the property should be helpful in making those price predictions. To evaluate this we will now look at [OpenStreetMap](https://www.openstreetmap.org) as a data source.\n",
        "\n",
        "The tasks below will guide you in accessing and assessing the OpenStreetMap data. The code you write will eventually be assimilated in your python module, but documentation of what you've included and why should remain in the notebook below.\n",
        "\n",
        "Accessing OpenStreetMap through its API can be done using the python library `osmx`. Using what you have learned about the `osmx` interface in the lectures, write general code for downloading points of interest and other relevant information that you believe may be useful for predicting house prices. Remembering the perspectives we've taken on *data science as debugging*, the remarks we've made when discussing *the data crisis* of the importance of reusability in data analysis, and the techniques we've explored in the labsessions for visualising features and exploring their correlation use the notebook to document your assessment of the OpenStreetMap data as a potential source of data.\n",
        "\n",
        "The knowledge you need to do a first pass through this question will have been taught by end of lab session three (16th November 2021). You will likely want to review your answer as part of *refactoring* your code and analysis pipeline shortly before hand in.\n",
        "\n",
        "You should write reusable code that allows you to explore the characteristics of different points of interest. Looking ahead to question 3 you'll want to incorporate these points of interest in your prediction code.\n",
        "\n",
        "*5 marks*\n"
      ]
    },
    {
      "cell_type": "code",
      "execution_count": null,
      "id": "042a2863",
      "metadata": {
        "id": "042a2863"
      },
      "outputs": [],
      "source": [
        "# Use this cell and cells below for summarising your analysis and documenting your decision making."
      ]
    },
    {
      "cell_type": "code",
      "execution_count": null,
      "id": "c7c427b2",
      "metadata": {},
      "outputs": [],
      "source": [
        "%pip install osmnx"
      ]
    },
    {
      "cell_type": "code",
      "execution_count": 83,
      "id": "01af5a55",
      "metadata": {},
      "outputs": [],
      "source": [
        "import osmnx as ox\n",
        "from sklearn.decomposition import PCA\n",
        "import matplotlib.pyplot as plt\n",
        "# import mlai"
      ]
    },
    {
      "cell_type": "markdown",
      "id": "284a2392",
      "metadata": {},
      "source": [
        "## General code for generating POIS"
      ]
    },
    {
      "cell_type": "code",
      "execution_count": 77,
      "id": "113b0d73",
      "metadata": {},
      "outputs": [],
      "source": [
        "KEYS_DICT = {\n",
        "        \"public_transport\": True,\n",
        "        # \"amenity\": \"school\", # There will be a correlation between amenity and school as an amenity is classed as a school (but my prior is that schools are such abn important field when it comes to house prices that they should be their own feature)\n",
        "        \"amenity\": True, #Used to get other amenities eg. cinema, fast food etc. that have not been given a dedicate feature (need to remove other feature already account for)\n",
        "        \"leisure\": True, #May want to split this up further into park, playground etc.\n",
        "        \"natural\": True, #Proximity t nature may be helpful but may need to split further as tree counts here\n",
        "        \"residential\": True,\n",
        "        \"landuse:residential\": True,\n",
        "        # \"landuse\": \"residential\", #TODO: Figure out how to break this down into rural/urban etc.\n",
        "        \"shop\": True,\n",
        "        \"tourism\": True,\n",
        "        \"historic\": True,\n",
        "        \"aeroway\": True,\n",
        "        \"healthcare\": True,\n",
        "        \"industrial\": True,\n",
        "        \"flood_prone\": True,\n",
        "        \"highway\": True,\n",
        "        \"waste\": True\n",
        "        }\n",
        "\n",
        "locations = [(51.5316, 0.1236, \"Kings Cross, London\"), (50.2660, 5.0527, \"Cornwall, England\"), (52.1951, 0.1313, \"Cambridge, England\")]"
      ]
    },
    {
      "cell_type": "code",
      "execution_count": 78,
      "id": "8c0ad383",
      "metadata": {},
      "outputs": [
        {
          "name": "stderr",
          "output_type": "stream",
          "text": [
            "/opt/homebrew/lib/python3.11/site-packages/fynesse/assess.py:58: UserWarning: The `geometries` module and `geometries_from_X` functions have been renamed the `features` module and `features_from_X` functions. Use these instead. The `geometries` module and function names are deprecated and will be removed in a future release.\n",
            "  return ox.geometries_from_bbox(north, south, east, west, tags)\n",
            "/opt/homebrew/lib/python3.11/site-packages/fynesse/assess.py:58: UserWarning: The `geometries` module and `geometries_from_X` functions have been renamed the `features` module and `features_from_X` functions. Use these instead. The `geometries` module and function names are deprecated and will be removed in a future release.\n",
            "  return ox.geometries_from_bbox(north, south, east, west, tags)\n",
            "/opt/homebrew/lib/python3.11/site-packages/fynesse/assess.py:58: UserWarning: The `geometries` module and `geometries_from_X` functions have been renamed the `features` module and `features_from_X` functions. Use these instead. The `geometries` module and function names are deprecated and will be removed in a future release.\n",
            "  return ox.geometries_from_bbox(north, south, east, west, tags)\n"
          ]
        },
        {
          "ename": "KeyboardInterrupt",
          "evalue": "",
          "output_type": "error",
          "traceback": [
            "\u001b[0;31m---------------------------------------------------------------------------\u001b[0m",
            "\u001b[0;31mKeyboardInterrupt\u001b[0m                         Traceback (most recent call last)",
            "\u001b[1;32m/Users/isaacdiarrassouba/Desktop/Part II/Advanced Data Science/Final assignment/fynesse_template/notebooks/ADS_Report_2268A.ipynb Cell 45\u001b[0m line \u001b[0;36m5\n\u001b[1;32m      <a href='vscode-notebook-cell:/Users/isaacdiarrassouba/Desktop/Part%20II/Advanced%20Data%20Science/Final%20assignment/fynesse_template/notebooks/ADS_Report_2268A.ipynb#Y140sZmlsZQ%3D%3D?line=0'>1</a>\u001b[0m KEYS \u001b[39m=\u001b[39m [\u001b[39m\"\u001b[39m\u001b[39mpublic_transport\u001b[39m\u001b[39m\"\u001b[39m, \u001b[39m\"\u001b[39m\u001b[39mamenity\u001b[39m\u001b[39m\"\u001b[39m, \u001b[39m\"\u001b[39m\u001b[39mleisure\u001b[39m\u001b[39m\"\u001b[39m, \u001b[39m\"\u001b[39m\u001b[39mnatural\u001b[39m\u001b[39m\"\u001b[39m, \u001b[39m\"\u001b[39m\u001b[39mshop\u001b[39m\u001b[39m\"\u001b[39m, \u001b[39m\"\u001b[39m\u001b[39mtourism\u001b[39m\u001b[39m\"\u001b[39m, \n\u001b[1;32m      <a href='vscode-notebook-cell:/Users/isaacdiarrassouba/Desktop/Part%20II/Advanced%20Data%20Science/Final%20assignment/fynesse_template/notebooks/ADS_Report_2268A.ipynb#Y140sZmlsZQ%3D%3D?line=1'>2</a>\u001b[0m              \u001b[39m\"\u001b[39m\u001b[39mhistoric\u001b[39m\u001b[39m\"\u001b[39m, \u001b[39m\"\u001b[39m\u001b[39maeroway\u001b[39m\u001b[39m\"\u001b[39m, \u001b[39m\"\u001b[39m\u001b[39mhealthcare\u001b[39m\u001b[39m\"\u001b[39m, \u001b[39m\"\u001b[39m\u001b[39mindustrial\u001b[39m\u001b[39m\"\u001b[39m, \u001b[39m\"\u001b[39m\u001b[39mflood_prone\u001b[39m\u001b[39m\"\u001b[39m, \u001b[39m\"\u001b[39m\u001b[39mhighway\u001b[39m\u001b[39m\"\u001b[39m, \u001b[39m\"\u001b[39m\u001b[39mwaste\u001b[39m\u001b[39m\"\u001b[39m]\n\u001b[1;32m      <a href='vscode-notebook-cell:/Users/isaacdiarrassouba/Desktop/Part%20II/Advanced%20Data%20Science/Final%20assignment/fynesse_template/notebooks/ADS_Report_2268A.ipynb#Y140sZmlsZQ%3D%3D?line=2'>3</a>\u001b[0m TAGS \u001b[39m=\u001b[39m [(\u001b[39m\"\u001b[39m\u001b[39mamenity\u001b[39m\u001b[39m\"\u001b[39m, \u001b[39m\"\u001b[39m\u001b[39mschool\u001b[39m\u001b[39m\"\u001b[39m)]\n\u001b[0;32m----> <a href='vscode-notebook-cell:/Users/isaacdiarrassouba/Desktop/Part%20II/Advanced%20Data%20Science/Final%20assignment/fynesse_template/notebooks/ADS_Report_2268A.ipynb#Y140sZmlsZQ%3D%3D?line=4'>5</a>\u001b[0m assess\u001b[39m.\u001b[39;49mvisualise_pois_by_key(locations, KEYS)\n\u001b[1;32m      <a href='vscode-notebook-cell:/Users/isaacdiarrassouba/Desktop/Part%20II/Advanced%20Data%20Science/Final%20assignment/fynesse_template/notebooks/ADS_Report_2268A.ipynb#Y140sZmlsZQ%3D%3D?line=5'>6</a>\u001b[0m assess\u001b[39m.\u001b[39mvisualise_pois_by_key(locations, TAGS, tag_version\u001b[39m=\u001b[39m\u001b[39mTrue\u001b[39;00m)\n",
            "File \u001b[0;32m/opt/homebrew/lib/python3.11/site-packages/fynesse/assess.py:96\u001b[0m, in \u001b[0;36mvisualise_pois_by_key\u001b[0;34m(locations, keys, box_height, box_width, tag_version)\u001b[0m\n\u001b[1;32m     94\u001b[0m \u001b[39mfor\u001b[39;00m loc \u001b[39min\u001b[39;00m locations:\n\u001b[1;32m     95\u001b[0m     pois\u001b[39m.\u001b[39mappend(get_pois(loc[\u001b[39m0\u001b[39m], loc[\u001b[39m1\u001b[39m], KEYS_DICT, box_height, box_width))\n\u001b[0;32m---> 96\u001b[0m     graphs\u001b[39m.\u001b[39mappend(get_graph(loc[\u001b[39m0\u001b[39;49m], loc[\u001b[39m1\u001b[39;49m], box_height, box_width))\n\u001b[1;32m     98\u001b[0m _, ax \u001b[39m=\u001b[39m plt\u001b[39m.\u001b[39msubplots(\u001b[39mlen\u001b[39m(keys), \u001b[39mlen\u001b[39m(locations), figsize\u001b[39m=\u001b[39m(\u001b[39mlen\u001b[39m(locations[\u001b[39m0\u001b[39m][\u001b[39m2\u001b[39m]), (\u001b[39mlen\u001b[39m(keys)) \u001b[39m*\u001b[39m \u001b[39m4\u001b[39m))\n\u001b[1;32m    100\u001b[0m \u001b[39mfor\u001b[39;00m i, loc \u001b[39min\u001b[39;00m \u001b[39menumerate\u001b[39m(locations):\n",
            "File \u001b[0;32m/opt/homebrew/lib/python3.11/site-packages/fynesse/assess.py:65\u001b[0m, in \u001b[0;36mget_graph\u001b[0;34m(latitude, longitude, box_height, box_width)\u001b[0m\n\u001b[1;32m     63\u001b[0m west \u001b[39m=\u001b[39m longitude \u001b[39m-\u001b[39m box_width\u001b[39m/\u001b[39m\u001b[39m2\u001b[39m\n\u001b[1;32m     64\u001b[0m east \u001b[39m=\u001b[39m longitude \u001b[39m+\u001b[39m box_width\u001b[39m/\u001b[39m\u001b[39m2\u001b[39m\n\u001b[0;32m---> 65\u001b[0m \u001b[39mreturn\u001b[39;00m ox\u001b[39m.\u001b[39;49mgraph_from_bbox(north, south, east, west)\n",
            "File \u001b[0;32m/opt/homebrew/lib/python3.11/site-packages/osmnx/graph.py:95\u001b[0m, in \u001b[0;36mgraph_from_bbox\u001b[0;34m(north, south, east, west, network_type, simplify, retain_all, truncate_by_edge, clean_periphery, custom_filter)\u001b[0m\n\u001b[1;32m     92\u001b[0m polygon \u001b[39m=\u001b[39m utils_geo\u001b[39m.\u001b[39mbbox_to_poly(north, south, east, west)\n\u001b[1;32m     94\u001b[0m \u001b[39m# create graph using this polygon geometry\u001b[39;00m\n\u001b[0;32m---> 95\u001b[0m G \u001b[39m=\u001b[39m graph_from_polygon(\n\u001b[1;32m     96\u001b[0m     polygon,\n\u001b[1;32m     97\u001b[0m     network_type\u001b[39m=\u001b[39;49mnetwork_type,\n\u001b[1;32m     98\u001b[0m     simplify\u001b[39m=\u001b[39;49msimplify,\n\u001b[1;32m     99\u001b[0m     retain_all\u001b[39m=\u001b[39;49mretain_all,\n\u001b[1;32m    100\u001b[0m     truncate_by_edge\u001b[39m=\u001b[39;49mtruncate_by_edge,\n\u001b[1;32m    101\u001b[0m     clean_periphery\u001b[39m=\u001b[39;49mclean_periphery,\n\u001b[1;32m    102\u001b[0m     custom_filter\u001b[39m=\u001b[39;49mcustom_filter,\n\u001b[1;32m    103\u001b[0m )\n\u001b[1;32m    105\u001b[0m utils\u001b[39m.\u001b[39mlog(\u001b[39mf\u001b[39m\u001b[39m\"\u001b[39m\u001b[39mgraph_from_bbox returned graph with \u001b[39m\u001b[39m{\u001b[39;00m\u001b[39mlen\u001b[39m(G)\u001b[39m:\u001b[39;00m\u001b[39m,\u001b[39m\u001b[39m}\u001b[39;00m\u001b[39m nodes and \u001b[39m\u001b[39m{\u001b[39;00m\u001b[39mlen\u001b[39m(G\u001b[39m.\u001b[39medges)\u001b[39m:\u001b[39;00m\u001b[39m,\u001b[39m\u001b[39m}\u001b[39;00m\u001b[39m edges\u001b[39m\u001b[39m\"\u001b[39m)\n\u001b[1;32m    106\u001b[0m \u001b[39mreturn\u001b[39;00m G\n",
            "File \u001b[0;32m/opt/homebrew/lib/python3.11/site-packages/osmnx/graph.py:492\u001b[0m, in \u001b[0;36mgraph_from_polygon\u001b[0;34m(polygon, network_type, simplify, retain_all, truncate_by_edge, clean_periphery, custom_filter)\u001b[0m\n\u001b[1;32m    485\u001b[0m     G_buff \u001b[39m=\u001b[39m simplification\u001b[39m.\u001b[39msimplify_graph(G_buff)\n\u001b[1;32m    487\u001b[0m \u001b[39m# truncate graph by original polygon to return graph within polygon\u001b[39;00m\n\u001b[1;32m    488\u001b[0m \u001b[39m# caller wants. don't simplify again: this allows us to retain\u001b[39;00m\n\u001b[1;32m    489\u001b[0m \u001b[39m# intersections along the street that may now only connect 2 street\u001b[39;00m\n\u001b[1;32m    490\u001b[0m \u001b[39m# segments in the network, but in reality also connect to an\u001b[39;00m\n\u001b[1;32m    491\u001b[0m \u001b[39m# intersection just outside the polygon\u001b[39;00m\n\u001b[0;32m--> 492\u001b[0m G \u001b[39m=\u001b[39m truncate\u001b[39m.\u001b[39;49mtruncate_graph_polygon(G_buff, polygon, retain_all, truncate_by_edge)\n\u001b[1;32m    494\u001b[0m \u001b[39m# count how many physical streets in buffered graph connect to each\u001b[39;00m\n\u001b[1;32m    495\u001b[0m \u001b[39m# intersection in un-buffered graph, to retain true counts for each\u001b[39;00m\n\u001b[1;32m    496\u001b[0m \u001b[39m# intersection, even if some of its neighbors are outside the polygon\u001b[39;00m\n\u001b[1;32m    497\u001b[0m spn \u001b[39m=\u001b[39m stats\u001b[39m.\u001b[39mcount_streets_per_node(G_buff, nodes\u001b[39m=\u001b[39mG\u001b[39m.\u001b[39mnodes)\n",
            "File \u001b[0;32m/opt/homebrew/lib/python3.11/site-packages/osmnx/truncate.py:190\u001b[0m, in \u001b[0;36mtruncate_graph_polygon\u001b[0;34m(G, polygon, retain_all, truncate_by_edge, quadrat_width, min_num)\u001b[0m\n\u001b[1;32m    187\u001b[0m \u001b[39mif\u001b[39;00m \u001b[39mnot\u001b[39;00m retain_all:\n\u001b[1;32m    188\u001b[0m     \u001b[39m# remove any isolated nodes and retain only the largest component\u001b[39;00m\n\u001b[1;32m    189\u001b[0m     G \u001b[39m=\u001b[39m utils_graph\u001b[39m.\u001b[39mremove_isolated_nodes(G)\n\u001b[0;32m--> 190\u001b[0m     G \u001b[39m=\u001b[39m utils_graph\u001b[39m.\u001b[39;49mget_largest_component(G)\n\u001b[1;32m    192\u001b[0m utils\u001b[39m.\u001b[39mlog(\u001b[39m\"\u001b[39m\u001b[39mTruncated graph by polygon\u001b[39m\u001b[39m\"\u001b[39m)\n\u001b[1;32m    193\u001b[0m \u001b[39mreturn\u001b[39;00m G\n",
            "File \u001b[0;32m/opt/homebrew/lib/python3.11/site-packages/osmnx/utils_graph.py:314\u001b[0m, in \u001b[0;36mget_largest_component\u001b[0;34m(G, strongly)\u001b[0m\n\u001b[1;32m    311\u001b[0m     n \u001b[39m=\u001b[39m \u001b[39mlen\u001b[39m(G)\n\u001b[1;32m    313\u001b[0m     \u001b[39m# induce (frozen) subgraph then unfreeze it by making new MultiDiGraph\u001b[39;00m\n\u001b[0;32m--> 314\u001b[0m     G \u001b[39m=\u001b[39m nx\u001b[39m.\u001b[39;49mMultiDiGraph(G\u001b[39m.\u001b[39;49msubgraph(largest_cc))\n\u001b[1;32m    315\u001b[0m     utils\u001b[39m.\u001b[39mlog(\u001b[39mf\u001b[39m\u001b[39m\"\u001b[39m\u001b[39mGot largest \u001b[39m\u001b[39m{\u001b[39;00mkind\u001b[39m}\u001b[39;00m\u001b[39m connected component (\u001b[39m\u001b[39m{\u001b[39;00m\u001b[39mlen\u001b[39m(G)\u001b[39m:\u001b[39;00m\u001b[39m,\u001b[39m\u001b[39m}\u001b[39;00m\u001b[39m of \u001b[39m\u001b[39m{\u001b[39;00mn\u001b[39m:\u001b[39;00m\u001b[39m,\u001b[39m\u001b[39m}\u001b[39;00m\u001b[39m total nodes)\u001b[39m\u001b[39m\"\u001b[39m)\n\u001b[1;32m    317\u001b[0m \u001b[39mreturn\u001b[39;00m G\n",
            "File \u001b[0;32m/opt/homebrew/lib/python3.11/site-packages/networkx/classes/multidigraph.py:362\u001b[0m, in \u001b[0;36mMultiDiGraph.__init__\u001b[0;34m(self, incoming_graph_data, multigraph_input, **attr)\u001b[0m\n\u001b[1;32m    360\u001b[0m         DiGraph\u001b[39m.\u001b[39m\u001b[39m__init__\u001b[39m(\u001b[39mself\u001b[39m, incoming_graph_data, \u001b[39m*\u001b[39m\u001b[39m*\u001b[39mattr)\n\u001b[1;32m    361\u001b[0m \u001b[39melse\u001b[39;00m:\n\u001b[0;32m--> 362\u001b[0m     DiGraph\u001b[39m.\u001b[39;49m\u001b[39m__init__\u001b[39;49m(\u001b[39mself\u001b[39;49m, incoming_graph_data, \u001b[39m*\u001b[39;49m\u001b[39m*\u001b[39;49mattr)\n",
            "File \u001b[0;32m/opt/homebrew/lib/python3.11/site-packages/networkx/classes/digraph.py:360\u001b[0m, in \u001b[0;36mDiGraph.__init__\u001b[0;34m(self, incoming_graph_data, **attr)\u001b[0m\n\u001b[1;32m    356\u001b[0m \u001b[39m# Note: self._succ = self._adj  # successor\u001b[39;00m\n\u001b[1;32m    357\u001b[0m \n\u001b[1;32m    358\u001b[0m \u001b[39m# attempt to load graph with data\u001b[39;00m\n\u001b[1;32m    359\u001b[0m \u001b[39mif\u001b[39;00m incoming_graph_data \u001b[39mis\u001b[39;00m \u001b[39mnot\u001b[39;00m \u001b[39mNone\u001b[39;00m:\n\u001b[0;32m--> 360\u001b[0m     convert\u001b[39m.\u001b[39;49mto_networkx_graph(incoming_graph_data, create_using\u001b[39m=\u001b[39;49m\u001b[39mself\u001b[39;49m)\n\u001b[1;32m    361\u001b[0m \u001b[39m# load graph attributes (must be after convert)\u001b[39;00m\n\u001b[1;32m    362\u001b[0m \u001b[39mself\u001b[39m\u001b[39m.\u001b[39mgraph\u001b[39m.\u001b[39mupdate(attr)\n",
            "File \u001b[0;32m/opt/homebrew/lib/python3.11/site-packages/networkx/convert.py:76\u001b[0m, in \u001b[0;36mto_networkx_graph\u001b[0;34m(data, create_using, multigraph_input)\u001b[0m\n\u001b[1;32m     74\u001b[0m \u001b[39mif\u001b[39;00m \u001b[39mhasattr\u001b[39m(data, \u001b[39m\"\u001b[39m\u001b[39madj\u001b[39m\u001b[39m\"\u001b[39m):\n\u001b[1;32m     75\u001b[0m     \u001b[39mtry\u001b[39;00m:\n\u001b[0;32m---> 76\u001b[0m         result \u001b[39m=\u001b[39m from_dict_of_dicts(\n\u001b[1;32m     77\u001b[0m             data\u001b[39m.\u001b[39;49madj,\n\u001b[1;32m     78\u001b[0m             create_using\u001b[39m=\u001b[39;49mcreate_using,\n\u001b[1;32m     79\u001b[0m             multigraph_input\u001b[39m=\u001b[39;49mdata\u001b[39m.\u001b[39;49mis_multigraph(),\n\u001b[1;32m     80\u001b[0m         )\n\u001b[1;32m     81\u001b[0m         \u001b[39m# data.graph should be dict-like\u001b[39;00m\n\u001b[1;32m     82\u001b[0m         result\u001b[39m.\u001b[39mgraph\u001b[39m.\u001b[39mupdate(data\u001b[39m.\u001b[39mgraph)\n",
            "File \u001b[0;32m/opt/homebrew/lib/python3.11/site-packages/networkx/utils/backends.py:412\u001b[0m, in \u001b[0;36m_dispatch.__call__\u001b[0;34m(self, backend, *args, **kwargs)\u001b[0m\n\u001b[1;32m    409\u001b[0m \u001b[39mdef\u001b[39;00m \u001b[39m__call__\u001b[39m(\u001b[39mself\u001b[39m, \u001b[39m/\u001b[39m, \u001b[39m*\u001b[39margs, backend\u001b[39m=\u001b[39m\u001b[39mNone\u001b[39;00m, \u001b[39m*\u001b[39m\u001b[39m*\u001b[39mkwargs):\n\u001b[1;32m    410\u001b[0m     \u001b[39mif\u001b[39;00m \u001b[39mnot\u001b[39;00m backends:\n\u001b[1;32m    411\u001b[0m         \u001b[39m# Fast path if no backends are installed\u001b[39;00m\n\u001b[0;32m--> 412\u001b[0m         \u001b[39mreturn\u001b[39;00m \u001b[39mself\u001b[39;49m\u001b[39m.\u001b[39;49morig_func(\u001b[39m*\u001b[39;49margs, \u001b[39m*\u001b[39;49m\u001b[39m*\u001b[39;49mkwargs)\n\u001b[1;32m    414\u001b[0m     \u001b[39m# Use `backend_name` in this function instead of `backend`\u001b[39;00m\n\u001b[1;32m    415\u001b[0m     backend_name \u001b[39m=\u001b[39m backend\n",
            "File \u001b[0;32m/opt/homebrew/lib/python3.11/site-packages/networkx/convert.py:402\u001b[0m, in \u001b[0;36mfrom_dict_of_dicts\u001b[0;34m(d, create_using, multigraph_input)\u001b[0m\n\u001b[1;32m    400\u001b[0m \u001b[39mif\u001b[39;00m G\u001b[39m.\u001b[39mis_directed():\n\u001b[1;32m    401\u001b[0m     \u001b[39mif\u001b[39;00m G\u001b[39m.\u001b[39mis_multigraph():\n\u001b[0;32m--> 402\u001b[0m         G\u001b[39m.\u001b[39;49madd_edges_from(\n\u001b[1;32m    403\u001b[0m             (u, v, key, data)\n\u001b[1;32m    404\u001b[0m             \u001b[39mfor\u001b[39;49;00m u, nbrs \u001b[39min\u001b[39;49;00m d\u001b[39m.\u001b[39;49mitems()\n\u001b[1;32m    405\u001b[0m             \u001b[39mfor\u001b[39;49;00m v, datadict \u001b[39min\u001b[39;49;00m nbrs\u001b[39m.\u001b[39;49mitems()\n\u001b[1;32m    406\u001b[0m             \u001b[39mfor\u001b[39;49;00m key, data \u001b[39min\u001b[39;49;00m datadict\u001b[39m.\u001b[39;49mitems()\n\u001b[1;32m    407\u001b[0m         )\n\u001b[1;32m    408\u001b[0m     \u001b[39melse\u001b[39;00m:\n\u001b[1;32m    409\u001b[0m         G\u001b[39m.\u001b[39madd_edges_from(\n\u001b[1;32m    410\u001b[0m             (u, v, data)\n\u001b[1;32m    411\u001b[0m             \u001b[39mfor\u001b[39;00m u, nbrs \u001b[39min\u001b[39;00m d\u001b[39m.\u001b[39mitems()\n\u001b[1;32m    412\u001b[0m             \u001b[39mfor\u001b[39;00m v, datadict \u001b[39min\u001b[39;00m nbrs\u001b[39m.\u001b[39mitems()\n\u001b[1;32m    413\u001b[0m             \u001b[39mfor\u001b[39;00m key, data \u001b[39min\u001b[39;00m datadict\u001b[39m.\u001b[39mitems()\n\u001b[1;32m    414\u001b[0m         )\n",
            "File \u001b[0;32m/opt/homebrew/lib/python3.11/site-packages/networkx/classes/multigraph.py:594\u001b[0m, in \u001b[0;36mMultiGraph.add_edges_from\u001b[0;34m(self, ebunch_to_add, **attr)\u001b[0m\n\u001b[1;32m    526\u001b[0m \u001b[39m\u001b[39m\u001b[39m\"\"\"Add all the edges in ebunch_to_add.\u001b[39;00m\n\u001b[1;32m    527\u001b[0m \n\u001b[1;32m    528\u001b[0m \u001b[39mParameters\u001b[39;00m\n\u001b[0;32m   (...)\u001b[0m\n\u001b[1;32m    591\u001b[0m \u001b[39m>>> assigned_keys = G.add_edges_from(list((5, n) for n in G.nodes))\u001b[39;00m\n\u001b[1;32m    592\u001b[0m \u001b[39m\"\"\"\u001b[39;00m\n\u001b[1;32m    593\u001b[0m keylist \u001b[39m=\u001b[39m []\n\u001b[0;32m--> 594\u001b[0m \u001b[39mfor\u001b[39;00m e \u001b[39min\u001b[39;00m ebunch_to_add:\n\u001b[1;32m    595\u001b[0m     ne \u001b[39m=\u001b[39m \u001b[39mlen\u001b[39m(e)\n\u001b[1;32m    596\u001b[0m     \u001b[39mif\u001b[39;00m ne \u001b[39m==\u001b[39m \u001b[39m4\u001b[39m:\n",
            "File \u001b[0;32m/opt/homebrew/lib/python3.11/site-packages/networkx/convert.py:402\u001b[0m, in \u001b[0;36m<genexpr>\u001b[0;34m(.0)\u001b[0m\n\u001b[1;32m    400\u001b[0m \u001b[39mif\u001b[39;00m G\u001b[39m.\u001b[39mis_directed():\n\u001b[1;32m    401\u001b[0m     \u001b[39mif\u001b[39;00m G\u001b[39m.\u001b[39mis_multigraph():\n\u001b[0;32m--> 402\u001b[0m         G\u001b[39m.\u001b[39madd_edges_from(\n\u001b[1;32m    403\u001b[0m             (u, v, key, data)\n\u001b[1;32m    404\u001b[0m             \u001b[39mfor\u001b[39;00m u, nbrs \u001b[39min\u001b[39;00m d\u001b[39m.\u001b[39mitems()\n\u001b[1;32m    405\u001b[0m             \u001b[39mfor\u001b[39;00m v, datadict \u001b[39min\u001b[39;00m nbrs\u001b[39m.\u001b[39mitems()\n\u001b[1;32m    406\u001b[0m             \u001b[39mfor\u001b[39;00m key, data \u001b[39min\u001b[39;00m datadict\u001b[39m.\u001b[39mitems()\n\u001b[1;32m    407\u001b[0m         )\n\u001b[1;32m    408\u001b[0m     \u001b[39melse\u001b[39;00m:\n\u001b[1;32m    409\u001b[0m         G\u001b[39m.\u001b[39madd_edges_from(\n\u001b[1;32m    410\u001b[0m             (u, v, data)\n\u001b[1;32m    411\u001b[0m             \u001b[39mfor\u001b[39;00m u, nbrs \u001b[39min\u001b[39;00m d\u001b[39m.\u001b[39mitems()\n\u001b[1;32m    412\u001b[0m             \u001b[39mfor\u001b[39;00m v, datadict \u001b[39min\u001b[39;00m nbrs\u001b[39m.\u001b[39mitems()\n\u001b[1;32m    413\u001b[0m             \u001b[39mfor\u001b[39;00m key, data \u001b[39min\u001b[39;00m datadict\u001b[39m.\u001b[39mitems()\n\u001b[1;32m    414\u001b[0m         )\n",
            "File \u001b[0;32m<frozen _collections_abc>:861\u001b[0m, in \u001b[0;36m__iter__\u001b[0;34m(self)\u001b[0m\n",
            "File \u001b[0;32m/opt/homebrew/lib/python3.11/site-packages/networkx/classes/coreviews.py:81\u001b[0m, in \u001b[0;36mAdjacencyView.__getitem__\u001b[0;34m(self, name)\u001b[0m\n\u001b[1;32m     80\u001b[0m \u001b[39mdef\u001b[39;00m \u001b[39m__getitem__\u001b[39m(\u001b[39mself\u001b[39m, name):\n\u001b[0;32m---> 81\u001b[0m     \u001b[39mreturn\u001b[39;00m AtlasView(\u001b[39mself\u001b[39;49m\u001b[39m.\u001b[39;49m_atlas[name])\n",
            "File \u001b[0;32m/opt/homebrew/lib/python3.11/site-packages/networkx/classes/coreviews.py:355\u001b[0m, in \u001b[0;36mFilterMultiInner.__getitem__\u001b[0;34m(self, nbr)\u001b[0m\n\u001b[1;32m    352\u001b[0m     \u001b[39mdef\u001b[39;00m \u001b[39mnew_node_ok\u001b[39m(key):\n\u001b[1;32m    353\u001b[0m         \u001b[39mreturn\u001b[39;00m \u001b[39mself\u001b[39m\u001b[39m.\u001b[39mEDGE_OK(nbr, key)\n\u001b[0;32m--> 355\u001b[0m     \u001b[39mreturn\u001b[39;00m FilterAtlas(\u001b[39mself\u001b[39;49m\u001b[39m.\u001b[39;49m_atlas[nbr], new_node_ok)\n\u001b[1;32m    356\u001b[0m \u001b[39mraise\u001b[39;00m \u001b[39mKeyError\u001b[39;00m(\u001b[39mf\u001b[39m\u001b[39m\"\u001b[39m\u001b[39mKey \u001b[39m\u001b[39m{\u001b[39;00mnbr\u001b[39m}\u001b[39;00m\u001b[39m not found\u001b[39m\u001b[39m\"\u001b[39m)\n",
            "File \u001b[0;32m/opt/homebrew/lib/python3.11/site-packages/networkx/classes/coreviews.py:267\u001b[0m, in \u001b[0;36mFilterAtlas.__init__\u001b[0;34m(self, d, NODE_OK)\u001b[0m\n\u001b[1;32m    266\u001b[0m \u001b[39mclass\u001b[39;00m \u001b[39mFilterAtlas\u001b[39;00m(Mapping):  \u001b[39m# nodedict, nbrdict, keydict\u001b[39;00m\n\u001b[0;32m--> 267\u001b[0m     \u001b[39mdef\u001b[39;00m \u001b[39m__init__\u001b[39m(\u001b[39mself\u001b[39m, d, NODE_OK):\n\u001b[1;32m    268\u001b[0m         \u001b[39mself\u001b[39m\u001b[39m.\u001b[39m_atlas \u001b[39m=\u001b[39m d\n\u001b[1;32m    269\u001b[0m         \u001b[39mself\u001b[39m\u001b[39m.\u001b[39mNODE_OK \u001b[39m=\u001b[39m NODE_OK\n",
            "\u001b[0;31mKeyboardInterrupt\u001b[0m: "
          ]
        }
      ],
      "source": [
        "KEYS = [\"public_transport\", \"amenity\", \"leisure\", \"natural\", \"shop\", \"tourism\", \n",
        "             \"historic\", \"aeroway\", \"healthcare\", \"industrial\", \"flood_prone\", \"highway\", \"waste\"]\n",
        "TAGS = [(\"amenity\", \"school\")]\n",
        "\n",
        "assess.visualise_pois_by_key(locations, KEYS)\n",
        "assess.visualise_pois_by_key(locations, TAGS, tag_version=True)"
      ]
    },
    {
      "cell_type": "code",
      "execution_count": null,
      "id": "061a90da",
      "metadata": {},
      "outputs": [],
      "source": [
        "# Feature distribution"
      ]
    },
    {
      "cell_type": "code",
      "execution_count": 110,
      "id": "a3b8f33d",
      "metadata": {},
      "outputs": [
        {
          "name": "stderr",
          "output_type": "stream",
          "text": [
            "/opt/homebrew/lib/python3.11/site-packages/fynesse/assess.py:38: UserWarning: The `geometries` module and `geometries_from_X` functions have been renamed the `features` module and `features_from_X` functions. Use these instead. The `geometries` module and function names are deprecated and will be removed in a future release.\n",
            "  return ox.geometries_from_bbox(north, south, east, west, tags)\n"
          ]
        },
        {
          "data": {
            "text/plain": [
              "{'public_transport': 36,\n",
              " 'amenity': 147,\n",
              " 'leisure': 62,\n",
              " 'natural': 51,\n",
              " 'shop': 16,\n",
              " 'tourism': 3,\n",
              " 'historic': 1,\n",
              " 'aeroway': 0,\n",
              " 'healthcare': 2,\n",
              " 'industrial': 1,\n",
              " 'flood_prone': 0,\n",
              " 'highway': 1120,\n",
              " 'waste': 0,\n",
              " 'school': 5}"
            ]
          },
          "execution_count": 110,
          "metadata": {},
          "output_type": "execute_result"
        }
      ],
      "source": [
        "pois = assess.get_pois(51.5316, 0.1236, KEYS_DICT)\n",
        "assess.count_pois_by_features(pois, KEYS, TAGS)"
      ]
    },
    {
      "cell_type": "code",
      "execution_count": 203,
      "id": "d6ba52d2",
      "metadata": {},
      "outputs": [
        {
          "data": {
            "text/html": [
              "<div>\n",
              "<style scoped>\n",
              "    .dataframe tbody tr th:only-of-type {\n",
              "        vertical-align: middle;\n",
              "    }\n",
              "\n",
              "    .dataframe tbody tr th {\n",
              "        vertical-align: top;\n",
              "    }\n",
              "\n",
              "    .dataframe thead th {\n",
              "        text-align: right;\n",
              "    }\n",
              "</style>\n",
              "<table border=\"1\" class=\"dataframe\">\n",
              "  <thead>\n",
              "    <tr style=\"text-align: right;\">\n",
              "      <th></th>\n",
              "      <th>price</th>\n",
              "      <th>date_of_transfer</th>\n",
              "      <th>postcode</th>\n",
              "      <th>property_type</th>\n",
              "      <th>new_build_flag</th>\n",
              "      <th>tenure_type</th>\n",
              "      <th>locality</th>\n",
              "      <th>town_city</th>\n",
              "      <th>district</th>\n",
              "      <th>county</th>\n",
              "      <th>country</th>\n",
              "      <th>latitude</th>\n",
              "      <th>longitude</th>\n",
              "      <th>db_id</th>\n",
              "    </tr>\n",
              "  </thead>\n",
              "  <tbody>\n",
              "    <tr>\n",
              "      <th>0</th>\n",
              "      <td>46250</td>\n",
              "      <td>1995-09-29</td>\n",
              "      <td>NN2 8HT</td>\n",
              "      <td>S</td>\n",
              "      <td>N</td>\n",
              "      <td>F</td>\n",
              "      <td>NORTHAMPTON</td>\n",
              "      <td>NORTHAMPTON</td>\n",
              "      <td>NORTHAMPTON</td>\n",
              "      <td>NORTHAMPTONSHIRE</td>\n",
              "      <td>England</td>\n",
              "      <td>52.26659700</td>\n",
              "      <td>-0.91291300</td>\n",
              "      <td>588128</td>\n",
              "    </tr>\n",
              "    <tr>\n",
              "      <th>1</th>\n",
              "      <td>76000</td>\n",
              "      <td>1996-04-02</td>\n",
              "      <td>RH2 0JW</td>\n",
              "      <td>T</td>\n",
              "      <td>N</td>\n",
              "      <td>F</td>\n",
              "      <td>REIGATE</td>\n",
              "      <td>REIGATE</td>\n",
              "      <td>REIGATE AND BANSTEAD</td>\n",
              "      <td>SURREY</td>\n",
              "      <td>England</td>\n",
              "      <td>51.24586600</td>\n",
              "      <td>-0.18037500</td>\n",
              "      <td>1034063</td>\n",
              "    </tr>\n",
              "    <tr>\n",
              "      <th>2</th>\n",
              "      <td>95500</td>\n",
              "      <td>1996-05-31</td>\n",
              "      <td>RM12 6PX</td>\n",
              "      <td>S</td>\n",
              "      <td>N</td>\n",
              "      <td>F</td>\n",
              "      <td>HORNCHURCH</td>\n",
              "      <td>HORNCHURCH</td>\n",
              "      <td>HAVERING</td>\n",
              "      <td>GREATER LONDON</td>\n",
              "      <td>England</td>\n",
              "      <td>51.55799900</td>\n",
              "      <td>0.23174100</td>\n",
              "      <td>1174706</td>\n",
              "    </tr>\n",
              "    <tr>\n",
              "      <th>3</th>\n",
              "      <td>49995</td>\n",
              "      <td>1996-10-27</td>\n",
              "      <td>M23 9WH</td>\n",
              "      <td>S</td>\n",
              "      <td>N</td>\n",
              "      <td>L</td>\n",
              "      <td>MANCHESTER</td>\n",
              "      <td>MANCHESTER</td>\n",
              "      <td>MANCHESTER</td>\n",
              "      <td>GREATER MANCHESTER</td>\n",
              "      <td>England</td>\n",
              "      <td>53.39782200</td>\n",
              "      <td>-2.30259100</td>\n",
              "      <td>1606034</td>\n",
              "    </tr>\n",
              "    <tr>\n",
              "      <th>4</th>\n",
              "      <td>98500</td>\n",
              "      <td>1997-01-06</td>\n",
              "      <td>BS24 9JL</td>\n",
              "      <td>D</td>\n",
              "      <td>N</td>\n",
              "      <td>F</td>\n",
              "      <td>WESTON-SUPER-MARE</td>\n",
              "      <td>WESTON-SUPER-MARE</td>\n",
              "      <td>NORTH SOMERSET</td>\n",
              "      <td>NORTH SOMERSET</td>\n",
              "      <td>England</td>\n",
              "      <td>51.31542900</td>\n",
              "      <td>-2.96006700</td>\n",
              "      <td>1840133</td>\n",
              "    </tr>\n",
              "    <tr>\n",
              "      <th>...</th>\n",
              "      <td>...</td>\n",
              "      <td>...</td>\n",
              "      <td>...</td>\n",
              "      <td>...</td>\n",
              "      <td>...</td>\n",
              "      <td>...</td>\n",
              "      <td>...</td>\n",
              "      <td>...</td>\n",
              "      <td>...</td>\n",
              "      <td>...</td>\n",
              "      <td>...</td>\n",
              "      <td>...</td>\n",
              "      <td>...</td>\n",
              "      <td>...</td>\n",
              "    </tr>\n",
              "    <tr>\n",
              "      <th>92</th>\n",
              "      <td>770000</td>\n",
              "      <td>2022-03-30</td>\n",
              "      <td>YO18 7QZ</td>\n",
              "      <td>D</td>\n",
              "      <td>N</td>\n",
              "      <td>F</td>\n",
              "      <td>THORNTON-LE-DALE</td>\n",
              "      <td>PICKERING</td>\n",
              "      <td>RYEDALE</td>\n",
              "      <td>NORTH YORKSHIRE</td>\n",
              "      <td>England</td>\n",
              "      <td>54.23705900</td>\n",
              "      <td>-0.70754100</td>\n",
              "      <td>28532013</td>\n",
              "    </tr>\n",
              "    <tr>\n",
              "      <th>93</th>\n",
              "      <td>157950</td>\n",
              "      <td>2022-07-01</td>\n",
              "      <td>LN13 9DF</td>\n",
              "      <td>S</td>\n",
              "      <td>Y</td>\n",
              "      <td>F</td>\n",
              "      <td></td>\n",
              "      <td>ALFORD</td>\n",
              "      <td>EAST LINDSEY</td>\n",
              "      <td>LINCOLNSHIRE</td>\n",
              "      <td>England</td>\n",
              "      <td>53.25319500</td>\n",
              "      <td>0.17929600</td>\n",
              "      <td>28777328</td>\n",
              "    </tr>\n",
              "    <tr>\n",
              "      <th>94</th>\n",
              "      <td>290000</td>\n",
              "      <td>2022-09-22</td>\n",
              "      <td>OX29 4EX</td>\n",
              "      <td>T</td>\n",
              "      <td>N</td>\n",
              "      <td>F</td>\n",
              "      <td>EYNSHAM</td>\n",
              "      <td>WITNEY</td>\n",
              "      <td>WEST OXFORDSHIRE</td>\n",
              "      <td>OXFORDSHIRE</td>\n",
              "      <td>England</td>\n",
              "      <td>51.78663600</td>\n",
              "      <td>-1.36965200</td>\n",
              "      <td>28984437</td>\n",
              "    </tr>\n",
              "    <tr>\n",
              "      <th>95</th>\n",
              "      <td>370000</td>\n",
              "      <td>2022-11-01</td>\n",
              "      <td>RM3 9AF</td>\n",
              "      <td>T</td>\n",
              "      <td>N</td>\n",
              "      <td>F</td>\n",
              "      <td></td>\n",
              "      <td>ROMFORD</td>\n",
              "      <td>HAVERING</td>\n",
              "      <td>GREATER LONDON</td>\n",
              "      <td>England</td>\n",
              "      <td>51.61041000</td>\n",
              "      <td>0.22075000</td>\n",
              "      <td>29098109</td>\n",
              "    </tr>\n",
              "    <tr>\n",
              "      <th>96</th>\n",
              "      <td>347000</td>\n",
              "      <td>2022-11-04</td>\n",
              "      <td>NP10 9NS</td>\n",
              "      <td>S</td>\n",
              "      <td>N</td>\n",
              "      <td>F</td>\n",
              "      <td>ROGERSTONE</td>\n",
              "      <td>NEWPORT</td>\n",
              "      <td>NEWPORT</td>\n",
              "      <td>NEWPORT</td>\n",
              "      <td>Wales</td>\n",
              "      <td>51.58769700</td>\n",
              "      <td>-3.06146800</td>\n",
              "      <td>29104166</td>\n",
              "    </tr>\n",
              "  </tbody>\n",
              "</table>\n",
              "<p>97 rows × 14 columns</p>\n",
              "</div>"
            ],
            "text/plain": [
              "     price date_of_transfer  postcode property_type new_build_flag  \\\n",
              "0    46250       1995-09-29   NN2 8HT             S              N   \n",
              "1    76000       1996-04-02   RH2 0JW             T              N   \n",
              "2    95500       1996-05-31  RM12 6PX             S              N   \n",
              "3    49995       1996-10-27   M23 9WH             S              N   \n",
              "4    98500       1997-01-06  BS24 9JL             D              N   \n",
              "..     ...              ...       ...           ...            ...   \n",
              "92  770000       2022-03-30  YO18 7QZ             D              N   \n",
              "93  157950       2022-07-01  LN13 9DF             S              Y   \n",
              "94  290000       2022-09-22  OX29 4EX             T              N   \n",
              "95  370000       2022-11-01   RM3 9AF             T              N   \n",
              "96  347000       2022-11-04  NP10 9NS             S              N   \n",
              "\n",
              "   tenure_type           locality          town_city              district  \\\n",
              "0            F        NORTHAMPTON        NORTHAMPTON           NORTHAMPTON   \n",
              "1            F            REIGATE            REIGATE  REIGATE AND BANSTEAD   \n",
              "2            F         HORNCHURCH         HORNCHURCH              HAVERING   \n",
              "3            L         MANCHESTER         MANCHESTER            MANCHESTER   \n",
              "4            F  WESTON-SUPER-MARE  WESTON-SUPER-MARE        NORTH SOMERSET   \n",
              "..         ...                ...                ...                   ...   \n",
              "92           F   THORNTON-LE-DALE          PICKERING               RYEDALE   \n",
              "93           F                                ALFORD          EAST LINDSEY   \n",
              "94           F            EYNSHAM             WITNEY      WEST OXFORDSHIRE   \n",
              "95           F                               ROMFORD              HAVERING   \n",
              "96           F         ROGERSTONE            NEWPORT               NEWPORT   \n",
              "\n",
              "                county  country     latitude    longitude     db_id  \n",
              "0     NORTHAMPTONSHIRE  England  52.26659700  -0.91291300    588128  \n",
              "1               SURREY  England  51.24586600  -0.18037500   1034063  \n",
              "2       GREATER LONDON  England  51.55799900   0.23174100   1174706  \n",
              "3   GREATER MANCHESTER  England  53.39782200  -2.30259100   1606034  \n",
              "4       NORTH SOMERSET  England  51.31542900  -2.96006700   1840133  \n",
              "..                 ...      ...          ...          ...       ...  \n",
              "92     NORTH YORKSHIRE  England  54.23705900  -0.70754100  28532013  \n",
              "93        LINCOLNSHIRE  England  53.25319500   0.17929600  28777328  \n",
              "94         OXFORDSHIRE  England  51.78663600  -1.36965200  28984437  \n",
              "95      GREATER LONDON  England  51.61041000   0.22075000  29098109  \n",
              "96             NEWPORT    Wales  51.58769700  -3.06146800  29104166  \n",
              "\n",
              "[97 rows x 14 columns]"
            ]
          },
          "execution_count": 203,
          "metadata": {},
          "output_type": "execute_result"
        }
      ],
      "source": [
        "conn = access.create_connection(user=username, password=password, host=url, port=port, database=db_name)\n",
        "rows = access.get_random_rows(conn)\n",
        "conn.close()\n",
        "rows"
      ]
    },
    {
      "cell_type": "code",
      "execution_count": 13,
      "id": "431a9640",
      "metadata": {},
      "outputs": [
        {
          "name": "stderr",
          "output_type": "stream",
          "text": [
            "/opt/homebrew/lib/python3.11/site-packages/fynesse/assess.py:58: UserWarning: The `geometries` module and `geometries_from_X` functions have been renamed the `features` module and `features_from_X` functions. Use these instead. The `geometries` module and function names are deprecated and will be removed in a future release.\n",
            "  return ox.geometries_from_bbox(north, south, east, west, tags)\n",
            "/opt/homebrew/lib/python3.11/site-packages/fynesse/assess.py:58: UserWarning: The `geometries` module and `geometries_from_X` functions have been renamed the `features` module and `features_from_X` functions. Use these instead. The `geometries` module and function names are deprecated and will be removed in a future release.\n",
            "  return ox.geometries_from_bbox(north, south, east, west, tags)\n",
            "/opt/homebrew/lib/python3.11/site-packages/fynesse/assess.py:58: UserWarning: The `geometries` module and `geometries_from_X` functions have been renamed the `features` module and `features_from_X` functions. Use these instead. The `geometries` module and function names are deprecated and will be removed in a future release.\n",
            "  return ox.geometries_from_bbox(north, south, east, west, tags)\n",
            "/opt/homebrew/lib/python3.11/site-packages/fynesse/assess.py:58: UserWarning: The `geometries` module and `geometries_from_X` functions have been renamed the `features` module and `features_from_X` functions. Use these instead. The `geometries` module and function names are deprecated and will be removed in a future release.\n",
            "  return ox.geometries_from_bbox(north, south, east, west, tags)\n",
            "/opt/homebrew/lib/python3.11/site-packages/fynesse/assess.py:58: UserWarning: The `geometries` module and `geometries_from_X` functions have been renamed the `features` module and `features_from_X` functions. Use these instead. The `geometries` module and function names are deprecated and will be removed in a future release.\n",
            "  return ox.geometries_from_bbox(north, south, east, west, tags)\n",
            "/opt/homebrew/lib/python3.11/site-packages/fynesse/assess.py:58: UserWarning: The `geometries` module and `geometries_from_X` functions have been renamed the `features` module and `features_from_X` functions. Use these instead. The `geometries` module and function names are deprecated and will be removed in a future release.\n",
            "  return ox.geometries_from_bbox(north, south, east, west, tags)\n",
            "/opt/homebrew/lib/python3.11/site-packages/fynesse/assess.py:58: UserWarning: The `geometries` module and `geometries_from_X` functions have been renamed the `features` module and `features_from_X` functions. Use these instead. The `geometries` module and function names are deprecated and will be removed in a future release.\n",
            "  return ox.geometries_from_bbox(north, south, east, west, tags)\n",
            "/opt/homebrew/lib/python3.11/site-packages/fynesse/assess.py:58: UserWarning: The `geometries` module and `geometries_from_X` functions have been renamed the `features` module and `features_from_X` functions. Use these instead. The `geometries` module and function names are deprecated and will be removed in a future release.\n",
            "  return ox.geometries_from_bbox(north, south, east, west, tags)\n",
            "/opt/homebrew/lib/python3.11/site-packages/fynesse/assess.py:58: UserWarning: The `geometries` module and `geometries_from_X` functions have been renamed the `features` module and `features_from_X` functions. Use these instead. The `geometries` module and function names are deprecated and will be removed in a future release.\n",
            "  return ox.geometries_from_bbox(north, south, east, west, tags)\n",
            "/opt/homebrew/lib/python3.11/site-packages/fynesse/assess.py:58: UserWarning: The `geometries` module and `geometries_from_X` functions have been renamed the `features` module and `features_from_X` functions. Use these instead. The `geometries` module and function names are deprecated and will be removed in a future release.\n",
            "  return ox.geometries_from_bbox(north, south, east, west, tags)\n",
            "/opt/homebrew/lib/python3.11/site-packages/fynesse/assess.py:58: UserWarning: The `geometries` module and `geometries_from_X` functions have been renamed the `features` module and `features_from_X` functions. Use these instead. The `geometries` module and function names are deprecated and will be removed in a future release.\n",
            "  return ox.geometries_from_bbox(north, south, east, west, tags)\n",
            "/opt/homebrew/lib/python3.11/site-packages/fynesse/assess.py:58: UserWarning: The `geometries` module and `geometries_from_X` functions have been renamed the `features` module and `features_from_X` functions. Use these instead. The `geometries` module and function names are deprecated and will be removed in a future release.\n",
            "  return ox.geometries_from_bbox(north, south, east, west, tags)\n",
            "/opt/homebrew/lib/python3.11/site-packages/fynesse/assess.py:58: UserWarning: The `geometries` module and `geometries_from_X` functions have been renamed the `features` module and `features_from_X` functions. Use these instead. The `geometries` module and function names are deprecated and will be removed in a future release.\n",
            "  return ox.geometries_from_bbox(north, south, east, west, tags)\n",
            "/opt/homebrew/lib/python3.11/site-packages/fynesse/assess.py:58: UserWarning: The `geometries` module and `geometries_from_X` functions have been renamed the `features` module and `features_from_X` functions. Use these instead. The `geometries` module and function names are deprecated and will be removed in a future release.\n",
            "  return ox.geometries_from_bbox(north, south, east, west, tags)\n",
            "/opt/homebrew/lib/python3.11/site-packages/fynesse/assess.py:58: UserWarning: The `geometries` module and `geometries_from_X` functions have been renamed the `features` module and `features_from_X` functions. Use these instead. The `geometries` module and function names are deprecated and will be removed in a future release.\n",
            "  return ox.geometries_from_bbox(north, south, east, west, tags)\n",
            "/opt/homebrew/lib/python3.11/site-packages/fynesse/assess.py:58: UserWarning: The `geometries` module and `geometries_from_X` functions have been renamed the `features` module and `features_from_X` functions. Use these instead. The `geometries` module and function names are deprecated and will be removed in a future release.\n",
            "  return ox.geometries_from_bbox(north, south, east, west, tags)\n",
            "/opt/homebrew/lib/python3.11/site-packages/fynesse/assess.py:58: UserWarning: The `geometries` module and `geometries_from_X` functions have been renamed the `features` module and `features_from_X` functions. Use these instead. The `geometries` module and function names are deprecated and will be removed in a future release.\n",
            "  return ox.geometries_from_bbox(north, south, east, west, tags)\n",
            "/opt/homebrew/lib/python3.11/site-packages/fynesse/assess.py:58: UserWarning: The `geometries` module and `geometries_from_X` functions have been renamed the `features` module and `features_from_X` functions. Use these instead. The `geometries` module and function names are deprecated and will be removed in a future release.\n",
            "  return ox.geometries_from_bbox(north, south, east, west, tags)\n",
            "/opt/homebrew/lib/python3.11/site-packages/fynesse/assess.py:58: UserWarning: The `geometries` module and `geometries_from_X` functions have been renamed the `features` module and `features_from_X` functions. Use these instead. The `geometries` module and function names are deprecated and will be removed in a future release.\n",
            "  return ox.geometries_from_bbox(north, south, east, west, tags)\n",
            "/opt/homebrew/lib/python3.11/site-packages/fynesse/assess.py:58: UserWarning: The `geometries` module and `geometries_from_X` functions have been renamed the `features` module and `features_from_X` functions. Use these instead. The `geometries` module and function names are deprecated and will be removed in a future release.\n",
            "  return ox.geometries_from_bbox(north, south, east, west, tags)\n",
            "/opt/homebrew/lib/python3.11/site-packages/fynesse/assess.py:58: UserWarning: The `geometries` module and `geometries_from_X` functions have been renamed the `features` module and `features_from_X` functions. Use these instead. The `geometries` module and function names are deprecated and will be removed in a future release.\n",
            "  return ox.geometries_from_bbox(north, south, east, west, tags)\n",
            "/opt/homebrew/lib/python3.11/site-packages/fynesse/assess.py:58: UserWarning: The `geometries` module and `geometries_from_X` functions have been renamed the `features` module and `features_from_X` functions. Use these instead. The `geometries` module and function names are deprecated and will be removed in a future release.\n",
            "  return ox.geometries_from_bbox(north, south, east, west, tags)\n",
            "/opt/homebrew/lib/python3.11/site-packages/fynesse/assess.py:58: UserWarning: The `geometries` module and `geometries_from_X` functions have been renamed the `features` module and `features_from_X` functions. Use these instead. The `geometries` module and function names are deprecated and will be removed in a future release.\n",
            "  return ox.geometries_from_bbox(north, south, east, west, tags)\n",
            "/opt/homebrew/lib/python3.11/site-packages/fynesse/assess.py:58: UserWarning: The `geometries` module and `geometries_from_X` functions have been renamed the `features` module and `features_from_X` functions. Use these instead. The `geometries` module and function names are deprecated and will be removed in a future release.\n",
            "  return ox.geometries_from_bbox(north, south, east, west, tags)\n",
            "/opt/homebrew/lib/python3.11/site-packages/fynesse/assess.py:58: UserWarning: The `geometries` module and `geometries_from_X` functions have been renamed the `features` module and `features_from_X` functions. Use these instead. The `geometries` module and function names are deprecated and will be removed in a future release.\n",
            "  return ox.geometries_from_bbox(north, south, east, west, tags)\n",
            "/opt/homebrew/lib/python3.11/site-packages/fynesse/assess.py:58: UserWarning: The `geometries` module and `geometries_from_X` functions have been renamed the `features` module and `features_from_X` functions. Use these instead. The `geometries` module and function names are deprecated and will be removed in a future release.\n",
            "  return ox.geometries_from_bbox(north, south, east, west, tags)\n",
            "/opt/homebrew/lib/python3.11/site-packages/fynesse/assess.py:58: UserWarning: The `geometries` module and `geometries_from_X` functions have been renamed the `features` module and `features_from_X` functions. Use these instead. The `geometries` module and function names are deprecated and will be removed in a future release.\n",
            "  return ox.geometries_from_bbox(north, south, east, west, tags)\n",
            "/opt/homebrew/lib/python3.11/site-packages/fynesse/assess.py:58: UserWarning: The `geometries` module and `geometries_from_X` functions have been renamed the `features` module and `features_from_X` functions. Use these instead. The `geometries` module and function names are deprecated and will be removed in a future release.\n",
            "  return ox.geometries_from_bbox(north, south, east, west, tags)\n",
            "/opt/homebrew/lib/python3.11/site-packages/fynesse/assess.py:58: UserWarning: The `geometries` module and `geometries_from_X` functions have been renamed the `features` module and `features_from_X` functions. Use these instead. The `geometries` module and function names are deprecated and will be removed in a future release.\n",
            "  return ox.geometries_from_bbox(north, south, east, west, tags)\n",
            "/opt/homebrew/lib/python3.11/site-packages/fynesse/assess.py:58: UserWarning: The `geometries` module and `geometries_from_X` functions have been renamed the `features` module and `features_from_X` functions. Use these instead. The `geometries` module and function names are deprecated and will be removed in a future release.\n",
            "  return ox.geometries_from_bbox(north, south, east, west, tags)\n",
            "/opt/homebrew/lib/python3.11/site-packages/fynesse/assess.py:58: UserWarning: The `geometries` module and `geometries_from_X` functions have been renamed the `features` module and `features_from_X` functions. Use these instead. The `geometries` module and function names are deprecated and will be removed in a future release.\n",
            "  return ox.geometries_from_bbox(north, south, east, west, tags)\n",
            "/opt/homebrew/lib/python3.11/site-packages/fynesse/assess.py:58: UserWarning: The `geometries` module and `geometries_from_X` functions have been renamed the `features` module and `features_from_X` functions. Use these instead. The `geometries` module and function names are deprecated and will be removed in a future release.\n",
            "  return ox.geometries_from_bbox(north, south, east, west, tags)\n",
            "/opt/homebrew/lib/python3.11/site-packages/fynesse/assess.py:58: UserWarning: The `geometries` module and `geometries_from_X` functions have been renamed the `features` module and `features_from_X` functions. Use these instead. The `geometries` module and function names are deprecated and will be removed in a future release.\n",
            "  return ox.geometries_from_bbox(north, south, east, west, tags)\n",
            "/opt/homebrew/lib/python3.11/site-packages/fynesse/assess.py:58: UserWarning: The `geometries` module and `geometries_from_X` functions have been renamed the `features` module and `features_from_X` functions. Use these instead. The `geometries` module and function names are deprecated and will be removed in a future release.\n",
            "  return ox.geometries_from_bbox(north, south, east, west, tags)\n",
            "/opt/homebrew/lib/python3.11/site-packages/fynesse/assess.py:58: UserWarning: The `geometries` module and `geometries_from_X` functions have been renamed the `features` module and `features_from_X` functions. Use these instead. The `geometries` module and function names are deprecated and will be removed in a future release.\n",
            "  return ox.geometries_from_bbox(north, south, east, west, tags)\n",
            "/opt/homebrew/lib/python3.11/site-packages/fynesse/assess.py:58: UserWarning: The `geometries` module and `geometries_from_X` functions have been renamed the `features` module and `features_from_X` functions. Use these instead. The `geometries` module and function names are deprecated and will be removed in a future release.\n",
            "  return ox.geometries_from_bbox(north, south, east, west, tags)\n",
            "/opt/homebrew/lib/python3.11/site-packages/fynesse/assess.py:58: UserWarning: The `geometries` module and `geometries_from_X` functions have been renamed the `features` module and `features_from_X` functions. Use these instead. The `geometries` module and function names are deprecated and will be removed in a future release.\n",
            "  return ox.geometries_from_bbox(north, south, east, west, tags)\n",
            "/opt/homebrew/lib/python3.11/site-packages/fynesse/assess.py:58: UserWarning: The `geometries` module and `geometries_from_X` functions have been renamed the `features` module and `features_from_X` functions. Use these instead. The `geometries` module and function names are deprecated and will be removed in a future release.\n",
            "  return ox.geometries_from_bbox(north, south, east, west, tags)\n",
            "/opt/homebrew/lib/python3.11/site-packages/fynesse/assess.py:58: UserWarning: The `geometries` module and `geometries_from_X` functions have been renamed the `features` module and `features_from_X` functions. Use these instead. The `geometries` module and function names are deprecated and will be removed in a future release.\n",
            "  return ox.geometries_from_bbox(north, south, east, west, tags)\n",
            "/opt/homebrew/lib/python3.11/site-packages/fynesse/assess.py:58: UserWarning: The `geometries` module and `geometries_from_X` functions have been renamed the `features` module and `features_from_X` functions. Use these instead. The `geometries` module and function names are deprecated and will be removed in a future release.\n",
            "  return ox.geometries_from_bbox(north, south, east, west, tags)\n",
            "/opt/homebrew/lib/python3.11/site-packages/fynesse/assess.py:58: UserWarning: The `geometries` module and `geometries_from_X` functions have been renamed the `features` module and `features_from_X` functions. Use these instead. The `geometries` module and function names are deprecated and will be removed in a future release.\n",
            "  return ox.geometries_from_bbox(north, south, east, west, tags)\n",
            "/opt/homebrew/lib/python3.11/site-packages/fynesse/assess.py:58: UserWarning: The `geometries` module and `geometries_from_X` functions have been renamed the `features` module and `features_from_X` functions. Use these instead. The `geometries` module and function names are deprecated and will be removed in a future release.\n",
            "  return ox.geometries_from_bbox(north, south, east, west, tags)\n",
            "/opt/homebrew/lib/python3.11/site-packages/fynesse/assess.py:58: UserWarning: The `geometries` module and `geometries_from_X` functions have been renamed the `features` module and `features_from_X` functions. Use these instead. The `geometries` module and function names are deprecated and will be removed in a future release.\n",
            "  return ox.geometries_from_bbox(north, south, east, west, tags)\n",
            "/opt/homebrew/lib/python3.11/site-packages/fynesse/assess.py:58: UserWarning: The `geometries` module and `geometries_from_X` functions have been renamed the `features` module and `features_from_X` functions. Use these instead. The `geometries` module and function names are deprecated and will be removed in a future release.\n",
            "  return ox.geometries_from_bbox(north, south, east, west, tags)\n",
            "/opt/homebrew/lib/python3.11/site-packages/fynesse/assess.py:58: UserWarning: The `geometries` module and `geometries_from_X` functions have been renamed the `features` module and `features_from_X` functions. Use these instead. The `geometries` module and function names are deprecated and will be removed in a future release.\n",
            "  return ox.geometries_from_bbox(north, south, east, west, tags)\n",
            "/opt/homebrew/lib/python3.11/site-packages/fynesse/assess.py:58: UserWarning: The `geometries` module and `geometries_from_X` functions have been renamed the `features` module and `features_from_X` functions. Use these instead. The `geometries` module and function names are deprecated and will be removed in a future release.\n",
            "  return ox.geometries_from_bbox(north, south, east, west, tags)\n",
            "/opt/homebrew/lib/python3.11/site-packages/fynesse/assess.py:58: UserWarning: The `geometries` module and `geometries_from_X` functions have been renamed the `features` module and `features_from_X` functions. Use these instead. The `geometries` module and function names are deprecated and will be removed in a future release.\n",
            "  return ox.geometries_from_bbox(north, south, east, west, tags)\n",
            "/opt/homebrew/lib/python3.11/site-packages/fynesse/assess.py:58: UserWarning: The `geometries` module and `geometries_from_X` functions have been renamed the `features` module and `features_from_X` functions. Use these instead. The `geometries` module and function names are deprecated and will be removed in a future release.\n",
            "  return ox.geometries_from_bbox(north, south, east, west, tags)\n",
            "/opt/homebrew/lib/python3.11/site-packages/fynesse/assess.py:58: UserWarning: The `geometries` module and `geometries_from_X` functions have been renamed the `features` module and `features_from_X` functions. Use these instead. The `geometries` module and function names are deprecated and will be removed in a future release.\n",
            "  return ox.geometries_from_bbox(north, south, east, west, tags)\n",
            "/opt/homebrew/lib/python3.11/site-packages/fynesse/assess.py:58: UserWarning: The `geometries` module and `geometries_from_X` functions have been renamed the `features` module and `features_from_X` functions. Use these instead. The `geometries` module and function names are deprecated and will be removed in a future release.\n",
            "  return ox.geometries_from_bbox(north, south, east, west, tags)\n",
            "/opt/homebrew/lib/python3.11/site-packages/fynesse/assess.py:58: UserWarning: The `geometries` module and `geometries_from_X` functions have been renamed the `features` module and `features_from_X` functions. Use these instead. The `geometries` module and function names are deprecated and will be removed in a future release.\n",
            "  return ox.geometries_from_bbox(north, south, east, west, tags)\n",
            "/opt/homebrew/lib/python3.11/site-packages/fynesse/assess.py:58: UserWarning: The `geometries` module and `geometries_from_X` functions have been renamed the `features` module and `features_from_X` functions. Use these instead. The `geometries` module and function names are deprecated and will be removed in a future release.\n",
            "  return ox.geometries_from_bbox(north, south, east, west, tags)\n",
            "/opt/homebrew/lib/python3.11/site-packages/fynesse/assess.py:58: UserWarning: The `geometries` module and `geometries_from_X` functions have been renamed the `features` module and `features_from_X` functions. Use these instead. The `geometries` module and function names are deprecated and will be removed in a future release.\n",
            "  return ox.geometries_from_bbox(north, south, east, west, tags)\n",
            "/opt/homebrew/lib/python3.11/site-packages/fynesse/assess.py:58: UserWarning: The `geometries` module and `geometries_from_X` functions have been renamed the `features` module and `features_from_X` functions. Use these instead. The `geometries` module and function names are deprecated and will be removed in a future release.\n",
            "  return ox.geometries_from_bbox(north, south, east, west, tags)\n",
            "/opt/homebrew/lib/python3.11/site-packages/fynesse/assess.py:58: UserWarning: The `geometries` module and `geometries_from_X` functions have been renamed the `features` module and `features_from_X` functions. Use these instead. The `geometries` module and function names are deprecated and will be removed in a future release.\n",
            "  return ox.geometries_from_bbox(north, south, east, west, tags)\n",
            "/opt/homebrew/lib/python3.11/site-packages/fynesse/assess.py:58: UserWarning: The `geometries` module and `geometries_from_X` functions have been renamed the `features` module and `features_from_X` functions. Use these instead. The `geometries` module and function names are deprecated and will be removed in a future release.\n",
            "  return ox.geometries_from_bbox(north, south, east, west, tags)\n",
            "/opt/homebrew/lib/python3.11/site-packages/fynesse/assess.py:58: UserWarning: The `geometries` module and `geometries_from_X` functions have been renamed the `features` module and `features_from_X` functions. Use these instead. The `geometries` module and function names are deprecated and will be removed in a future release.\n",
            "  return ox.geometries_from_bbox(north, south, east, west, tags)\n",
            "/opt/homebrew/lib/python3.11/site-packages/fynesse/assess.py:58: UserWarning: The `geometries` module and `geometries_from_X` functions have been renamed the `features` module and `features_from_X` functions. Use these instead. The `geometries` module and function names are deprecated and will be removed in a future release.\n",
            "  return ox.geometries_from_bbox(north, south, east, west, tags)\n",
            "/opt/homebrew/lib/python3.11/site-packages/fynesse/assess.py:58: UserWarning: The `geometries` module and `geometries_from_X` functions have been renamed the `features` module and `features_from_X` functions. Use these instead. The `geometries` module and function names are deprecated and will be removed in a future release.\n",
            "  return ox.geometries_from_bbox(north, south, east, west, tags)\n",
            "/opt/homebrew/lib/python3.11/site-packages/fynesse/assess.py:58: UserWarning: The `geometries` module and `geometries_from_X` functions have been renamed the `features` module and `features_from_X` functions. Use these instead. The `geometries` module and function names are deprecated and will be removed in a future release.\n",
            "  return ox.geometries_from_bbox(north, south, east, west, tags)\n",
            "/opt/homebrew/lib/python3.11/site-packages/fynesse/assess.py:58: UserWarning: The `geometries` module and `geometries_from_X` functions have been renamed the `features` module and `features_from_X` functions. Use these instead. The `geometries` module and function names are deprecated and will be removed in a future release.\n",
            "  return ox.geometries_from_bbox(north, south, east, west, tags)\n",
            "/opt/homebrew/lib/python3.11/site-packages/fynesse/assess.py:58: UserWarning: The `geometries` module and `geometries_from_X` functions have been renamed the `features` module and `features_from_X` functions. Use these instead. The `geometries` module and function names are deprecated and will be removed in a future release.\n",
            "  return ox.geometries_from_bbox(north, south, east, west, tags)\n",
            "/opt/homebrew/lib/python3.11/site-packages/fynesse/assess.py:58: UserWarning: The `geometries` module and `geometries_from_X` functions have been renamed the `features` module and `features_from_X` functions. Use these instead. The `geometries` module and function names are deprecated and will be removed in a future release.\n",
            "  return ox.geometries_from_bbox(north, south, east, west, tags)\n",
            "/opt/homebrew/lib/python3.11/site-packages/fynesse/assess.py:58: UserWarning: The `geometries` module and `geometries_from_X` functions have been renamed the `features` module and `features_from_X` functions. Use these instead. The `geometries` module and function names are deprecated and will be removed in a future release.\n",
            "  return ox.geometries_from_bbox(north, south, east, west, tags)\n",
            "/opt/homebrew/lib/python3.11/site-packages/fynesse/assess.py:58: UserWarning: The `geometries` module and `geometries_from_X` functions have been renamed the `features` module and `features_from_X` functions. Use these instead. The `geometries` module and function names are deprecated and will be removed in a future release.\n",
            "  return ox.geometries_from_bbox(north, south, east, west, tags)\n",
            "/opt/homebrew/lib/python3.11/site-packages/fynesse/assess.py:58: UserWarning: The `geometries` module and `geometries_from_X` functions have been renamed the `features` module and `features_from_X` functions. Use these instead. The `geometries` module and function names are deprecated and will be removed in a future release.\n",
            "  return ox.geometries_from_bbox(north, south, east, west, tags)\n",
            "/opt/homebrew/lib/python3.11/site-packages/fynesse/assess.py:58: UserWarning: The `geometries` module and `geometries_from_X` functions have been renamed the `features` module and `features_from_X` functions. Use these instead. The `geometries` module and function names are deprecated and will be removed in a future release.\n",
            "  return ox.geometries_from_bbox(north, south, east, west, tags)\n",
            "/opt/homebrew/lib/python3.11/site-packages/fynesse/assess.py:58: UserWarning: The `geometries` module and `geometries_from_X` functions have been renamed the `features` module and `features_from_X` functions. Use these instead. The `geometries` module and function names are deprecated and will be removed in a future release.\n",
            "  return ox.geometries_from_bbox(north, south, east, west, tags)\n",
            "/opt/homebrew/lib/python3.11/site-packages/fynesse/assess.py:58: UserWarning: The `geometries` module and `geometries_from_X` functions have been renamed the `features` module and `features_from_X` functions. Use these instead. The `geometries` module and function names are deprecated and will be removed in a future release.\n",
            "  return ox.geometries_from_bbox(north, south, east, west, tags)\n",
            "/opt/homebrew/lib/python3.11/site-packages/fynesse/assess.py:58: UserWarning: The `geometries` module and `geometries_from_X` functions have been renamed the `features` module and `features_from_X` functions. Use these instead. The `geometries` module and function names are deprecated and will be removed in a future release.\n",
            "  return ox.geometries_from_bbox(north, south, east, west, tags)\n",
            "/opt/homebrew/lib/python3.11/site-packages/fynesse/assess.py:58: UserWarning: The `geometries` module and `geometries_from_X` functions have been renamed the `features` module and `features_from_X` functions. Use these instead. The `geometries` module and function names are deprecated and will be removed in a future release.\n",
            "  return ox.geometries_from_bbox(north, south, east, west, tags)\n",
            "/opt/homebrew/lib/python3.11/site-packages/fynesse/assess.py:58: UserWarning: The `geometries` module and `geometries_from_X` functions have been renamed the `features` module and `features_from_X` functions. Use these instead. The `geometries` module and function names are deprecated and will be removed in a future release.\n",
            "  return ox.geometries_from_bbox(north, south, east, west, tags)\n",
            "/opt/homebrew/lib/python3.11/site-packages/fynesse/assess.py:58: UserWarning: The `geometries` module and `geometries_from_X` functions have been renamed the `features` module and `features_from_X` functions. Use these instead. The `geometries` module and function names are deprecated and will be removed in a future release.\n",
            "  return ox.geometries_from_bbox(north, south, east, west, tags)\n",
            "/opt/homebrew/lib/python3.11/site-packages/fynesse/assess.py:58: UserWarning: The `geometries` module and `geometries_from_X` functions have been renamed the `features` module and `features_from_X` functions. Use these instead. The `geometries` module and function names are deprecated and will be removed in a future release.\n",
            "  return ox.geometries_from_bbox(north, south, east, west, tags)\n",
            "/opt/homebrew/lib/python3.11/site-packages/fynesse/assess.py:58: UserWarning: The `geometries` module and `geometries_from_X` functions have been renamed the `features` module and `features_from_X` functions. Use these instead. The `geometries` module and function names are deprecated and will be removed in a future release.\n",
            "  return ox.geometries_from_bbox(north, south, east, west, tags)\n",
            "/opt/homebrew/lib/python3.11/site-packages/fynesse/assess.py:58: UserWarning: The `geometries` module and `geometries_from_X` functions have been renamed the `features` module and `features_from_X` functions. Use these instead. The `geometries` module and function names are deprecated and will be removed in a future release.\n",
            "  return ox.geometries_from_bbox(north, south, east, west, tags)\n",
            "/opt/homebrew/lib/python3.11/site-packages/fynesse/assess.py:58: UserWarning: The `geometries` module and `geometries_from_X` functions have been renamed the `features` module and `features_from_X` functions. Use these instead. The `geometries` module and function names are deprecated and will be removed in a future release.\n",
            "  return ox.geometries_from_bbox(north, south, east, west, tags)\n",
            "/opt/homebrew/lib/python3.11/site-packages/fynesse/assess.py:58: UserWarning: The `geometries` module and `geometries_from_X` functions have been renamed the `features` module and `features_from_X` functions. Use these instead. The `geometries` module and function names are deprecated and will be removed in a future release.\n",
            "  return ox.geometries_from_bbox(north, south, east, west, tags)\n",
            "/opt/homebrew/lib/python3.11/site-packages/fynesse/assess.py:58: UserWarning: The `geometries` module and `geometries_from_X` functions have been renamed the `features` module and `features_from_X` functions. Use these instead. The `geometries` module and function names are deprecated and will be removed in a future release.\n",
            "  return ox.geometries_from_bbox(north, south, east, west, tags)\n",
            "/opt/homebrew/lib/python3.11/site-packages/fynesse/assess.py:58: UserWarning: The `geometries` module and `geometries_from_X` functions have been renamed the `features` module and `features_from_X` functions. Use these instead. The `geometries` module and function names are deprecated and will be removed in a future release.\n",
            "  return ox.geometries_from_bbox(north, south, east, west, tags)\n",
            "/opt/homebrew/lib/python3.11/site-packages/fynesse/assess.py:58: UserWarning: The `geometries` module and `geometries_from_X` functions have been renamed the `features` module and `features_from_X` functions. Use these instead. The `geometries` module and function names are deprecated and will be removed in a future release.\n",
            "  return ox.geometries_from_bbox(north, south, east, west, tags)\n",
            "/opt/homebrew/lib/python3.11/site-packages/fynesse/assess.py:58: UserWarning: The `geometries` module and `geometries_from_X` functions have been renamed the `features` module and `features_from_X` functions. Use these instead. The `geometries` module and function names are deprecated and will be removed in a future release.\n",
            "  return ox.geometries_from_bbox(north, south, east, west, tags)\n",
            "/opt/homebrew/lib/python3.11/site-packages/fynesse/assess.py:58: UserWarning: The `geometries` module and `geometries_from_X` functions have been renamed the `features` module and `features_from_X` functions. Use these instead. The `geometries` module and function names are deprecated and will be removed in a future release.\n",
            "  return ox.geometries_from_bbox(north, south, east, west, tags)\n",
            "/opt/homebrew/lib/python3.11/site-packages/fynesse/assess.py:58: UserWarning: The `geometries` module and `geometries_from_X` functions have been renamed the `features` module and `features_from_X` functions. Use these instead. The `geometries` module and function names are deprecated and will be removed in a future release.\n",
            "  return ox.geometries_from_bbox(north, south, east, west, tags)\n",
            "/opt/homebrew/lib/python3.11/site-packages/fynesse/assess.py:58: UserWarning: The `geometries` module and `geometries_from_X` functions have been renamed the `features` module and `features_from_X` functions. Use these instead. The `geometries` module and function names are deprecated and will be removed in a future release.\n",
            "  return ox.geometries_from_bbox(north, south, east, west, tags)\n",
            "/opt/homebrew/lib/python3.11/site-packages/fynesse/assess.py:58: UserWarning: The `geometries` module and `geometries_from_X` functions have been renamed the `features` module and `features_from_X` functions. Use these instead. The `geometries` module and function names are deprecated and will be removed in a future release.\n",
            "  return ox.geometries_from_bbox(north, south, east, west, tags)\n",
            "/opt/homebrew/lib/python3.11/site-packages/fynesse/assess.py:58: UserWarning: The `geometries` module and `geometries_from_X` functions have been renamed the `features` module and `features_from_X` functions. Use these instead. The `geometries` module and function names are deprecated and will be removed in a future release.\n",
            "  return ox.geometries_from_bbox(north, south, east, west, tags)\n",
            "/opt/homebrew/lib/python3.11/site-packages/fynesse/assess.py:58: UserWarning: The `geometries` module and `geometries_from_X` functions have been renamed the `features` module and `features_from_X` functions. Use these instead. The `geometries` module and function names are deprecated and will be removed in a future release.\n",
            "  return ox.geometries_from_bbox(north, south, east, west, tags)\n",
            "/opt/homebrew/lib/python3.11/site-packages/fynesse/assess.py:58: UserWarning: The `geometries` module and `geometries_from_X` functions have been renamed the `features` module and `features_from_X` functions. Use these instead. The `geometries` module and function names are deprecated and will be removed in a future release.\n",
            "  return ox.geometries_from_bbox(north, south, east, west, tags)\n",
            "/opt/homebrew/lib/python3.11/site-packages/fynesse/assess.py:58: UserWarning: The `geometries` module and `geometries_from_X` functions have been renamed the `features` module and `features_from_X` functions. Use these instead. The `geometries` module and function names are deprecated and will be removed in a future release.\n",
            "  return ox.geometries_from_bbox(north, south, east, west, tags)\n",
            "/opt/homebrew/lib/python3.11/site-packages/fynesse/assess.py:58: UserWarning: The `geometries` module and `geometries_from_X` functions have been renamed the `features` module and `features_from_X` functions. Use these instead. The `geometries` module and function names are deprecated and will be removed in a future release.\n",
            "  return ox.geometries_from_bbox(north, south, east, west, tags)\n",
            "/opt/homebrew/lib/python3.11/site-packages/fynesse/assess.py:58: UserWarning: The `geometries` module and `geometries_from_X` functions have been renamed the `features` module and `features_from_X` functions. Use these instead. The `geometries` module and function names are deprecated and will be removed in a future release.\n",
            "  return ox.geometries_from_bbox(north, south, east, west, tags)\n",
            "/opt/homebrew/lib/python3.11/site-packages/fynesse/assess.py:58: UserWarning: The `geometries` module and `geometries_from_X` functions have been renamed the `features` module and `features_from_X` functions. Use these instead. The `geometries` module and function names are deprecated and will be removed in a future release.\n",
            "  return ox.geometries_from_bbox(north, south, east, west, tags)\n",
            "/opt/homebrew/lib/python3.11/site-packages/fynesse/assess.py:58: UserWarning: The `geometries` module and `geometries_from_X` functions have been renamed the `features` module and `features_from_X` functions. Use these instead. The `geometries` module and function names are deprecated and will be removed in a future release.\n",
            "  return ox.geometries_from_bbox(north, south, east, west, tags)\n",
            "/opt/homebrew/lib/python3.11/site-packages/fynesse/assess.py:58: UserWarning: The `geometries` module and `geometries_from_X` functions have been renamed the `features` module and `features_from_X` functions. Use these instead. The `geometries` module and function names are deprecated and will be removed in a future release.\n",
            "  return ox.geometries_from_bbox(north, south, east, west, tags)\n",
            "/opt/homebrew/lib/python3.11/site-packages/fynesse/assess.py:58: UserWarning: The `geometries` module and `geometries_from_X` functions have been renamed the `features` module and `features_from_X` functions. Use these instead. The `geometries` module and function names are deprecated and will be removed in a future release.\n",
            "  return ox.geometries_from_bbox(north, south, east, west, tags)\n",
            "/opt/homebrew/lib/python3.11/site-packages/fynesse/assess.py:58: UserWarning: The `geometries` module and `geometries_from_X` functions have been renamed the `features` module and `features_from_X` functions. Use these instead. The `geometries` module and function names are deprecated and will be removed in a future release.\n",
            "  return ox.geometries_from_bbox(north, south, east, west, tags)\n"
          ]
        }
      ],
      "source": [
        "pois_by_features = []\n",
        "for i in range(len(rows)):\n",
        "    # print(float(rows.iloc[i].latitude))\n",
        "    pois_by_features.append(assess.count_pois_by_features(assess.get_pois(float(rows.iloc[i].latitude), float(rows.iloc[i].longitude), KEYS_DICT), KEYS, TAGS))"
      ]
    },
    {
      "cell_type": "code",
      "execution_count": 81,
      "id": "ac3dcfd0",
      "metadata": {},
      "outputs": [
        {
          "data": {
            "image/png": "[encoded data removed]",
            "text/plain": [
              "<Figure size 1600x2100 with 15 Axes>"
            ]
          },
          "metadata": {},
          "output_type": "display_data"
        }
      ],
      "source": [
        "# Overall features exhibit a positive squeue more prevelant in field such as leisure and aeroway\n",
        "assess.visualise_feature_dist(pois_by_features)"
      ]
    },
    {
      "cell_type": "code",
      "execution_count": 88,
      "id": "cf046ddc",
      "metadata": {},
      "outputs": [
        {
          "data": {
            "text/html": [
              "<style type=\"text/css\">\n",
              "#T_4ca80_row0_col0, #T_4ca80_row1_col1, #T_4ca80_row2_col2, #T_4ca80_row3_col3, #T_4ca80_row4_col4, #T_4ca80_row5_col5, #T_4ca80_row6_col6, #T_4ca80_row7_col7, #T_4ca80_row8_col8, #T_4ca80_row9_col9, #T_4ca80_row10_col10, #T_4ca80_row11_col11, #T_4ca80_row12_col12, #T_4ca80_row13_col13 {\n",
              "  background-color: #08306b;\n",
              "  color: #f1f1f1;\n",
              "}\n",
              "#T_4ca80_row0_col1 {\n",
              "  background-color: #1f6eb3;\n",
              "  color: #f1f1f1;\n",
              "}\n",
              "#T_4ca80_row0_col2, #T_4ca80_row2_col4, #T_4ca80_row8_col2 {\n",
              "  background-color: #e5eff9;\n",
              "  color: #000000;\n",
              "}\n",
              "#T_4ca80_row0_col3, #T_4ca80_row1_col10 {\n",
              "  background-color: #87bddc;\n",
              "  color: #000000;\n",
              "}\n",
              "#T_4ca80_row0_col4, #T_4ca80_row4_col13 {\n",
              "  background-color: #64a9d3;\n",
              "  color: #f1f1f1;\n",
              "}\n",
              "#T_4ca80_row0_col5 {\n",
              "  background-color: #57a0ce;\n",
              "  color: #f1f1f1;\n",
              "}\n",
              "#T_4ca80_row0_col6, #T_4ca80_row12_col4 {\n",
              "  background-color: #abd0e6;\n",
              "  color: #000000;\n",
              "}\n",
              "#T_4ca80_row0_col7, #T_4ca80_row7_col2 {\n",
              "  background-color: #f6faff;\n",
              "  color: #000000;\n",
              "}\n",
              "#T_4ca80_row0_col8, #T_4ca80_row8_col0, #T_4ca80_row11_col8 {\n",
              "  background-color: #3181bd;\n",
              "  color: #f1f1f1;\n",
              "}\n",
              "#T_4ca80_row0_col9 {\n",
              "  background-color: #d1e2f3;\n",
              "  color: #000000;\n",
              "}\n",
              "#T_4ca80_row0_col10, #T_4ca80_row1_col2 {\n",
              "  background-color: #e2edf8;\n",
              "  color: #000000;\n",
              "}\n",
              "#T_4ca80_row0_col11 {\n",
              "  background-color: #1e6db2;\n",
              "  color: #f1f1f1;\n",
              "}\n",
              "#T_4ca80_row0_col12, #T_4ca80_row3_col0, #T_4ca80_row3_col1 {\n",
              "  background-color: #81badb;\n",
              "  color: #000000;\n",
              "}\n",
              "#T_4ca80_row0_col13 {\n",
              "  background-color: #3b8bc2;\n",
              "  color: #f1f1f1;\n",
              "}\n",
              "#T_4ca80_row1_col0 {\n",
              "  background-color: #1c6ab0;\n",
              "  color: #f1f1f1;\n",
              "}\n",
              "#T_4ca80_row1_col3 {\n",
              "  background-color: #79b5d9;\n",
              "  color: #000000;\n",
              "}\n",
              "#T_4ca80_row1_col4, #T_4ca80_row4_col1 {\n",
              "  background-color: #0d57a1;\n",
              "  color: #f1f1f1;\n",
              "}\n",
              "#T_4ca80_row1_col5, #T_4ca80_row5_col1 {\n",
              "  background-color: #135fa7;\n",
              "  color: #f1f1f1;\n",
              "}\n",
              "#T_4ca80_row1_col6, #T_4ca80_row4_col6, #T_4ca80_row13_col8 {\n",
              "  background-color: #2e7ebc;\n",
              "  color: #f1f1f1;\n",
              "}\n",
              "#T_4ca80_row1_col7, #T_4ca80_row4_col7 {\n",
              "  background-color: #eaf3fb;\n",
              "  color: #000000;\n",
              "}\n",
              "#T_4ca80_row1_col8 {\n",
              "  background-color: #1561a9;\n",
              "  color: #f1f1f1;\n",
              "}\n",
              "#T_4ca80_row1_col9, #T_4ca80_row3_col10 {\n",
              "  background-color: #ccdff1;\n",
              "  color: #000000;\n",
              "}\n",
              "#T_4ca80_row1_col11 {\n",
              "  background-color: #1562a9;\n",
              "  color: #f1f1f1;\n",
              "}\n",
              "#T_4ca80_row1_col12 {\n",
              "  background-color: #5fa6d1;\n",
              "  color: #f1f1f1;\n",
              "}\n",
              "#T_4ca80_row1_col13 {\n",
              "  background-color: #4a98c9;\n",
              "  color: #f1f1f1;\n",
              "}\n",
              "#T_4ca80_row2_col0, #T_4ca80_row4_col2 {\n",
              "  background-color: #dfecf7;\n",
              "  color: #000000;\n",
              "}\n",
              "#T_4ca80_row2_col1, #T_4ca80_row5_col7, #T_4ca80_row13_col2 {\n",
              "  background-color: #e7f1fa;\n",
              "  color: #000000;\n",
              "}\n",
              "#T_4ca80_row2_col3, #T_4ca80_row2_col7, #T_4ca80_row2_col12, #T_4ca80_row9_col7 {\n",
              "  background-color: #eff6fc;\n",
              "  color: #000000;\n",
              "}\n",
              "#T_4ca80_row2_col5, #T_4ca80_row7_col0, #T_4ca80_row7_col1, #T_4ca80_row7_col3, #T_4ca80_row7_col4, #T_4ca80_row7_col6, #T_4ca80_row7_col8, #T_4ca80_row7_col10, #T_4ca80_row7_col11, #T_4ca80_row7_col13, #T_4ca80_row8_col7, #T_4ca80_row9_col12, #T_4ca80_row12_col2, #T_4ca80_row12_col9 {\n",
              "  background-color: #f7fbff;\n",
              "  color: #000000;\n",
              "}\n",
              "#T_4ca80_row2_col6 {\n",
              "  background-color: #ecf4fb;\n",
              "  color: #000000;\n",
              "}\n",
              "#T_4ca80_row2_col8 {\n",
              "  background-color: #dfebf7;\n",
              "  color: #000000;\n",
              "}\n",
              "#T_4ca80_row2_col9 {\n",
              "  background-color: #91c3de;\n",
              "  color: #000000;\n",
              "}\n",
              "#T_4ca80_row2_col10, #T_4ca80_row3_col2, #T_4ca80_row5_col2 {\n",
              "  background-color: #f0f6fd;\n",
              "  color: #000000;\n",
              "}\n",
              "#T_4ca80_row2_col11, #T_4ca80_row12_col8 {\n",
              "  background-color: #afd1e7;\n",
              "  color: #000000;\n",
              "}\n",
              "#T_4ca80_row2_col13, #T_4ca80_row10_col13 {\n",
              "  background-color: #f4f9fe;\n",
              "  color: #000000;\n",
              "}\n",
              "#T_4ca80_row3_col4 {\n",
              "  background-color: #aacfe5;\n",
              "  color: #000000;\n",
              "}\n",
              "#T_4ca80_row3_col5, #T_4ca80_row6_col12 {\n",
              "  background-color: #bad6eb;\n",
              "  color: #000000;\n",
              "}\n",
              "#T_4ca80_row3_col6 {\n",
              "  background-color: #add0e6;\n",
              "  color: #000000;\n",
              "}\n",
              "#T_4ca80_row3_col7 {\n",
              "  background-color: #f2f7fd;\n",
              "  color: #000000;\n",
              "}\n",
              "#T_4ca80_row3_col8 {\n",
              "  background-color: #4997c9;\n",
              "  color: #f1f1f1;\n",
              "}\n",
              "#T_4ca80_row3_col9, #T_4ca80_row4_col9 {\n",
              "  background-color: #caddf0;\n",
              "  color: #000000;\n",
              "}\n",
              "#T_4ca80_row3_col11 {\n",
              "  background-color: #6dafd7;\n",
              "  color: #f1f1f1;\n",
              "}\n",
              "#T_4ca80_row3_col12 {\n",
              "  background-color: #dceaf6;\n",
              "  color: #000000;\n",
              "}\n",
              "#T_4ca80_row3_col13 {\n",
              "  background-color: #75b4d8;\n",
              "  color: #000000;\n",
              "}\n",
              "#T_4ca80_row4_col0, #T_4ca80_row5_col10, #T_4ca80_row6_col8 {\n",
              "  background-color: #5aa2cf;\n",
              "  color: #f1f1f1;\n",
              "}\n",
              "#T_4ca80_row4_col3 {\n",
              "  background-color: #a3cce3;\n",
              "  color: #000000;\n",
              "}\n",
              "#T_4ca80_row4_col5, #T_4ca80_row5_col4, #T_4ca80_row13_col0 {\n",
              "  background-color: #3383be;\n",
              "  color: #f1f1f1;\n",
              "}\n",
              "#T_4ca80_row4_col8, #T_4ca80_row6_col5 {\n",
              "  background-color: #1966ad;\n",
              "  color: #f1f1f1;\n",
              "}\n",
              "#T_4ca80_row4_col10, #T_4ca80_row13_col3 {\n",
              "  background-color: #68acd5;\n",
              "  color: #f1f1f1;\n",
              "}\n",
              "#T_4ca80_row4_col11, #T_4ca80_row13_col1 {\n",
              "  background-color: #4594c7;\n",
              "  color: #f1f1f1;\n",
              "}\n",
              "#T_4ca80_row4_col12, #T_4ca80_row6_col3, #T_4ca80_row11_col9 {\n",
              "  background-color: #9cc9e1;\n",
              "  color: #000000;\n",
              "}\n",
              "#T_4ca80_row5_col0 {\n",
              "  background-color: #4e9acb;\n",
              "  color: #f1f1f1;\n",
              "}\n",
              "#T_4ca80_row5_col3 {\n",
              "  background-color: #b2d2e8;\n",
              "  color: #000000;\n",
              "}\n",
              "#T_4ca80_row5_col6 {\n",
              "  background-color: #1a68ae;\n",
              "  color: #f1f1f1;\n",
              "}\n",
              "#T_4ca80_row5_col8 {\n",
              "  background-color: #4695c8;\n",
              "  color: #f1f1f1;\n",
              "}\n",
              "#T_4ca80_row5_col9 {\n",
              "  background-color: #cde0f1;\n",
              "  color: #000000;\n",
              "}\n",
              "#T_4ca80_row5_col11 {\n",
              "  background-color: #56a0ce;\n",
              "  color: #f1f1f1;\n",
              "}\n",
              "#T_4ca80_row5_col12 {\n",
              "  background-color: #82bbdb;\n",
              "  color: #000000;\n",
              "}\n",
              "#T_4ca80_row5_col13 {\n",
              "  background-color: #c7dbef;\n",
              "  color: #000000;\n",
              "}\n",
              "#T_4ca80_row6_col0 {\n",
              "  background-color: #94c4df;\n",
              "  color: #000000;\n",
              "}\n",
              "#T_4ca80_row6_col1, #T_4ca80_row6_col4 {\n",
              "  background-color: #2b7bba;\n",
              "  color: #f1f1f1;\n",
              "}\n",
              "#T_4ca80_row6_col2 {\n",
              "  background-color: #deebf7;\n",
              "  color: #000000;\n",
              "}\n",
              "#T_4ca80_row6_col7 {\n",
              "  background-color: #e3eef8;\n",
              "  color: #000000;\n",
              "}\n",
              "#T_4ca80_row6_col9 {\n",
              "  background-color: #a1cbe2;\n",
              "  color: #000000;\n",
              "}\n",
              "#T_4ca80_row6_col10 {\n",
              "  background-color: #09529d;\n",
              "  color: #f1f1f1;\n",
              "}\n",
              "#T_4ca80_row6_col11, #T_4ca80_row11_col6 {\n",
              "  background-color: #60a7d2;\n",
              "  color: #f1f1f1;\n",
              "}\n",
              "#T_4ca80_row6_col13, #T_4ca80_row9_col6 {\n",
              "  background-color: #bcd7eb;\n",
              "  color: #000000;\n",
              "}\n",
              "#T_4ca80_row7_col5 {\n",
              "  background-color: #f5fafe;\n",
              "  color: #000000;\n",
              "}\n",
              "#T_4ca80_row7_col9, #T_4ca80_row10_col7 {\n",
              "  background-color: #eef5fc;\n",
              "  color: #000000;\n",
              "}\n",
              "#T_4ca80_row7_col12, #T_4ca80_row13_col7 {\n",
              "  background-color: #e4eff9;\n",
              "  color: #000000;\n",
              "}\n",
              "#T_4ca80_row8_col1 {\n",
              "  background-color: #1764ab;\n",
              "  color: #f1f1f1;\n",
              "}\n",
              "#T_4ca80_row8_col3 {\n",
              "  background-color: #4d99ca;\n",
              "  color: #f1f1f1;\n",
              "}\n",
              "#T_4ca80_row8_col4 {\n",
              "  background-color: #1b69af;\n",
              "  color: #f1f1f1;\n",
              "}\n",
              "#T_4ca80_row8_col5 {\n",
              "  background-color: #4f9bcb;\n",
              "  color: #f1f1f1;\n",
              "}\n",
              "#T_4ca80_row8_col6 {\n",
              "  background-color: #6caed6;\n",
              "  color: #f1f1f1;\n",
              "}\n",
              "#T_4ca80_row8_col9 {\n",
              "  background-color: #d9e7f5;\n",
              "  color: #000000;\n",
              "}\n",
              "#T_4ca80_row8_col10 {\n",
              "  background-color: #cddff1;\n",
              "  color: #000000;\n",
              "}\n",
              "#T_4ca80_row8_col11 {\n",
              "  background-color: #3a8ac2;\n",
              "  color: #f1f1f1;\n",
              "}\n",
              "#T_4ca80_row8_col12 {\n",
              "  background-color: #aed1e7;\n",
              "  color: #000000;\n",
              "}\n",
              "#T_4ca80_row8_col13 {\n",
              "  background-color: #3686c0;\n",
              "  color: #f1f1f1;\n",
              "}\n",
              "#T_4ca80_row9_col0 {\n",
              "  background-color: #d3e4f3;\n",
              "  color: #000000;\n",
              "}\n",
              "#T_4ca80_row9_col1 {\n",
              "  background-color: #d7e6f5;\n",
              "  color: #000000;\n",
              "}\n",
              "#T_4ca80_row9_col2 {\n",
              "  background-color: #9ac8e0;\n",
              "  color: #000000;\n",
              "}\n",
              "#T_4ca80_row9_col3, #T_4ca80_row12_col6, #T_4ca80_row13_col9 {\n",
              "  background-color: #d0e1f2;\n",
              "  color: #000000;\n",
              "}\n",
              "#T_4ca80_row9_col4 {\n",
              "  background-color: #d5e5f4;\n",
              "  color: #000000;\n",
              "}\n",
              "#T_4ca80_row9_col5, #T_4ca80_row10_col0 {\n",
              "  background-color: #dae8f6;\n",
              "  color: #000000;\n",
              "}\n",
              "#T_4ca80_row9_col8 {\n",
              "  background-color: #d9e8f5;\n",
              "  color: #000000;\n",
              "}\n",
              "#T_4ca80_row9_col10 {\n",
              "  background-color: #a4cce3;\n",
              "  color: #000000;\n",
              "}\n",
              "#T_4ca80_row9_col11, #T_4ca80_row11_col10 {\n",
              "  background-color: #b3d3e8;\n",
              "  color: #000000;\n",
              "}\n",
              "#T_4ca80_row9_col13 {\n",
              "  background-color: #e1edf8;\n",
              "  color: #000000;\n",
              "}\n",
              "#T_4ca80_row10_col1 {\n",
              "  background-color: #8abfdd;\n",
              "  color: #000000;\n",
              "}\n",
              "#T_4ca80_row10_col2 {\n",
              "  background-color: #edf4fc;\n",
              "  color: #000000;\n",
              "}\n",
              "#T_4ca80_row10_col3 {\n",
              "  background-color: #c9ddf0;\n",
              "  color: #000000;\n",
              "}\n",
              "#T_4ca80_row10_col4 {\n",
              "  background-color: #69add5;\n",
              "  color: #f1f1f1;\n",
              "}\n",
              "#T_4ca80_row10_col5 {\n",
              "  background-color: #5ca4d0;\n",
              "  color: #f1f1f1;\n",
              "}\n",
              "#T_4ca80_row10_col6 {\n",
              "  background-color: #0a549e;\n",
              "  color: #f1f1f1;\n",
              "}\n",
              "#T_4ca80_row10_col8 {\n",
              "  background-color: #c4daee;\n",
              "  color: #000000;\n",
              "}\n",
              "#T_4ca80_row10_col9 {\n",
              "  background-color: #97c6df;\n",
              "  color: #000000;\n",
              "}\n",
              "#T_4ca80_row10_col11 {\n",
              "  background-color: #bfd8ed;\n",
              "  color: #000000;\n",
              "}\n",
              "#T_4ca80_row10_col12 {\n",
              "  background-color: #d4e4f4;\n",
              "  color: #000000;\n",
              "}\n",
              "#T_4ca80_row11_col0 {\n",
              "  background-color: #1967ad;\n",
              "  color: #f1f1f1;\n",
              "}\n",
              "#T_4ca80_row11_col1 {\n",
              "  background-color: #1460a8;\n",
              "  color: #f1f1f1;\n",
              "}\n",
              "#T_4ca80_row11_col2 {\n",
              "  background-color: #a0cbe2;\n",
              "  color: #000000;\n",
              "}\n",
              "#T_4ca80_row11_col3 {\n",
              "  background-color: #61a7d2;\n",
              "  color: #f1f1f1;\n",
              "}\n",
              "#T_4ca80_row11_col4 {\n",
              "  background-color: #4090c5;\n",
              "  color: #f1f1f1;\n",
              "}\n",
              "#T_4ca80_row11_col5 {\n",
              "  background-color: #529dcc;\n",
              "  color: #f1f1f1;\n",
              "}\n",
              "#T_4ca80_row11_col7, #T_4ca80_row12_col3 {\n",
              "  background-color: #e3eef9;\n",
              "  color: #000000;\n",
              "}\n",
              "#T_4ca80_row11_col12 {\n",
              "  background-color: #65aad4;\n",
              "  color: #f1f1f1;\n",
              "}\n",
              "#T_4ca80_row11_col13, #T_4ca80_row13_col11 {\n",
              "  background-color: #3f8fc5;\n",
              "  color: #f1f1f1;\n",
              "}\n",
              "#T_4ca80_row12_col0 {\n",
              "  background-color: #84bcdb;\n",
              "  color: #000000;\n",
              "}\n",
              "#T_4ca80_row12_col1 {\n",
              "  background-color: #6aaed6;\n",
              "  color: #f1f1f1;\n",
              "}\n",
              "#T_4ca80_row12_col5 {\n",
              "  background-color: #95c5df;\n",
              "  color: #000000;\n",
              "}\n",
              "#T_4ca80_row12_col7 {\n",
              "  background-color: #e6f0f9;\n",
              "  color: #000000;\n",
              "}\n",
              "#T_4ca80_row12_col10 {\n",
              "  background-color: #ddeaf7;\n",
              "  color: #000000;\n",
              "}\n",
              "#T_4ca80_row12_col11 {\n",
              "  background-color: #7cb7da;\n",
              "  color: #000000;\n",
              "}\n",
              "#T_4ca80_row12_col13 {\n",
              "  background-color: #c8dcf0;\n",
              "  color: #000000;\n",
              "}\n",
              "#T_4ca80_row13_col4 {\n",
              "  background-color: #5da5d1;\n",
              "  color: #f1f1f1;\n",
              "}\n",
              "#T_4ca80_row13_col5 {\n",
              "  background-color: #c1d9ed;\n",
              "  color: #000000;\n",
              "}\n",
              "#T_4ca80_row13_col6 {\n",
              "  background-color: #bdd7ec;\n",
              "  color: #000000;\n",
              "}\n",
              "#T_4ca80_row13_col10 {\n",
              "  background-color: #eaf2fb;\n",
              "  color: #000000;\n",
              "}\n",
              "#T_4ca80_row13_col12 {\n",
              "  background-color: #b0d2e7;\n",
              "  color: #000000;\n",
              "}\n",
              "</style>\n",
              "<table id=\"T_4ca80\">\n",
              "  <thead>\n",
              "    <tr>\n",
              "      <th class=\"blank level0\" >&nbsp;</th>\n",
              "      <th id=\"T_4ca80_level0_col0\" class=\"col_heading level0 col0\" >public_transport</th>\n",
              "      <th id=\"T_4ca80_level0_col1\" class=\"col_heading level0 col1\" >amenity</th>\n",
              "      <th id=\"T_4ca80_level0_col2\" class=\"col_heading level0 col2\" >leisure</th>\n",
              "      <th id=\"T_4ca80_level0_col3\" class=\"col_heading level0 col3\" >natural</th>\n",
              "      <th id=\"T_4ca80_level0_col4\" class=\"col_heading level0 col4\" >shop</th>\n",
              "      <th id=\"T_4ca80_level0_col5\" class=\"col_heading level0 col5\" >tourism</th>\n",
              "      <th id=\"T_4ca80_level0_col6\" class=\"col_heading level0 col6\" >historic</th>\n",
              "      <th id=\"T_4ca80_level0_col7\" class=\"col_heading level0 col7\" >aeroway</th>\n",
              "      <th id=\"T_4ca80_level0_col8\" class=\"col_heading level0 col8\" >healthcare</th>\n",
              "      <th id=\"T_4ca80_level0_col9\" class=\"col_heading level0 col9\" >industrial</th>\n",
              "      <th id=\"T_4ca80_level0_col10\" class=\"col_heading level0 col10\" >flood_prone</th>\n",
              "      <th id=\"T_4ca80_level0_col11\" class=\"col_heading level0 col11\" >highway</th>\n",
              "      <th id=\"T_4ca80_level0_col12\" class=\"col_heading level0 col12\" >waste</th>\n",
              "      <th id=\"T_4ca80_level0_col13\" class=\"col_heading level0 col13\" >school</th>\n",
              "    </tr>\n",
              "  </thead>\n",
              "  <tbody>\n",
              "    <tr>\n",
              "      <th id=\"T_4ca80_level0_row0\" class=\"row_heading level0 row0\" >public_transport</th>\n",
              "      <td id=\"T_4ca80_row0_col0\" class=\"data row0 col0\" >1.000000</td>\n",
              "      <td id=\"T_4ca80_row0_col1\" class=\"data row0 col1\" >0.763581</td>\n",
              "      <td id=\"T_4ca80_row0_col2\" class=\"data row0 col2\" >0.073251</td>\n",
              "      <td id=\"T_4ca80_row0_col3\" class=\"data row0 col3\" >0.417592</td>\n",
              "      <td id=\"T_4ca80_row0_col4\" class=\"data row0 col4\" >0.527780</td>\n",
              "      <td id=\"T_4ca80_row0_col5\" class=\"data row0 col5\" >0.568485</td>\n",
              "      <td id=\"T_4ca80_row0_col6\" class=\"data row0 col6\" >0.369534</td>\n",
              "      <td id=\"T_4ca80_row0_col7\" class=\"data row0 col7\" >-0.051891</td>\n",
              "      <td id=\"T_4ca80_row0_col8\" class=\"data row0 col8\" >0.671728</td>\n",
              "      <td id=\"T_4ca80_row0_col9\" class=\"data row0 col9\" >0.139159</td>\n",
              "      <td id=\"T_4ca80_row0_col10\" class=\"data row0 col10\" >0.100927</td>\n",
              "      <td id=\"T_4ca80_row0_col11\" class=\"data row0 col11\" >0.776359</td>\n",
              "      <td id=\"T_4ca80_row0_col12\" class=\"data row0 col12\" >0.409792</td>\n",
              "      <td id=\"T_4ca80_row0_col13\" class=\"data row0 col13\" >0.665895</td>\n",
              "    </tr>\n",
              "    <tr>\n",
              "      <th id=\"T_4ca80_level0_row1\" class=\"row_heading level0 row1\" >amenity</th>\n",
              "      <td id=\"T_4ca80_row1_col0\" class=\"data row1 col0\" >0.763581</td>\n",
              "      <td id=\"T_4ca80_row1_col1\" class=\"data row1 col1\" >1.000000</td>\n",
              "      <td id=\"T_4ca80_row1_col2\" class=\"data row1 col2\" >0.086128</td>\n",
              "      <td id=\"T_4ca80_row1_col3\" class=\"data row1 col3\" >0.450713</td>\n",
              "      <td id=\"T_4ca80_row1_col4\" class=\"data row1 col4\" >0.849721</td>\n",
              "      <td id=\"T_4ca80_row1_col5\" class=\"data row1 col5\" >0.821577</td>\n",
              "      <td id=\"T_4ca80_row1_col6\" class=\"data row1 col6\" >0.717066</td>\n",
              "      <td id=\"T_4ca80_row1_col7\" class=\"data row1 col7\" >0.008631</td>\n",
              "      <td id=\"T_4ca80_row1_col8\" class=\"data row1 col8\" >0.800914</td>\n",
              "      <td id=\"T_4ca80_row1_col9\" class=\"data row1 col9\" >0.170582</td>\n",
              "      <td id=\"T_4ca80_row1_col10\" class=\"data row1 col10\" >0.429921</td>\n",
              "      <td id=\"T_4ca80_row1_col11\" class=\"data row1 col11\" >0.816183</td>\n",
              "      <td id=\"T_4ca80_row1_col12\" class=\"data row1 col12\" >0.507948</td>\n",
              "      <td id=\"T_4ca80_row1_col13\" class=\"data row1 col13\" >0.618710</td>\n",
              "    </tr>\n",
              "    <tr>\n",
              "      <th id=\"T_4ca80_level0_row2\" class=\"row_heading level0 row2\" >leisure</th>\n",
              "      <td id=\"T_4ca80_row2_col0\" class=\"data row2 col0\" >0.073251</td>\n",
              "      <td id=\"T_4ca80_row2_col1\" class=\"data row2 col1\" >0.086128</td>\n",
              "      <td id=\"T_4ca80_row2_col2\" class=\"data row2 col2\" >1.000000</td>\n",
              "      <td id=\"T_4ca80_row2_col3\" class=\"data row2 col3\" >0.014665</td>\n",
              "      <td id=\"T_4ca80_row2_col4\" class=\"data row2 col4\" >0.100974</td>\n",
              "      <td id=\"T_4ca80_row2_col5\" class=\"data row2 col5\" >0.014393</td>\n",
              "      <td id=\"T_4ca80_row2_col6\" class=\"data row2 col6\" >0.106602</td>\n",
              "      <td id=\"T_4ca80_row2_col7\" class=\"data row2 col7\" >-0.015737</td>\n",
              "      <td id=\"T_4ca80_row2_col8\" class=\"data row2 col8\" >0.071577</td>\n",
              "      <td id=\"T_4ca80_row2_col9\" class=\"data row2 col9\" >0.370731</td>\n",
              "      <td id=\"T_4ca80_row2_col10\" class=\"data row2 col10\" >0.029774</td>\n",
              "      <td id=\"T_4ca80_row2_col11\" class=\"data row2 col11\" >0.355062</td>\n",
              "      <td id=\"T_4ca80_row2_col12\" class=\"data row2 col12\" >-0.022168</td>\n",
              "      <td id=\"T_4ca80_row2_col13\" class=\"data row2 col13\" >0.058475</td>\n",
              "    </tr>\n",
              "    <tr>\n",
              "      <th id=\"T_4ca80_level0_row3\" class=\"row_heading level0 row3\" >natural</th>\n",
              "      <td id=\"T_4ca80_row3_col0\" class=\"data row3 col0\" >0.417592</td>\n",
              "      <td id=\"T_4ca80_row3_col1\" class=\"data row3 col1\" >0.450713</td>\n",
              "      <td id=\"T_4ca80_row3_col2\" class=\"data row3 col2\" >0.014665</td>\n",
              "      <td id=\"T_4ca80_row3_col3\" class=\"data row3 col3\" >1.000000</td>\n",
              "      <td id=\"T_4ca80_row3_col4\" class=\"data row3 col4\" >0.342723</td>\n",
              "      <td id=\"T_4ca80_row3_col5\" class=\"data row3 col5\" >0.296817</td>\n",
              "      <td id=\"T_4ca80_row3_col6\" class=\"data row3 col6\" >0.365242</td>\n",
              "      <td id=\"T_4ca80_row3_col7\" class=\"data row3 col7\" >-0.027439</td>\n",
              "      <td id=\"T_4ca80_row3_col8\" class=\"data row3 col8\" >0.579356</td>\n",
              "      <td id=\"T_4ca80_row3_col9\" class=\"data row3 col9\" >0.180052</td>\n",
              "      <td id=\"T_4ca80_row3_col10\" class=\"data row3 col10\" >0.214130</td>\n",
              "      <td id=\"T_4ca80_row3_col11\" class=\"data row3 col11\" >0.517415</td>\n",
              "      <td id=\"T_4ca80_row3_col12\" class=\"data row3 col12\" >0.076591</td>\n",
              "      <td id=\"T_4ca80_row3_col13\" class=\"data row3 col13\" >0.495799</td>\n",
              "    </tr>\n",
              "    <tr>\n",
              "      <th id=\"T_4ca80_level0_row4\" class=\"row_heading level0 row4\" >shop</th>\n",
              "      <td id=\"T_4ca80_row4_col0\" class=\"data row4 col0\" >0.527780</td>\n",
              "      <td id=\"T_4ca80_row4_col1\" class=\"data row4 col1\" >0.849721</td>\n",
              "      <td id=\"T_4ca80_row4_col2\" class=\"data row4 col2\" >0.100974</td>\n",
              "      <td id=\"T_4ca80_row4_col3\" class=\"data row4 col3\" >0.342723</td>\n",
              "      <td id=\"T_4ca80_row4_col4\" class=\"data row4 col4\" >1.000000</td>\n",
              "      <td id=\"T_4ca80_row4_col5\" class=\"data row4 col5\" >0.685481</td>\n",
              "      <td id=\"T_4ca80_row4_col6\" class=\"data row4 col6\" >0.716087</td>\n",
              "      <td id=\"T_4ca80_row4_col7\" class=\"data row4 col7\" >0.009194</td>\n",
              "      <td id=\"T_4ca80_row4_col8\" class=\"data row4 col8\" >0.780471</td>\n",
              "      <td id=\"T_4ca80_row4_col9\" class=\"data row4 col9\" >0.182600</td>\n",
              "      <td id=\"T_4ca80_row4_col10\" class=\"data row4 col10\" >0.508524</td>\n",
              "      <td id=\"T_4ca80_row4_col11\" class=\"data row4 col11\" >0.632613</td>\n",
              "      <td id=\"T_4ca80_row4_col12\" class=\"data row4 col12\" >0.341365</td>\n",
              "      <td id=\"T_4ca80_row4_col13\" class=\"data row4 col13\" >0.543567</td>\n",
              "    </tr>\n",
              "    <tr>\n",
              "      <th id=\"T_4ca80_level0_row5\" class=\"row_heading level0 row5\" >tourism</th>\n",
              "      <td id=\"T_4ca80_row5_col0\" class=\"data row5 col0\" >0.568485</td>\n",
              "      <td id=\"T_4ca80_row5_col1\" class=\"data row5 col1\" >0.821577</td>\n",
              "      <td id=\"T_4ca80_row5_col2\" class=\"data row5 col2\" >0.014393</td>\n",
              "      <td id=\"T_4ca80_row5_col3\" class=\"data row5 col3\" >0.296817</td>\n",
              "      <td id=\"T_4ca80_row5_col4\" class=\"data row5 col4\" >0.685481</td>\n",
              "      <td id=\"T_4ca80_row5_col5\" class=\"data row5 col5\" >1.000000</td>\n",
              "      <td id=\"T_4ca80_row5_col6\" class=\"data row5 col6\" >0.792774</td>\n",
              "      <td id=\"T_4ca80_row5_col7\" class=\"data row5 col7\" >0.025855</td>\n",
              "      <td id=\"T_4ca80_row5_col8\" class=\"data row5 col8\" >0.589027</td>\n",
              "      <td id=\"T_4ca80_row5_col9\" class=\"data row5 col9\" >0.159718</td>\n",
              "      <td id=\"T_4ca80_row5_col10\" class=\"data row5 col10\" >0.550272</td>\n",
              "      <td id=\"T_4ca80_row5_col11\" class=\"data row5 col11\" >0.583679</td>\n",
              "      <td id=\"T_4ca80_row5_col12\" class=\"data row5 col12\" >0.404843</td>\n",
              "      <td id=\"T_4ca80_row5_col13\" class=\"data row5 col13\" >0.279740</td>\n",
              "    </tr>\n",
              "    <tr>\n",
              "      <th id=\"T_4ca80_level0_row6\" class=\"row_heading level0 row6\" >historic</th>\n",
              "      <td id=\"T_4ca80_row6_col0\" class=\"data row6 col0\" >0.369534</td>\n",
              "      <td id=\"T_4ca80_row6_col1\" class=\"data row6 col1\" >0.717066</td>\n",
              "      <td id=\"T_4ca80_row6_col2\" class=\"data row6 col2\" >0.106602</td>\n",
              "      <td id=\"T_4ca80_row6_col3\" class=\"data row6 col3\" >0.365242</td>\n",
              "      <td id=\"T_4ca80_row6_col4\" class=\"data row6 col4\" >0.716087</td>\n",
              "      <td id=\"T_4ca80_row6_col5\" class=\"data row6 col5\" >0.792774</td>\n",
              "      <td id=\"T_4ca80_row6_col6\" class=\"data row6 col6\" >1.000000</td>\n",
              "      <td id=\"T_4ca80_row6_col7\" class=\"data row6 col7\" >0.051691</td>\n",
              "      <td id=\"T_4ca80_row6_col8\" class=\"data row6 col8\" >0.525555</td>\n",
              "      <td id=\"T_4ca80_row6_col9\" class=\"data row6 col9\" >0.322069</td>\n",
              "      <td id=\"T_4ca80_row6_col10\" class=\"data row6 col10\" >0.869465</td>\n",
              "      <td id=\"T_4ca80_row6_col11\" class=\"data row6 col11\" >0.556871</td>\n",
              "      <td id=\"T_4ca80_row6_col12\" class=\"data row6 col12\" >0.240796</td>\n",
              "      <td id=\"T_4ca80_row6_col13\" class=\"data row6 col13\" >0.315332</td>\n",
              "    </tr>\n",
              "    <tr>\n",
              "      <th id=\"T_4ca80_level0_row7\" class=\"row_heading level0 row7\" >aeroway</th>\n",
              "      <td id=\"T_4ca80_row7_col0\" class=\"data row7 col0\" >-0.051891</td>\n",
              "      <td id=\"T_4ca80_row7_col1\" class=\"data row7 col1\" >0.008631</td>\n",
              "      <td id=\"T_4ca80_row7_col2\" class=\"data row7 col2\" >-0.015737</td>\n",
              "      <td id=\"T_4ca80_row7_col3\" class=\"data row7 col3\" >-0.027439</td>\n",
              "      <td id=\"T_4ca80_row7_col4\" class=\"data row7 col4\" >0.009194</td>\n",
              "      <td id=\"T_4ca80_row7_col5\" class=\"data row7 col5\" >0.025855</td>\n",
              "      <td id=\"T_4ca80_row7_col6\" class=\"data row7 col6\" >0.051691</td>\n",
              "      <td id=\"T_4ca80_row7_col7\" class=\"data row7 col7\" >1.000000</td>\n",
              "      <td id=\"T_4ca80_row7_col8\" class=\"data row7 col8\" >-0.059825</td>\n",
              "      <td id=\"T_4ca80_row7_col9\" class=\"data row7 col9\" >-0.017766</td>\n",
              "      <td id=\"T_4ca80_row7_col10\" class=\"data row7 col10\" >-0.006327</td>\n",
              "      <td id=\"T_4ca80_row7_col11\" class=\"data row7 col11\" >0.046964</td>\n",
              "      <td id=\"T_4ca80_row7_col12\" class=\"data row7 col12\" >0.034687</td>\n",
              "      <td id=\"T_4ca80_row7_col13\" class=\"data row7 col13\" >0.043436</td>\n",
              "    </tr>\n",
              "    <tr>\n",
              "      <th id=\"T_4ca80_level0_row8\" class=\"row_heading level0 row8\" >healthcare</th>\n",
              "      <td id=\"T_4ca80_row8_col0\" class=\"data row8 col0\" >0.671728</td>\n",
              "      <td id=\"T_4ca80_row8_col1\" class=\"data row8 col1\" >0.800914</td>\n",
              "      <td id=\"T_4ca80_row8_col2\" class=\"data row8 col2\" >0.071577</td>\n",
              "      <td id=\"T_4ca80_row8_col3\" class=\"data row8 col3\" >0.579356</td>\n",
              "      <td id=\"T_4ca80_row8_col4\" class=\"data row8 col4\" >0.780471</td>\n",
              "      <td id=\"T_4ca80_row8_col5\" class=\"data row8 col5\" >0.589027</td>\n",
              "      <td id=\"T_4ca80_row8_col6\" class=\"data row8 col6\" >0.525555</td>\n",
              "      <td id=\"T_4ca80_row8_col7\" class=\"data row8 col7\" >-0.059825</td>\n",
              "      <td id=\"T_4ca80_row8_col8\" class=\"data row8 col8\" >1.000000</td>\n",
              "      <td id=\"T_4ca80_row8_col9\" class=\"data row8 col9\" >0.097918</td>\n",
              "      <td id=\"T_4ca80_row8_col10\" class=\"data row8 col10\" >0.210572</td>\n",
              "      <td id=\"T_4ca80_row8_col11\" class=\"data row8 col11\" >0.670711</td>\n",
              "      <td id=\"T_4ca80_row8_col12\" class=\"data row8 col12\" >0.281707</td>\n",
              "      <td id=\"T_4ca80_row8_col13\" class=\"data row8 col13\" >0.682907</td>\n",
              "    </tr>\n",
              "    <tr>\n",
              "      <th id=\"T_4ca80_level0_row9\" class=\"row_heading level0 row9\" >industrial</th>\n",
              "      <td id=\"T_4ca80_row9_col0\" class=\"data row9 col0\" >0.139159</td>\n",
              "      <td id=\"T_4ca80_row9_col1\" class=\"data row9 col1\" >0.170582</td>\n",
              "      <td id=\"T_4ca80_row9_col2\" class=\"data row9 col2\" >0.370731</td>\n",
              "      <td id=\"T_4ca80_row9_col3\" class=\"data row9 col3\" >0.180052</td>\n",
              "      <td id=\"T_4ca80_row9_col4\" class=\"data row9 col4\" >0.182600</td>\n",
              "      <td id=\"T_4ca80_row9_col5\" class=\"data row9 col5\" >0.159718</td>\n",
              "      <td id=\"T_4ca80_row9_col6\" class=\"data row9 col6\" >0.322069</td>\n",
              "      <td id=\"T_4ca80_row9_col7\" class=\"data row9 col7\" >-0.017766</td>\n",
              "      <td id=\"T_4ca80_row9_col8\" class=\"data row9 col8\" >0.097918</td>\n",
              "      <td id=\"T_4ca80_row9_col9\" class=\"data row9 col9\" >1.000000</td>\n",
              "      <td id=\"T_4ca80_row9_col10\" class=\"data row9 col10\" >0.352804</td>\n",
              "      <td id=\"T_4ca80_row9_col11\" class=\"data row9 col11\" >0.341379</td>\n",
              "      <td id=\"T_4ca80_row9_col12\" class=\"data row9 col12\" >-0.066373</td>\n",
              "      <td id=\"T_4ca80_row9_col13\" class=\"data row9 col13\" >0.149587</td>\n",
              "    </tr>\n",
              "    <tr>\n",
              "      <th id=\"T_4ca80_level0_row10\" class=\"row_heading level0 row10\" >flood_prone</th>\n",
              "      <td id=\"T_4ca80_row10_col0\" class=\"data row10 col0\" >0.100927</td>\n",
              "      <td id=\"T_4ca80_row10_col1\" class=\"data row10 col1\" >0.429921</td>\n",
              "      <td id=\"T_4ca80_row10_col2\" class=\"data row10 col2\" >0.029774</td>\n",
              "      <td id=\"T_4ca80_row10_col3\" class=\"data row10 col3\" >0.214130</td>\n",
              "      <td id=\"T_4ca80_row10_col4\" class=\"data row10 col4\" >0.508524</td>\n",
              "      <td id=\"T_4ca80_row10_col5\" class=\"data row10 col5\" >0.550272</td>\n",
              "      <td id=\"T_4ca80_row10_col6\" class=\"data row10 col6\" >0.869465</td>\n",
              "      <td id=\"T_4ca80_row10_col7\" class=\"data row10 col7\" >-0.006327</td>\n",
              "      <td id=\"T_4ca80_row10_col8\" class=\"data row10 col8\" >0.210572</td>\n",
              "      <td id=\"T_4ca80_row10_col9\" class=\"data row10 col9\" >0.352804</td>\n",
              "      <td id=\"T_4ca80_row10_col10\" class=\"data row10 col10\" >1.000000</td>\n",
              "      <td id=\"T_4ca80_row10_col11\" class=\"data row10 col11\" >0.307423</td>\n",
              "      <td id=\"T_4ca80_row10_col12\" class=\"data row10 col12\" >0.124553</td>\n",
              "      <td id=\"T_4ca80_row10_col13\" class=\"data row10 col13\" >0.061362</td>\n",
              "    </tr>\n",
              "    <tr>\n",
              "      <th id=\"T_4ca80_level0_row11\" class=\"row_heading level0 row11\" >highway</th>\n",
              "      <td id=\"T_4ca80_row11_col0\" class=\"data row11 col0\" >0.776359</td>\n",
              "      <td id=\"T_4ca80_row11_col1\" class=\"data row11 col1\" >0.816183</td>\n",
              "      <td id=\"T_4ca80_row11_col2\" class=\"data row11 col2\" >0.355062</td>\n",
              "      <td id=\"T_4ca80_row11_col3\" class=\"data row11 col3\" >0.517415</td>\n",
              "      <td id=\"T_4ca80_row11_col4\" class=\"data row11 col4\" >0.632613</td>\n",
              "      <td id=\"T_4ca80_row11_col5\" class=\"data row11 col5\" >0.583679</td>\n",
              "      <td id=\"T_4ca80_row11_col6\" class=\"data row11 col6\" >0.556871</td>\n",
              "      <td id=\"T_4ca80_row11_col7\" class=\"data row11 col7\" >0.046964</td>\n",
              "      <td id=\"T_4ca80_row11_col8\" class=\"data row11 col8\" >0.670711</td>\n",
              "      <td id=\"T_4ca80_row11_col9\" class=\"data row11 col9\" >0.341379</td>\n",
              "      <td id=\"T_4ca80_row11_col10\" class=\"data row11 col10\" >0.307423</td>\n",
              "      <td id=\"T_4ca80_row11_col11\" class=\"data row11 col11\" >1.000000</td>\n",
              "      <td id=\"T_4ca80_row11_col12\" class=\"data row11 col12\" >0.484685</td>\n",
              "      <td id=\"T_4ca80_row11_col13\" class=\"data row11 col13\" >0.651517</td>\n",
              "    </tr>\n",
              "    <tr>\n",
              "      <th id=\"T_4ca80_level0_row12\" class=\"row_heading level0 row12\" >waste</th>\n",
              "      <td id=\"T_4ca80_row12_col0\" class=\"data row12 col0\" >0.409792</td>\n",
              "      <td id=\"T_4ca80_row12_col1\" class=\"data row12 col1\" >0.507948</td>\n",
              "      <td id=\"T_4ca80_row12_col2\" class=\"data row12 col2\" >-0.022168</td>\n",
              "      <td id=\"T_4ca80_row12_col3\" class=\"data row12 col3\" >0.076591</td>\n",
              "      <td id=\"T_4ca80_row12_col4\" class=\"data row12 col4\" >0.341365</td>\n",
              "      <td id=\"T_4ca80_row12_col5\" class=\"data row12 col5\" >0.404843</td>\n",
              "      <td id=\"T_4ca80_row12_col6\" class=\"data row12 col6\" >0.240796</td>\n",
              "      <td id=\"T_4ca80_row12_col7\" class=\"data row12 col7\" >0.034687</td>\n",
              "      <td id=\"T_4ca80_row12_col8\" class=\"data row12 col8\" >0.281707</td>\n",
              "      <td id=\"T_4ca80_row12_col9\" class=\"data row12 col9\" >-0.066373</td>\n",
              "      <td id=\"T_4ca80_row12_col10\" class=\"data row12 col10\" >0.124553</td>\n",
              "      <td id=\"T_4ca80_row12_col11\" class=\"data row12 col11\" >0.484685</td>\n",
              "      <td id=\"T_4ca80_row12_col12\" class=\"data row12 col12\" >1.000000</td>\n",
              "      <td id=\"T_4ca80_row12_col13\" class=\"data row12 col13\" >0.273155</td>\n",
              "    </tr>\n",
              "    <tr>\n",
              "      <th id=\"T_4ca80_level0_row13\" class=\"row_heading level0 row13\" >school</th>\n",
              "      <td id=\"T_4ca80_row13_col0\" class=\"data row13 col0\" >0.665895</td>\n",
              "      <td id=\"T_4ca80_row13_col1\" class=\"data row13 col1\" >0.618710</td>\n",
              "      <td id=\"T_4ca80_row13_col2\" class=\"data row13 col2\" >0.058475</td>\n",
              "      <td id=\"T_4ca80_row13_col3\" class=\"data row13 col3\" >0.495799</td>\n",
              "      <td id=\"T_4ca80_row13_col4\" class=\"data row13 col4\" >0.543567</td>\n",
              "      <td id=\"T_4ca80_row13_col5\" class=\"data row13 col5\" >0.279740</td>\n",
              "      <td id=\"T_4ca80_row13_col6\" class=\"data row13 col6\" >0.315332</td>\n",
              "      <td id=\"T_4ca80_row13_col7\" class=\"data row13 col7\" >0.043436</td>\n",
              "      <td id=\"T_4ca80_row13_col8\" class=\"data row13 col8\" >0.682907</td>\n",
              "      <td id=\"T_4ca80_row13_col9\" class=\"data row13 col9\" >0.149587</td>\n",
              "      <td id=\"T_4ca80_row13_col10\" class=\"data row13 col10\" >0.061362</td>\n",
              "      <td id=\"T_4ca80_row13_col11\" class=\"data row13 col11\" >0.651517</td>\n",
              "      <td id=\"T_4ca80_row13_col12\" class=\"data row13 col12\" >0.273155</td>\n",
              "      <td id=\"T_4ca80_row13_col13\" class=\"data row13 col13\" >1.000000</td>\n",
              "    </tr>\n",
              "  </tbody>\n",
              "</table>\n"
            ],
            "text/plain": [
              "<pandas.io.formats.style.Styler at 0x176c93450>"
            ]
          },
          "execution_count": 88,
          "metadata": {},
          "output_type": "execute_result"
        }
      ],
      "source": [
        "# Feature cross sectionality\n",
        "# Aeroway is clearly quite a cross sectional feature but this is likely to be due (at least in part) to its sparsity\n",
        "# Some relatively expected correlations e.g. highways and amenities, and some more intersting ones such as historic and flood risk (but this also does make sense given that historic settlements \n",
        "# are typically located close to a water source e.g. Bath and these buildings are significantly less flood resistant given the age of the materials used to make them)\n",
        "df = pd.DataFrame(pois_by_features)\n",
        "corr = df.corr()\n",
        "corr.style.background_gradient(cmap='Blues')"
      ]
    },
    {
      "cell_type": "code",
      "execution_count": 122,
      "id": "9d91cf94",
      "metadata": {},
      "outputs": [
        {
          "name": "stdout",
          "output_type": "stream",
          "text": [
            "The explained variance with 1 principle componnts is: 0.5365897140091036\n",
            "The explained variance with 2 principle componnts is: 0.7263318253982294\n",
            "The explained variance with 3 principle componnts is: 0.8416810539723178\n",
            "The explained variance with 4 principle componnts is: 0.9099277921913606\n",
            "The explained variance with 5 principle componnts is: 0.9422440113777333\n",
            "The explained variance with 6 principle componnts is: 0.9651036579775721\n"
          ]
        },
        {
          "data": {
            "image/png": "[encoded data removed]",
            "text/plain": [
              "<Figure size 640x480 with 1 Axes>"
            ]
          },
          "metadata": {},
          "output_type": "display_data"
        }
      ],
      "source": [
        "# PCA\n",
        "pca = PCA(n_components=len(corr))\n",
        "princ_compt = pca.fit_transform(corr)\n",
        "explained_variance = np.concatenate([np.array([0]), np.cumsum(pca.explained_variance_ratio_)])\n",
        "cutoff = np.argmax(explained_variance > 0.95)\n",
        "for i in range(1, cutoff + 1):\n",
        "    print(f\"The explained variance with {i} principle componnts is: {explained_variance[i]}\")\n",
        "plt.ylabel('Explained variance')\n",
        "plt.xlabel('Number of principle components')\n",
        "plt.yticks(np.arange(0, 1.1, 0.1))\n",
        "plt.plot(explained_variance)\n",
        "plt.show()"
      ]
    },
    {
      "cell_type": "code",
      "execution_count": 190,
      "id": "a653bd40",
      "metadata": {},
      "outputs": [],
      "source": [
        "# Whilst a 6 dimensinal space would explain 96.5% of our variablility this high dimensioal space is challenging to visualise so lets take a look at visualisations of 1, 2 and 3 principal components instead\n",
        "pca = PCA(n_components=3)\n",
        "princ_compt = pca.fit_transform(corr)"
      ]
    },
    {
      "cell_type": "code",
      "execution_count": 181,
      "id": "b5e3f168",
      "metadata": {},
      "outputs": [],
      "source": [
        "COLOURS = ['black', 'red', 'darkorange', 'gold', 'yellow', 'darkolivegreen', 'lime', 'silver',\n",
        "           'aquamarine', 'dodgerblue', 'purple', 'fuchsia', 'lightpink', 'peru']"
      ]
    },
    {
      "cell_type": "code",
      "execution_count": 187,
      "id": "ee0f7108",
      "metadata": {},
      "outputs": [
        {
          "data": {
            "image/png": "[encoded data removed]",
            "text/plain": [
              "<Figure size 640x480 with 1 Axes>"
            ]
          },
          "metadata": {},
          "output_type": "display_data"
        }
      ],
      "source": [
        "# 1 principle component (54% variability)\n",
        "for i, col in enumerate(corr.columns):\n",
        "    plt.scatter(princ_compt[i,0], [0], c=COLOURS[i], label=col)\n",
        "plt.title(\"1 Principle component\")\n",
        "plt.legend(loc='center left', bbox_to_anchor=(1, 0.5))\n",
        "plt.yticks([])\n",
        "plt.show()"
      ]
    },
    {
      "cell_type": "code",
      "execution_count": 188,
      "id": "bed14272",
      "metadata": {},
      "outputs": [
        {
          "data": {
            "image/png": "[encoded data removed]",
            "text/plain": [
              "<Figure size 640x480 with 1 Axes>"
            ]
          },
          "metadata": {},
          "output_type": "display_data"
        }
      ],
      "source": [
        "# 2 principle components\n",
        "for i, col in enumerate(corr.columns):\n",
        "    plt.scatter(princ_compt[i,0], princ_compt[i,1], c=COLOURS[i], label=col)\n",
        "plt.title(\"2 Principle components\")\n",
        "plt.legend(loc='center left', bbox_to_anchor=(1, 0.5))\n",
        "plt.xlabel(\"Principle component 1\")\n",
        "plt.ylabel(\"Principle component 2\")\n",
        "plt.show()"
      ]
    },
    {
      "cell_type": "code",
      "execution_count": 189,
      "id": "f6779e22",
      "metadata": {},
      "outputs": [
        {
          "data": {
            "image/png": "[encoded data removed]",
            "text/plain": [
              "<Figure size 640x480 with 1 Axes>"
            ]
          },
          "metadata": {},
          "output_type": "display_data"
        }
      ],
      "source": [
        "# 3 principle components\n",
        "fig = plt.figure()\n",
        "ax = fig.add_subplot(projection='3d')\n",
        "for i, col in enumerate(corr.columns):\n",
        "    ax.scatter(princ_compt[i,0], princ_compt[i,1], princ_compt[i,2], c=COLOURS[i], label=col)\n",
        "ax.set_title(\"3 Principle components\")\n",
        "ax.legend(loc='center left', bbox_to_anchor=(1.25, 0.5))\n",
        "ax.set_xlabel(\"Principle component 1\")\n",
        "ax.set_ylabel(\"Principle component 2\")\n",
        "ax.set_zlabel(\"Principle component 3\")\n",
        "plt.show()"
      ]
    },
    {
      "cell_type": "markdown",
      "id": "09a0e365",
      "metadata": {
        "id": "09a0e365"
      },
      "source": [
        "## Question 3. Addressing a Property Price Prediction Question\n",
        "\n",
        "For your final tick, we will be asking you to make house price predictions for a given location, date and property type in the UK. You will provide a function that takes input a latitude and longitude as well as the `property_type` (either type\" of property (either `F` - flat, `S` - semidetached, `D` - detached, `T` - terraced or `O` other). Create this function in the `address.py` file, for example in the form,\n",
        "\n",
        "```\n",
        "def predict_price(latitude, longitude, date, property_type):\n",
        "    \"\"\"Price prediction for UK housing.\"\"\"\n",
        "    pass\n",
        "```\n",
        "\n",
        "We suggest that you use the following approach when building your prediction.\n",
        "\n",
        "1. Select a bounding box around the housing location in latitude and longitude.\n",
        "2. Select a data range around the prediction date.\n",
        "3. Use the data ecosystem you have build above to build a training set from the relevant time period and location in the UK. Include appropriate features from OSM to improve the prediction.\n",
        "4. Train a linear model on the data set you have created.\n",
        "5. Validate the quality of the model.\n",
        "6. Provide a prediction of the price from the model, warning appropriately if your validation indicates the quality of the model is poor.\n",
        "\n",
        "Please note that the quality of predictions is not the main focus of the assignment - we expect to see models that output reasonable predictions and have positive R^2's, but you should not spend too much time on increasing the model's accuracy.\n",
        "\n",
        "The knowledge you need to do a first pass through this question will have been taught by end of lab session four (7th November 2023). You will likely want to review your answer as part of *refactoring* your code shortly before hand in.\n",
        "\n"
      ]
    },
    {
      "cell_type": "code",
      "execution_count": null,
      "id": "Si3K0A2zM7pa",
      "metadata": {
        "id": "Si3K0A2zM7pa"
      },
      "outputs": [],
      "source": [
        "# Housing prices typically move slowly (at least when compared to other assets e.g. equities), even in the 2007 financial crisis it took around 2 years for property prices to reach their bottom\n",
        "# Given this I will be setting +-2 years as the default date-range for which it makes sense to train the model, with the option for the user to change this if they have reason to believe that their\n",
        "# model would benefit from data outside of this range"
      ]
    },
    {
      "cell_type": "code",
      "execution_count": null,
      "id": "ee228280",
      "metadata": {},
      "outputs": [],
      "source": [
        "# As for distance it a bit more challenging to determine a reasonable bounding box\n",
        "# In highly urbanised areas like London their is typically a greater level of income disparity and due to the structure of the city small pockets can cost significantly more than the surrounding area\n",
        "# a good example of this is Keston Park in Orpington which is a gated community and houses within the gated community cost upwards of 4x the price of houses in the surrounding area.\n",
        "# I have gone with +-2 miles as an initial area of interest with the geographic features being calaculated using a +-1 mile bounding box (the area needs to be smaller for there to actually be any feature \n",
        "# variation)"
      ]
    },
    {
      "cell_type": "code",
      "execution_count": null,
      "id": "f2238ab0",
      "metadata": {},
      "outputs": [],
      "source": [
        "# I will also be including the new_build_flag and the tenure type as fields as these should both be predictive (there is typically a new build premium of around 20% in the UK and leaseholds normally\n",
        "# sell for less than free holds due to the costs associated with ground rent and extending a lease)"
      ]
    },
    {
      "cell_type": "code",
      "execution_count": 92,
      "id": "196b3799",
      "metadata": {},
      "outputs": [],
      "source": [
        "import statsmodels.api as sm\n",
        "import datetime"
      ]
    },
    {
      "cell_type": "code",
      "execution_count": 4,
      "id": "42370d2c",
      "metadata": {},
      "outputs": [],
      "source": [
        "def query_table(conn, table, fields=['*'], conditions=[], limit=10):\n",
        "    try:\n",
        "        print(f\"\"\"\n",
        "                SELECT {', '.join(fields)} FROM {table} {('WHERE ' if conditions != [] else '') + ' AND '.join(conditions)} LIMIT {limit}; \n",
        "                    \"\"\")\n",
        "        cursor = conn.cursor()\n",
        "        cursor.execute(f\"\"\"\n",
        "                    SELECT {', '.join(fields)} FROM {table} {('WHERE ' if conditions != [] else '') + ' AND '.join(conditions)} LIMIT {limit}; \n",
        "                    \"\"\")\n",
        "        conn.commit()\n",
        "        result = cursor.fetchall()\n",
        "        cursor.close()\n",
        "        return result\n",
        "    except Exception as e:\n",
        "        print(f\"The following error occured in the query to {table}: {e}\")"
      ]
    },
    {
      "cell_type": "code",
      "execution_count": 118,
      "id": "f5d294eb",
      "metadata": {},
      "outputs": [
        {
          "name": "stdout",
          "output_type": "stream",
          "text": [
            "\n",
            "                SELECT * FROM prices_coordinates_data WHERE latitude >= 52.16611449275362 AND 52.22408550724637 >= latitude AND longitude >= 0.10231449275362318 AND 0.1602855072463768 >= longitude AND date_of_transfer >= '2010-06-10' AND '2014-06-10' >= date_of_transfer LIMIT 100; \n",
            "                    \n"
          ]
        }
      ],
      "source": [
        "from fynesse_template.fynesse import address\n",
        "\n",
        "\n",
        "training_rows = address.get_training_samples(52.1951, 0.1313, datetime.date(2012,6,10), limit=100)"
      ]
    },
    {
      "cell_type": "code",
      "execution_count": 192,
      "id": "8b1ab6a7",
      "metadata": {},
      "outputs": [],
      "source": [
        "property_features = one_hot_encode(training_rows)\n",
        "property_features = property_features.to_numpy()"
      ]
    },
    {
      "cell_type": "code",
      "execution_count": 206,
      "id": "6813b36a",
      "metadata": {},
      "outputs": [],
      "source": [
        "def convert_property_to_feature_vec(property_feature):\n",
        "    return np.concatenate((property_feature[0],[property_feature[1], property_feature[2]]))"
      ]
    },
    {
      "cell_type": "code",
      "execution_count": 215,
      "id": "9735ec90",
      "metadata": {},
      "outputs": [
        {
          "data": {
            "text/plain": [
              "array([198000, 222500, 210000, 190000, 195000, 237000, 224000, 260000,\n",
              "       420000, 385000, 395000, 425000, 425000, 310000, 323010, 430000,\n",
              "       420000, 423000, 375000, 399250, 262000, 304500, 325000, 305000,\n",
              "       360000, 289500, 300000, 460000, 435000, 279500, 460000, 380000,\n",
              "       399000, 399000, 400000, 413000, 389000, 605000, 605000, 375000,\n",
              "       618000, 618000, 565000, 337000, 160000, 163000, 169500, 170000,\n",
              "       173500, 220000, 240000, 450000, 600000, 445000, 500000, 795000,\n",
              "       409000, 489950, 500000, 490000, 470000, 482500, 521000, 467500,\n",
              "       495000, 327000, 525000, 333700, 550000, 500000, 409950, 430000,\n",
              "       495000, 290000, 450000, 395000, 205000, 267500, 249000, 530000,\n",
              "       250000, 410000, 410000, 410000, 395000, 398000, 480000, 300000,\n",
              "       450000, 353500, 500000, 420000, 630000, 485000, 499950, 494950,\n",
              "       499950, 494950, 492000, 484950])"
            ]
          },
          "execution_count": 215,
          "metadata": {},
          "output_type": "execute_result"
        }
      ],
      "source": [
        "feature_vec = np.concatenate((osm_features, property_feature_vec), axis=1)\n",
        "prices = training_rows['price'].to_numpy()"
      ]
    },
    {
      "cell_type": "code",
      "execution_count": 217,
      "id": "9e24176f",
      "metadata": {},
      "outputs": [],
      "source": [
        "# Use Lasso, Ridge, and Elastic Net regression (Lasso + Ridge) using 6 PCAs as pois features\n",
        "m_linear = sm.OLS(prices, feature_vec)\n",
        "results = m_linear.fit()"
      ]
    },
    {
      "cell_type": "code",
      "execution_count": 231,
      "id": "692033b9",
      "metadata": {},
      "outputs": [
        {
          "name": "stdout",
          "output_type": "stream",
          "text": [
            "(98033.00271662534, 296033.00271662534, 198000)\n",
            "(73533.00271662534, 296033.00271662534, 222500)\n",
            "(86033.00271662534, 296033.00271662534, 210000)\n",
            "(106033.00271662534, 296033.00271662534, 190000)\n",
            "(101033.00271662534, 296033.00271662534, 195000)\n",
            "(59033.00271662534, 296033.00271662534, 237000)\n",
            "(72033.00271662534, 296033.00271662534, 224000)\n",
            "(36033.00271662534, 296033.00271662534, 260000)\n",
            "(-76439.4556779575, 343560.5443220425, 420000)\n",
            "(-41439.45567795751, 343560.5443220425, 385000)\n",
            "(-51439.45567795751, 343560.5443220425, 395000)\n",
            "(-30516.264826276863, 394483.73517372314, 425000)\n",
            "(-30516.264826276863, 394483.73517372314, 425000)\n",
            "(27673.24132927577, 337673.24132927577, 310000)\n",
            "(14663.24132927577, 337673.24132927577, 323010)\n",
            "(27058.09880089428, 457058.0988008943, 430000)\n",
            "(-82326.75867072423, 337673.24132927577, 420000)\n",
            "(34058.09880089428, 457058.0988008943, 423000)\n",
            "(-37326.75867072423, 337673.24132927577, 375000)\n",
            "(-61576.75867072423, 337673.24132927577, 399250)\n",
            "(75673.24132927577, 337673.24132927577, 262000)\n",
            "(-25791.618682106957, 278708.38131789304, 304500)\n",
            "(12673.24132927577, 337673.24132927577, 325000)\n",
            "(32673.24132927577, 337673.24132927577, 305000)\n",
            "(-22326.75867072423, 337673.24132927577, 360000)\n",
            "(48173.24132927577, 337673.24132927577, 289500)\n",
            "(37673.24132927577, 337673.24132927577, 300000)\n",
            "(-2941.9011991057196, 457058.0988008943, 460000)\n",
            "(22058.09880089428, 457058.0988008943, 435000)\n",
            "(58173.24132927577, 337673.24132927577, 279500)\n",
            "(-2941.9011991057196, 457058.0988008943, 460000)\n",
            "(-42326.75867072423, 337673.24132927577, 380000)\n",
            "(52737.85999848909, 451737.8599984891, 399000)\n",
            "(52737.85999848909, 451737.8599984891, 399000)\n",
            "(51737.85999848909, 451737.8599984891, 400000)\n",
            "(38737.85999848909, 451737.8599984891, 413000)\n",
            "(62737.85999848909, 451737.8599984891, 389000)\n",
            "(-153262.1400015109, 451737.8599984891, 605000)\n",
            "(-153262.1400015109, 451737.8599984891, 605000)\n",
            "(76737.85999848909, 451737.8599984891, 375000)\n",
            "(-166262.1400015109, 451737.8599984891, 618000)\n",
            "(-166262.1400015109, 451737.8599984891, 618000)\n",
            "(-127773.38717482804, 437226.61282517196, 565000)\n",
            "(100226.61282517196, 437226.61282517196, 337000)\n",
            "(20039.53553108446, 180039.53553108446, 160000)\n",
            "(17039.53553108446, 180039.53553108446, 163000)\n",
            "(10539.53553108446, 180039.53553108446, 169500)\n",
            "(10039.53553108446, 180039.53553108446, 170000)\n",
            "(6539.535531084461, 180039.53553108446, 173500)\n",
            "(-39960.46446891554, 180039.53553108446, 220000)\n",
            "(-59960.46446891554, 180039.53553108446, 240000)\n",
            "(28726.67070121842, 478726.6707012184, 450000)\n",
            "(-121273.32929878158, 478726.6707012184, 600000)\n",
            "(33726.67070121842, 478726.6707012184, 445000)\n",
            "(-21273.32929878158, 478726.6707012184, 500000)\n",
            "(-316273.3292987816, 478726.6707012184, 795000)\n",
            "(63610.03538493789, 472610.0353849379, 409000)\n",
            "(-76304.82462644484, 413645.17537355516, 489950)\n",
            "(-60628.86157948768, 439371.1384205123, 500000)\n",
            "(-50628.86157948768, 439371.1384205123, 490000)\n",
            "(-30628.861579487682, 439371.1384205123, 470000)\n",
            "(-102093.72159087041, 380406.2784091296, 482500)\n",
            "(16481.067955785664, 537481.0679557857, 521000)\n",
            "(-28128.861579487682, 439371.1384205123, 467500)\n",
            "(-4705.670727807039, 490294.32927219296, 495000)\n",
            "(47805.322723327496, 374805.3227233275, 327000)\n",
            "(-103007.9385930798, 421992.0614069202, 525000)\n",
            "(41105.322723327496, 374805.3227233275, 333700)\n",
            "(-175194.6772766725, 374805.3227233275, 550000)\n",
            "(-125194.6772766725, 374805.3227233275, 500000)\n",
            "(56447.01773564471, 466397.0177356447, 409950)\n",
            "(-54669.21899288695, 375330.78100711305, 430000)\n",
            "(-119669.21899288695, 375330.78100711305, 495000)\n",
            "(85330.78100711305, 375330.78100711305, 290000)\n",
            "(-74669.21899288695, 375330.78100711305, 450000)\n",
            "(-19669.21899288695, 375330.78100711305, 395000)\n",
            "(22.7326838139561, 205022.73268381396, 205000)\n",
            "(138617.9289038994, 406117.9289038994, 267500)\n",
            "(106194.73805221874, 355194.73805221874, 249000)\n",
            "(-76695.33241250797, 453304.66758749203, 530000)\n",
            "(105194.73805221874, 355194.73805221874, 250000)\n",
            "(148928.3202677772, 558928.3202677772, 410000)\n",
            "(50818.3907325039, 460818.3907325039, 410000)\n",
            "(148928.3202677772, 558928.3202677772, 410000)\n",
            "(163928.3202677772, 558928.3202677772, 395000)\n",
            "(113741.58158418455, 511741.58158418455, 398000)\n",
            "(3603.4947879107785, 483603.4947879108, 480000)\n",
            "(136416.75610431813, 436416.75610431813, 300000)\n",
            "(33603.49478791078, 483603.4947879108, 450000)\n",
            "(82916.75610431813, 436416.75610431813, 353500)\n",
            "(-16396.50521208922, 483603.4947879108, 500000)\n",
            "(16416.756104318134, 436416.75610431813, 420000)\n",
            "(-156166.52515871107, 473833.47484128893, 630000)\n",
            "(-11166.525158711069, 473833.47484128893, 485000)\n",
            "(-26116.52515871107, 473833.47484128893, 499950)\n",
            "(-21116.52515871107, 473833.47484128893, 494950)\n",
            "(-26116.52515871107, 473833.47484128893, 499950)\n",
            "(76993.40437656222, 571943.4043765622, 494950)\n",
            "(-18166.52515871107, 473833.47484128893, 492000)\n",
            "(-11116.525158711069, 473833.47484128893, 484950)\n"
          ]
        }
      ],
      "source": [
        "price_pred = results.get_prediction(feature_vec).summary_frame(alpha=0.05)\n",
        "for i in range(len(prices)):\n",
        "    print(((price_pred['mean'].to_numpy() - prices)[i], price_pred['mean'][i], prices[i]))"
      ]
    },
    {
      "cell_type": "markdown",
      "id": "eEDpLiW0Zr_L",
      "metadata": {
        "id": "eEDpLiW0Zr_L"
      },
      "source": [
        "## Large Language Models\n",
        "\n",
        "If you used LLMs to generate or fix code in this assignment (recommended), briefly summarise the process and prompts you used. What do you think of the integration of LLMs in the data science pipeline?"
      ]
    },
    {
      "cell_type": "markdown",
      "id": "osdBm1BNaHL1",
      "metadata": {
        "id": "osdBm1BNaHL1"
      },
      "source": [
        "```GIVE YOUR WRITTEN ANSWER HERE```"
      ]
    },
    {
      "cell_type": "markdown",
      "id": "DJDQPmkLldvp",
      "metadata": {
        "id": "DJDQPmkLldvp"
      },
      "source": [
        "### FAQs\n",
        "\n",
        "- Why is my connection to the AWS server intermittent?\n",
        "\n",
        "If you are using Google Colab, online notebooks may throttle your code or time you out. Local Python code is recommended for tasks for large data management in the database.\n",
        "\n",
        "- Why do SQL queries take a long time?\n",
        "\n",
        "Some queries legitimately take a long time, even when done right. We suggest indexing your tables to speed up queries over your database. You can index tables by different columns depending on the queries you want to perform. For example, indexing the tables by `postcode` could speed up the join in Task D. More information regarding indexing in MariaDB is available [here](https://mariadb.com/kb/en/getting-started-with-indexes/).\n",
        "\n",
        "You may also want to consider creating single or multi-column indices on coordinates, or any other properties you use to select data, if that step is taking a long time.\n",
        "\n",
        "If your new queries seem stuck, try running `SHOW FULL PROCESSLIST`, and `KILL` any stuck processes.\n",
        "\n",
        "- Why are table populating processes taking so long?\n",
        "\n",
        "Again populating the database can take long. However, be careful if you are indexing the tables. You should populate data before indexing. Insert operations are impacted by indexes as they are updated with each new row inserted into the table.\n",
        "\n",
        "- Some other questions are answered in [this reddit forum](https://www.reddit.com/r/CST_ADS/) or [this doc](https://docs.google.com/document/d/1GfDROyUW8HVs2eyxmJzKrYGRdVyUiVXzPcDfwOO8wX0/edit?usp=sharing). Feel free to also ask about anything that comes up."
      ]
    }
  ],
  "metadata": {
    "colab": {
      "provenance": []
    },
    "kernelspec": {
      "display_name": "Python 3",
      "language": "python",
      "name": "python3"
    },
    "language_info": {
      "codemirror_mode": {
        "name": "ipython",
        "version": 3
      },
      "file_extension": ".py",
      "mimetype": "text/x-python",
      "name": "python",
      "nbconvert_exporter": "python",
      "pygments_lexer": "ipython3",
      "version": "3.11.6"
    }
  },
  "nbformat": 4,
  "nbformat_minor": 5
}
